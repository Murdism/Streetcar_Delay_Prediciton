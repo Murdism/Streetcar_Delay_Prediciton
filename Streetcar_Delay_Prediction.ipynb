{
  "nbformat": 4,
  "nbformat_minor": 0,
  "metadata": {
    "accelerator": "GPU",
    "colab": {
      "name": "Streetcar_Delay_Prediction.ipynb",
      "provenance": [],
      "collapsed_sections": []
    },
    "kernelspec": {
      "display_name": "Python 3",
      "name": "python3"
    },
    "language_info": {
      "name": "python"
    }
  },
  "cells": [
    {
      "cell_type": "markdown",
      "metadata": {
        "id": "XOrMm0jCd84e"
      },
      "source": [
        "**Name: Murad Smreteab Mebrahtu**\n",
        "\n",
        "**ID: 100043387**"
      ]
    },
    {
      "cell_type": "code",
      "metadata": {
        "colab": {
          "base_uri": "https://localhost:8080/",
          "height": 138
        },
        "id": "PVas7opUWRJ3",
        "outputId": "c771946f-3523-49f6-d2b5-094ee316a1d0"
      },
      "source": [
        "# Apply machine learning to predict and avoid streetcar delays using TTC Streetcar Delay Data\n",
        "'''Follow the Appendix B Machine Learning Project Checklist (uploaded to Content as pdf file) to develop a\n",
        "detailed plan for the development of your application. Each item from the checklist must be discussed\n",
        "and clearly specified how it will be handled in your project. Note, for “Shortlist Promising Models”\n",
        "subsection, you should start with 8-10 models (must include neural networks and XGBoost) and reduce\n",
        "to 3-5 best as per instructions.\n",
        "The first deliverable must include at minimum all up to Shortlist Promising Models step.\n",
        "The special focus of the final deliverable will be on how you have combined the best methods in order\n",
        "to achieve significant performance boost.\n",
        "Submission\n",
        "Submit all versions of your program, results, and slides in a zipped directory named COSC606_Project2\n",
        "_YourFirstAndLastName.zip and COSC606_ProjectFINAL _YourFirstAndLastName.zip. This project is to be\n",
        "done individually. You are allowed to discuss, brainstorm, and consult each other with respect to any\n",
        "issues or challenges, but all programming must be done individually. You will demo and present (15m)\n",
        "your project results in class as per the schedule announced later. '''"
      ],
      "execution_count": null,
      "outputs": [
        {
          "output_type": "execute_result",
          "data": {
            "application/vnd.google.colaboratory.intrinsic+json": {
              "type": "string"
            },
            "text/plain": [
              "'Follow the Appendix B Machine Learning Project Checklist (uploaded to Content as pdf file) to develop a\\ndetailed plan for the development of your application. Each item from the checklist must be discussed\\nand clearly specified how it will be handled in your project. Note, for “Shortlist Promising Models”\\nsubsection, you should start with 8-10 models (must include neural networks and XGBoost) and reduce\\nto 3-5 best as per instructions.\\nThe first deliverable must include at minimum all up to Shortlist Promising Models step.\\nThe special focus of the final deliverable will be on how you have combined the best methods in order\\nto achieve significant performance boost.\\nSubmission\\nSubmit all versions of your program, results, and slides in a zipped directory named COSC606_Project2\\n_YourFirstAndLastName.zip and COSC606_ProjectFINAL _YourFirstAndLastName.zip. This project is to be\\ndone individually. You are allowed to discuss, brainstorm, and consult each other with respect to any\\nissues or challenges, but all programming must be done individually. You will demo and present (15m)\\nyour project results in class as per the schedule announced later. '"
            ]
          },
          "metadata": {
            "tags": []
          },
          "execution_count": 1
        }
      ]
    },
    {
      "cell_type": "markdown",
      "metadata": {
        "id": "wlrxE1yncVYT"
      },
      "source": [
        ""
      ]
    },
    {
      "cell_type": "code",
      "metadata": {
        "colab": {
          "base_uri": "https://localhost:8080/"
        },
        "id": "-AvE3xjyCjXd",
        "outputId": "83633b12-6a49-4d86-a51f-b6793e1db4c1"
      },
      "source": [
        "from google.colab import drive\n",
        "drive.mount('/content/drive')"
      ],
      "execution_count": null,
      "outputs": [
        {
          "output_type": "stream",
          "text": [
            "Drive already mounted at /content/drive; to attempt to forcibly remount, call drive.mount(\"/content/drive\", force_remount=True).\n"
          ],
          "name": "stdout"
        }
      ]
    },
    {
      "cell_type": "code",
      "metadata": {
        "id": "GC9_hcwnbk4I"
      },
      "source": [
        "import pandas as pd\n",
        "import csv\n",
        "df_20= pd.concat(pd.read_excel('/content/drive/MyDrive/Project Machine Learning/ttc-streetcar-delay-data-2020.xlsx', sheet_name=None), ignore_index=True)\n",
        "df_19 = pd.concat(pd.read_excel('/content/drive/MyDrive/Project Machine Learning/ttc-streetcar-delay-data-2019.xlsx', sheet_name=None), ignore_index=True)\n",
        "df_18= pd.concat(pd.read_excel('/content/drive/MyDrive/Project Machine Learning/ttc-streetcar-delay-data-2018.xlsx', sheet_name=None), ignore_index=True)\n",
        "df_17 = pd.concat(pd.read_excel('/content/drive/MyDrive/Project Machine Learning/ttc-streetcar-delay-data-2017.xlsx', sheet_name=None), ignore_index=True)\n",
        "df_16 = pd.concat(pd.read_excel('/content/drive/MyDrive/Project Machine Learning/ttc-streetcar-delay-data-2016.xlsx', sheet_name=None), ignore_index=True)\n",
        "df_15 = pd.concat(pd.read_excel('/content/drive/MyDrive/Project Machine Learning/ttc-streetcar-delay-data-2015.xlsx', sheet_name=None), ignore_index=True)\n",
        "df_14 = pd.concat(pd.read_excel('/content/drive/MyDrive/Project Machine Learning/ttc-streetcar-delay-data-2014.xlsx', sheet_name=None), ignore_index=True)"
      ],
      "execution_count": null,
      "outputs": []
    },
    {
      "cell_type": "code",
      "metadata": {
        "colab": {
          "base_uri": "https://localhost:8080/",
          "height": 203
        },
        "id": "JfefbS6s9VBz",
        "outputId": "13e2ebf3-01f4-44ea-9d05-70b9ff3bb09a"
      },
      "source": [
        "#Rename colums to have the same name \n",
        "#Report Date\t, Route\t,Time\t, Day,\tLocation, Incident\t, Min Delay, \tMin Gap\t, Direction\t, Vehicle\n",
        "df_20 = df_20.rename(columns={'Delay': 'Min Delay' , 'Gap':'Min Gap'})\n",
        "df_20.head()"
      ],
      "execution_count": null,
      "outputs": [
        {
          "output_type": "execute_result",
          "data": {
            "text/html": [
              "<div>\n",
              "<style scoped>\n",
              "    .dataframe tbody tr th:only-of-type {\n",
              "        vertical-align: middle;\n",
              "    }\n",
              "\n",
              "    .dataframe tbody tr th {\n",
              "        vertical-align: top;\n",
              "    }\n",
              "\n",
              "    .dataframe thead th {\n",
              "        text-align: right;\n",
              "    }\n",
              "</style>\n",
              "<table border=\"1\" class=\"dataframe\">\n",
              "  <thead>\n",
              "    <tr style=\"text-align: right;\">\n",
              "      <th></th>\n",
              "      <th>Report Date</th>\n",
              "      <th>Route</th>\n",
              "      <th>Time</th>\n",
              "      <th>Day</th>\n",
              "      <th>Location</th>\n",
              "      <th>Incident</th>\n",
              "      <th>Min Delay</th>\n",
              "      <th>Min Gap</th>\n",
              "      <th>Direction</th>\n",
              "      <th>Vehicle</th>\n",
              "    </tr>\n",
              "  </thead>\n",
              "  <tbody>\n",
              "    <tr>\n",
              "      <th>0</th>\n",
              "      <td>2020-01-01</td>\n",
              "      <td>504</td>\n",
              "      <td>01:23:00</td>\n",
              "      <td>Wednesday</td>\n",
              "      <td>King and Dufferin</td>\n",
              "      <td>Mechanical</td>\n",
              "      <td>8.0</td>\n",
              "      <td>16.0</td>\n",
              "      <td>E/B</td>\n",
              "      <td>4446.0</td>\n",
              "    </tr>\n",
              "    <tr>\n",
              "      <th>1</th>\n",
              "      <td>2020-01-01</td>\n",
              "      <td>512</td>\n",
              "      <td>04:40:00</td>\n",
              "      <td>Wednesday</td>\n",
              "      <td>Queen/Parliament</td>\n",
              "      <td>Mechanical</td>\n",
              "      <td>23.0</td>\n",
              "      <td>46.0</td>\n",
              "      <td>W/B</td>\n",
              "      <td>4541.0</td>\n",
              "    </tr>\n",
              "    <tr>\n",
              "      <th>2</th>\n",
              "      <td>2020-01-01</td>\n",
              "      <td>504</td>\n",
              "      <td>06:17:00</td>\n",
              "      <td>Wednesday</td>\n",
              "      <td>Roncesvalles and Queen</td>\n",
              "      <td>Mechanical</td>\n",
              "      <td>6.0</td>\n",
              "      <td>14.0</td>\n",
              "      <td>W/B</td>\n",
              "      <td>4576.0</td>\n",
              "    </tr>\n",
              "    <tr>\n",
              "      <th>3</th>\n",
              "      <td>2020-01-01</td>\n",
              "      <td>504</td>\n",
              "      <td>07:50:00</td>\n",
              "      <td>Wednesday</td>\n",
              "      <td>King/Church</td>\n",
              "      <td>Mechanical</td>\n",
              "      <td>10.0</td>\n",
              "      <td>20.0</td>\n",
              "      <td>W/B</td>\n",
              "      <td>4486.0</td>\n",
              "    </tr>\n",
              "    <tr>\n",
              "      <th>4</th>\n",
              "      <td>2020-01-01</td>\n",
              "      <td>504</td>\n",
              "      <td>08:09:00</td>\n",
              "      <td>Wednesday</td>\n",
              "      <td>Queeen/ Roncesvalles</td>\n",
              "      <td>Mechanical</td>\n",
              "      <td>8.0</td>\n",
              "      <td>16.0</td>\n",
              "      <td>E/B</td>\n",
              "      <td>4504.0</td>\n",
              "    </tr>\n",
              "  </tbody>\n",
              "</table>\n",
              "</div>"
            ],
            "text/plain": [
              "  Report Date  Route      Time  ... Min Gap Direction Vehicle\n",
              "0  2020-01-01    504  01:23:00  ...    16.0       E/B  4446.0\n",
              "1  2020-01-01    512  04:40:00  ...    46.0       W/B  4541.0\n",
              "2  2020-01-01    504  06:17:00  ...    14.0       W/B  4576.0\n",
              "3  2020-01-01    504  07:50:00  ...    20.0       W/B  4486.0\n",
              "4  2020-01-01    504  08:09:00  ...    16.0       E/B  4504.0\n",
              "\n",
              "[5 rows x 10 columns]"
            ]
          },
          "metadata": {
            "tags": []
          },
          "execution_count": 4
        }
      ]
    },
    {
      "cell_type": "code",
      "metadata": {
        "id": "Y0LZmq67dSpt"
      },
      "source": [
        "# For 2019 different moths have different naming of the colums ...Min Gap and Min Delay are called gap and Delay in some moths\n",
        "df_19_4=pd.read_excel('/content/drive/MyDrive/Project Machine Learning/ttc-streetcar-delay-data-2019.xlsx', sheet_name='Apr 2019')\n",
        "df_19_6=pd.read_excel('/content/drive/MyDrive/Project Machine Learning/ttc-streetcar-delay-data-2019.xlsx', sheet_name='June 2019 ')\n",
        "df_19_11=pd.read_excel('/content/drive/MyDrive/Project Machine Learning/ttc-streetcar-delay-data-2019.xlsx', sheet_name=' Nov 2019')\n",
        "df_19_12=pd.read_excel('/content/drive/MyDrive/Project Machine Learning/ttc-streetcar-delay-data-2019.xlsx', sheet_name='Dec 2019')\n",
        "\n",
        "# Months with the correct format\n",
        "df_19_1=pd.read_excel('/content/drive/MyDrive/Project Machine Learning/ttc-streetcar-delay-data-2019.xlsx', sheet_name='Jan 2019 ')\n",
        "df_19_2=pd.read_excel('/content/drive/MyDrive/Project Machine Learning/ttc-streetcar-delay-data-2019.xlsx', sheet_name='Feb 2019 ')\n",
        "df_19_3=pd.read_excel('/content/drive/MyDrive/Project Machine Learning/ttc-streetcar-delay-data-2019.xlsx', sheet_name='Mar 2019 ')\n",
        "df_19_5=pd.read_excel('/content/drive/MyDrive/Project Machine Learning/ttc-streetcar-delay-data-2019.xlsx', sheet_name='May 2019 ')\n",
        "df_19_7=pd.read_excel('/content/drive/MyDrive/Project Machine Learning/ttc-streetcar-delay-data-2019.xlsx', sheet_name='July 2019 ')\n",
        "df_19_8=pd.read_excel('/content/drive/MyDrive/Project Machine Learning/ttc-streetcar-delay-data-2019.xlsx', sheet_name='Aug, 2019 ')\n",
        "df_19_9=pd.read_excel('/content/drive/MyDrive/Project Machine Learning/ttc-streetcar-delay-data-2019.xlsx', sheet_name='Sept 2019 ')\n",
        "df_19_10=pd.read_excel('/content/drive/MyDrive/Project Machine Learning/ttc-streetcar-delay-data-2019.xlsx', sheet_name='Oct 2019 ')"
      ],
      "execution_count": null,
      "outputs": []
    },
    {
      "cell_type": "code",
      "metadata": {
        "id": "5eSM1RsP_V_e"
      },
      "source": [
        "# concatinate data frames and change the format \n",
        "df_19_concat1 = pd.concat([df_19_4, df_19_6,df_19_11,df_19_12], ignore_index=True)\n",
        "df_19_concat1= df_19_concat1.rename(columns={'Delay': 'Min Delay' , 'Gap':'Min Gap'})\n",
        "df_19_concat2 = pd.concat([df_19_1, df_19_2,df_19_3,df_19_5,df_19_7,df_19_8,df_19_9,df_19_10], ignore_index=True)\n",
        "\n",
        "# concatinate all sheets of 2019\n",
        "df_19 = pd.concat([df_19_concat1,df_19_concat2], ignore_index=True)\n",
        "\n",
        "# Remove the extra column : \"Incident ID\"\n",
        "df_19 = df_19.drop(['Incident ID'], axis=1)"
      ],
      "execution_count": null,
      "outputs": []
    },
    {
      "cell_type": "code",
      "metadata": {
        "id": "AZUi4puDALIk"
      },
      "source": [
        "df_all = pd.concat([df_14,df_15,df_16,df_17,df_18,df_19,df_20], ignore_index=True)"
      ],
      "execution_count": null,
      "outputs": []
    },
    {
      "cell_type": "code",
      "metadata": {
        "id": "P7yuQJW4FOFL"
      },
      "source": [
        "df_all.dropna(axis=0, how='any',inplace=True)"
      ],
      "execution_count": null,
      "outputs": []
    },
    {
      "cell_type": "markdown",
      "metadata": {
        "id": "B3wN9nemlID1"
      },
      "source": [
        "The aim of this project is to predict if there is going to be delay of streetcar given the route, direction and time of departure."
      ]
    },
    {
      "cell_type": "code",
      "metadata": {
        "colab": {
          "base_uri": "https://localhost:8080/",
          "height": 121
        },
        "id": "BIu7aBwKNVmb",
        "outputId": "5caa2340-acc1-494f-9338-8bfedaf609dc"
      },
      "source": [
        "'''preparing trianing data\n",
        " First lets remove data that is not known at the prediction time.\n",
        " Those are the features that cause data leakage.\n",
        " Min Gap, Incident.\n",
        "\n",
        "We want to predict the delay or if there is delay, before any incident happens, therefore \n",
        "Incident type and and Id are not used for training. If we wish to predict delay after a specific incident\n",
        "happens then we can use the incident data as a feature. Similarly, Min Gap is not known until after an \n",
        "incident occurs and delay is caused, therefore it is removed as well. Those two are the main causes of \n",
        "data leakage.\n",
        "\n",
        " Moreover, location is also removed at this stage, since the given location is related to the incident.\n",
        " if the location data can be interpreted to corelate with routes such that we know which routes pass \n",
        " through the incident location, we can  derive a new feature in relation to the route and incident \n",
        " locations  from previous training data. Otherwise location as a feature serves no purposes since it is not\n",
        " known before prediction.\n",
        " For now location is ignored.\n",
        "'''"
      ],
      "execution_count": null,
      "outputs": [
        {
          "output_type": "execute_result",
          "data": {
            "application/vnd.google.colaboratory.intrinsic+json": {
              "type": "string"
            },
            "text/plain": [
              "'preparing trianing data\\n First lets remove data that is not known at the prediction time.\\n Those are the features that cause data leakage.\\n Min Gap, Incident.\\n\\nWe want to predict the delay or if there is delay, before any incident happens, therefore \\nIncident type and and Id are not used for training. If we wish to predict delay after a specific incident\\nhappens then we can use the incident data as a feature. Similarly, Min Gap is not known until after an \\nincident occurs and delay is caused, therefore it is removed as well. Those two are the main causes of \\ndata leakage.\\n\\n Moreover, location is also removed at this stage, since the given location is related to the incident.\\n if the location data can be interpreted to corelate with routes such that we know which routes pass \\n through the incident location, we can  derive a new feature in relation to the route and incident \\n locations  from previous training data. Otherwise location as a feature serves no purposes since it is not\\n known before prediction.\\n For now location is ignored.\\n'"
            ]
          },
          "metadata": {
            "tags": []
          },
          "execution_count": 9
        }
      ]
    },
    {
      "cell_type": "code",
      "metadata": {
        "id": "Lh3evWFVwTmL"
      },
      "source": [
        "def timeTohour(t):\n",
        "  x=t.split(':')\n",
        "  return float(x[0])"
      ],
      "execution_count": null,
      "outputs": []
    },
    {
      "cell_type": "code",
      "metadata": {
        "colab": {
          "base_uri": "https://localhost:8080/"
        },
        "id": "kgFtjWWRoS7C",
        "outputId": "e9b70f50-2d67-4801-89f3-cf355a267c34"
      },
      "source": [
        "import warnings\n",
        "warnings.filterwarnings(\"ignore\")\n",
        "df_selected=df_all[['Report Date','Route','Time','Day','Direction','Min Delay']]\n",
        "\n",
        "# Dividing the Report date into year month and date\n",
        "df_selected['Year'] = pd.DatetimeIndex(df_selected['Report Date']).year\n",
        "df_selected['Month'] = pd.DatetimeIndex(df_selected['Report Date']).month\n",
        "df_selected['Date'] = pd.DatetimeIndex(df_selected['Report Date']).day\n",
        "\n",
        "# Remove the Report date data since we already have the data in three columns\n",
        "df_selected.drop('Report Date',axis=1, inplace=True)\n",
        "\n",
        "#change the time into slots of 24 hours\n",
        "df_selected['Hour'] =[time.hour for time in df_selected['Time']]\n",
        "\n",
        "# Remove the time data since we already have the hours\n",
        "df_selected.drop('Time',axis=1, inplace=True)\n",
        "\n",
        "# change the date name from text to numerical by encoding\n",
        "df_selected['Day'],uniqueDays = pd.factorize(df_selected['Day'],sort=True)\n",
        "print(\"Unique Days are: \", uniqueDays)\n",
        "\n",
        "# Similarly, change the direction name from text to numerical by encoding\n",
        "df_selected['Direction_factorized'],uniqueDirections = pd.factorize(df_selected['Direction'])\n",
        "print(\"Number of Unique Directions is:\", len(uniqueDirections))\n",
        "\n",
        "# From the results, it is shown that there are around 90 unique directions. Only 5 directions should \n",
        "#exist , i.e EB,NB,SB,WB and both ways.... to avoid difference caused due to case sensitivity, the \n",
        "#directions are changed to lower case strings\n",
        "df_selected['Direction']=df_selected['Direction'].astype(str)\n",
        "df_selected['Direction']=df_selected['Direction'].apply(lambda x: x.lower())\n",
        "print(\"Number of Unique Directions is: \", len(df_selected['Direction'].unique()))"
      ],
      "execution_count": null,
      "outputs": [
        {
          "output_type": "stream",
          "text": [
            "Unique Days are:  Index(['Friday', 'Monday', 'Saturday', 'Sunday', 'Thursday', 'Tuesday',\n",
            "       'Wednesday'],\n",
            "      dtype='object')\n",
            "Number of Unique Directions is: 90\n",
            "Number of Unique Directions is:  73\n"
          ],
          "name": "stdout"
        }
      ]
    },
    {
      "cell_type": "code",
      "metadata": {
        "colab": {
          "base_uri": "https://localhost:8080/"
        },
        "id": "WIPRCW9ld80Z",
        "outputId": "e9704ae9-9fff-4ec2-b01a-4680f2752d49"
      },
      "source": [
        "# Analize the direction data unique values after changing to lower case (73 unique values)\n",
        "from collections import Counter\n",
        "from operator import itemgetter\n",
        "from collections import OrderedDict\n",
        "unique_values=Counter(df_selected['Direction'])\n",
        "sorted_unique_values = OrderedDict(sorted(unique_values.items(), key=itemgetter(1)))\n",
        "print(sorted_unique_values)"
      ],
      "execution_count": null,
      "outputs": [
        {
          "output_type": "stream",
          "text": [
            "OrderedDict([('southbound', 1), ('northbound', 1), ('b#', 1), ('we', 1), ('14', 1), ('0', 1), ('sw', 1), ('506', 1), ('54495', 1), ('4075', 1), ('bs', 1), ('wruiter adv', 1), ('(ref', 1), ('gap', 1), ('1114', 1), ('run', 1), ('ss', 1), ('19', 1), ('68029', 1), ('eb``', 1), ('512', 1), ('w`', 1), ('\\\\5', 1), ('7', 1), ('13', 1), ('-bd#', 1), ('`', 1), ('510', 1), ('w.b', 1), ('\\\\', 1), ('w\\\\b', 1), ('n', 1), ('20', 1), ('ee', 1), ('.', 1), ('see also', 1), ('e5', 1), ('relief operator. ga', 1), ('18', 1), ('15', 1), ('33', 1), ('nbn', 1), ('31087', 1), ('wn', 1), ('westbound', 2), ('service adjusted', 2), ('2', 2), ('6', 2), ('4', 2), ('30', 2), ('26', 2), ('3', 2), ('r', 2), ('s', 3), ('service adjusted.', 3), ('9', 3), ('10', 3), ('8', 3), ('ew', 6), ('5', 6), ('e', 7), ('eastbound', 8), ('w', 11), ('bw', 16), ('nb', 38), ('sb', 45), ('wb', 216), ('eb', 309), ('b/w', 3233), ('s/b', 5795), ('n/b', 5872), ('e/b', 30379), ('w/b', 31442)])\n"
          ],
          "name": "stdout"
        }
      ]
    },
    {
      "cell_type": "code",
      "metadata": {
        "id": "G5T-jQszghQP"
      },
      "source": [
        "#From the results of sorted the most significant errors are the following:\n",
        "''' b/w ---instead of w/b 5347\n",
        "    nan--empty 309 ---nothing can be done ---they should be removed\n",
        "    wb--w/b 223\n",
        "    sb--s/b 45\n",
        "    nb--38\n",
        "    bw--25\n",
        "    The rest of the classes hold less than 20 elements each, with most having one element so they can be\n",
        "    savely ignored\n",
        "    '''\n",
        "def correct_format(txt):\n",
        "        if (txt=='wb'  or txt=='westbound'):\n",
        "          return 'w/b'\n",
        "        elif (txt=='sb' or txt=='southbound'):\n",
        "          return 's/b'\n",
        "        elif (txt=='nb' or txt=='northbound'):\n",
        "          return 'n/b'\n",
        "        elif (txt=='eb' or txt== 'eastbound'):\n",
        "          return 'e/b'\n",
        "        # elif (txt=='bw' or txt=='b/w' or txt=='b' or txt=='B'): # no streercars working both ways\n",
        "        #   return 'e/w'\n",
        "        else:\n",
        "          return txt"
      ],
      "execution_count": null,
      "outputs": []
    },
    {
      "cell_type": "code",
      "metadata": {
        "colab": {
          "base_uri": "https://localhost:8080/"
        },
        "id": "wNGEWBacjWvv",
        "outputId": "8614d868-cc24-42d2-85b0-42587414703f"
      },
      "source": [
        "df_selected['Direction']= df_selected['Direction'].apply(lambda x: correct_format(x))\n",
        "print(\"Number of Unique Directions is: \",len(df_selected['Direction'].unique()))\n",
        "print(\"Data size is: \",df_selected.shape)\n",
        "\n",
        "# by replacing the format of the most elements , the number of unique value was reduced to 65\n",
        "# The total number of data entries is 77,460\n",
        "# now that most of the important directions are set in either of the five categories, it is time to remove \n",
        "# the entries that are either empty or do not have the correct direction format"
      ],
      "execution_count": null,
      "outputs": [
        {
          "output_type": "stream",
          "text": [
            "Number of Unique Directions is:  65\n",
            "Data size is:  (77460, 9)\n"
          ],
          "name": "stdout"
        }
      ]
    },
    {
      "cell_type": "code",
      "metadata": {
        "id": "WX_uvY_1shiM"
      },
      "source": [
        "directions_value={'s/b','n/b','e/b','w/b','e/w'}\n",
        "def change_direction(txt):\n",
        "    if (txt  in directions_value):\n",
        "       return txt\n",
        "    else:\n",
        "       return 'NaN'     \n",
        "df_selected['Direction']=df_selected['Direction'].apply(lambda x: change_direction(x))"
      ],
      "execution_count": null,
      "outputs": []
    },
    {
      "cell_type": "code",
      "metadata": {
        "colab": {
          "base_uri": "https://localhost:8080/"
        },
        "id": "kgCvv4kUi-v0",
        "outputId": "785fb643-091d-4551-ef96-a60d32ec9fc1"
      },
      "source": [
        "#Print  change results\n",
        "print(\"Number of Unique Directions is: \",len(df_selected['Direction'].unique()))\n",
        "print(\"Unique Directions are : \",df_selected['Direction'].unique())"
      ],
      "execution_count": null,
      "outputs": [
        {
          "output_type": "stream",
          "text": [
            "Number of Unique Directions is:  5\n",
            "Unique Directions are :  ['e/b' 'w/b' 's/b' 'n/b' 'NaN']\n"
          ],
          "name": "stdout"
        }
      ]
    },
    {
      "cell_type": "code",
      "metadata": {
        "colab": {
          "base_uri": "https://localhost:8080/"
        },
        "id": "pokhL4mGkKP7",
        "outputId": "1795e04b-53c6-42af-8818-1622178cf205"
      },
      "source": [
        "# after changing the direction names, we have 6 direction names including 'NaN'\n",
        "# we need to remove the 'NaN' values\n",
        "df_selected.drop(df_selected[df_selected['Direction'] == 'NaN'].index, inplace = True)\n",
        "print(\"Data size is: \",df_selected.shape)\n",
        "\n",
        "# Rest the index to represent the number of rows\n",
        "df_selected.reset_index(drop=True, inplace=True)\n",
        "\n",
        "# remove direction factorization and instead replace direction by actual encoded data\n",
        "df_selected.drop('Direction_factorized',axis=1,inplace=True)\n",
        "\n",
        "# encode Direction\n",
        "df_selected['Direction'],uniqueDirections=pd.factorize(df_selected['Direction'],sort=True)\n",
        "print(\" Unique Directions order is:\", uniqueDirections)\n",
        "df_tester=df_selected[['Route','Day','Direction','Year','Month','Date','Hour']]"
      ],
      "execution_count": null,
      "outputs": [
        {
          "output_type": "stream",
          "text": [
            "Data size is:  (74108, 9)\n",
            " Unique Directions order is: Index(['e/b', 'n/b', 's/b', 'w/b'], dtype='object')\n"
          ],
          "name": "stdout"
        }
      ]
    },
    {
      "cell_type": "markdown",
      "metadata": {
        "id": "IcJ26SslrN2_"
      },
      "source": [
        "After the data cleansing stage 77,357 data entries are left. each with 7 features, i.e Route\tDay\tDirection\tYear\tMonth\tDate\tHour."
      ]
    },
    {
      "cell_type": "code",
      "metadata": {
        "colab": {
          "base_uri": "https://localhost:8080/",
          "height": 308
        },
        "id": "a_BKxdDsteSd",
        "outputId": "44a8ec14-c924-46d0-c496-81e4f7c4b7be"
      },
      "source": [
        "#number of unquie routes \n",
        "# Currently the avilable Rotes are 501,503,504,505,506,508,509,510,511,512\n",
        "availabe_routes=[501,503,504,505,506,508,509,510,511,512,301,304,306,310]\n",
        "x=df_selected['Route'].value_counts()\n",
        "print(\"Top 20 routes with the highest data\")\n",
        "print(x[0:20].plot(kind='bar'))\n",
        "#print(df_selected['Route'].value_counts().plot(kind='bar'))\n",
        "#print(df_selected['Route'].nunique())\n",
        "#df_selected.Route.unique()"
      ],
      "execution_count": null,
      "outputs": [
        {
          "output_type": "stream",
          "text": [
            "Top 20 routes with the highest data\n",
            "AxesSubplot(0.125,0.125;0.775x0.755)\n"
          ],
          "name": "stdout"
        },
        {
          "output_type": "display_data",
          "data": {
            "image/png": "[encoded data removed]",
            "text/plain": [
              "<Figure size 432x288 with 1 Axes>"
            ]
          },
          "metadata": {
            "tags": [],
            "needs_background": "light"
          }
        }
      ]
    },
    {
      "cell_type": "code",
      "metadata": {
        "colab": {
          "base_uri": "https://localhost:8080/"
        },
        "id": "7eUSGXatE0Ed",
        "outputId": "5a5032c2-2e57-4fcc-c3ac-725551446e36"
      },
      "source": [
        "def change_routes(route):\n",
        "    if (route  in availabe_routes):\n",
        "       return route\n",
        "    else:\n",
        "       return 'NaN'     \n",
        "df_selected['Route']=df_selected['Route'].apply(lambda x: change_routes(x))\n",
        "print(\"Number of unique routes is: \",len(df_selected.Route.unique()))"
      ],
      "execution_count": null,
      "outputs": [
        {
          "output_type": "stream",
          "text": [
            "Number of unique routes is:  15\n"
          ],
          "name": "stdout"
        }
      ]
    },
    {
      "cell_type": "code",
      "metadata": {
        "colab": {
          "base_uri": "https://localhost:8080/",
          "height": 220
        },
        "id": "Cr19wCV-F46M",
        "outputId": "c3322b96-1fbe-4037-e9df-dbe515d21e97"
      },
      "source": [
        "# after changing the route names, we have 15 route names including 'NaN' (from print above)\n",
        "# we need to remove the 'NaN' values\n",
        "df_selected.drop(df_selected[df_selected['Route'] == 'NaN'].index, inplace = True)\n",
        "print(\"Data size is: \",df_selected.shape)\n",
        "df_selected.head()"
      ],
      "execution_count": null,
      "outputs": [
        {
          "output_type": "stream",
          "text": [
            "Data size is:  (70642, 8)\n"
          ],
          "name": "stdout"
        },
        {
          "output_type": "execute_result",
          "data": {
            "text/html": [
              "<div>\n",
              "<style scoped>\n",
              "    .dataframe tbody tr th:only-of-type {\n",
              "        vertical-align: middle;\n",
              "    }\n",
              "\n",
              "    .dataframe tbody tr th {\n",
              "        vertical-align: top;\n",
              "    }\n",
              "\n",
              "    .dataframe thead th {\n",
              "        text-align: right;\n",
              "    }\n",
              "</style>\n",
              "<table border=\"1\" class=\"dataframe\">\n",
              "  <thead>\n",
              "    <tr style=\"text-align: right;\">\n",
              "      <th></th>\n",
              "      <th>Route</th>\n",
              "      <th>Day</th>\n",
              "      <th>Direction</th>\n",
              "      <th>Min Delay</th>\n",
              "      <th>Year</th>\n",
              "      <th>Month</th>\n",
              "      <th>Date</th>\n",
              "      <th>Hour</th>\n",
              "    </tr>\n",
              "  </thead>\n",
              "  <tbody>\n",
              "    <tr>\n",
              "      <th>0</th>\n",
              "      <td>505</td>\n",
              "      <td>4</td>\n",
              "      <td>0</td>\n",
              "      <td>4.0</td>\n",
              "      <td>2014</td>\n",
              "      <td>1</td>\n",
              "      <td>2</td>\n",
              "      <td>6</td>\n",
              "    </tr>\n",
              "    <tr>\n",
              "      <th>1</th>\n",
              "      <td>504</td>\n",
              "      <td>4</td>\n",
              "      <td>0</td>\n",
              "      <td>20.0</td>\n",
              "      <td>2014</td>\n",
              "      <td>1</td>\n",
              "      <td>2</td>\n",
              "      <td>12</td>\n",
              "    </tr>\n",
              "    <tr>\n",
              "      <th>2</th>\n",
              "      <td>501</td>\n",
              "      <td>4</td>\n",
              "      <td>3</td>\n",
              "      <td>13.0</td>\n",
              "      <td>2014</td>\n",
              "      <td>1</td>\n",
              "      <td>2</td>\n",
              "      <td>14</td>\n",
              "    </tr>\n",
              "    <tr>\n",
              "      <th>3</th>\n",
              "      <td>504</td>\n",
              "      <td>4</td>\n",
              "      <td>3</td>\n",
              "      <td>7.0</td>\n",
              "      <td>2014</td>\n",
              "      <td>1</td>\n",
              "      <td>2</td>\n",
              "      <td>14</td>\n",
              "    </tr>\n",
              "    <tr>\n",
              "      <th>4</th>\n",
              "      <td>504</td>\n",
              "      <td>4</td>\n",
              "      <td>0</td>\n",
              "      <td>3.0</td>\n",
              "      <td>2014</td>\n",
              "      <td>1</td>\n",
              "      <td>2</td>\n",
              "      <td>16</td>\n",
              "    </tr>\n",
              "  </tbody>\n",
              "</table>\n",
              "</div>"
            ],
            "text/plain": [
              "  Route  Day  Direction  Min Delay  Year  Month  Date  Hour\n",
              "0   505    4          0        4.0  2014      1     2     6\n",
              "1   504    4          0       20.0  2014      1     2    12\n",
              "2   501    4          3       13.0  2014      1     2    14\n",
              "3   504    4          3        7.0  2014      1     2    14\n",
              "4   504    4          0        3.0  2014      1     2    16"
            ]
          },
          "metadata": {
            "tags": []
          },
          "execution_count": 20
        }
      ]
    },
    {
      "cell_type": "code",
      "metadata": {
        "colab": {
          "base_uri": "https://localhost:8080/",
          "height": 291
        },
        "id": "ChrNICMuG-dS",
        "outputId": "b7eb6ffc-44ae-4017-ca9a-d9546dd91619"
      },
      "source": [
        "print(df_selected['Route'].value_counts().plot(kind='bar'))"
      ],
      "execution_count": null,
      "outputs": [
        {
          "output_type": "stream",
          "text": [
            "AxesSubplot(0.125,0.125;0.775x0.755)\n"
          ],
          "name": "stdout"
        },
        {
          "output_type": "display_data",
          "data": {
            "image/png": "[encoded data removed]",
            "text/plain": [
              "<Figure size 432x288 with 1 Axes>"
            ]
          },
          "metadata": {
            "tags": [],
            "needs_background": "light"
          }
        }
      ]
    },
    {
      "cell_type": "markdown",
      "metadata": {
        "id": "zo2cKkivGOSu"
      },
      "source": [
        "After removing routes that are not currently functional, the data is reduced by 4.7% with  73,717  entries left."
      ]
    },
    {
      "cell_type": "code",
      "metadata": {
        "colab": {
          "base_uri": "https://localhost:8080/",
          "height": 709
        },
        "id": "rjYU1S32JhvG",
        "outputId": "219e0481-10db-4f2c-9aaa-e878ab7a9e76"
      },
      "source": [
        "import seaborn as sns\n",
        "import matplotlib.pyplot as plt\n",
        "sns.heatmap(df_selected.corr(),annot = True,cmap= 'plasma')\n",
        "df_selected"
      ],
      "execution_count": null,
      "outputs": [
        {
          "output_type": "execute_result",
          "data": {
            "text/html": [
              "<div>\n",
              "<style scoped>\n",
              "    .dataframe tbody tr th:only-of-type {\n",
              "        vertical-align: middle;\n",
              "    }\n",
              "\n",
              "    .dataframe tbody tr th {\n",
              "        vertical-align: top;\n",
              "    }\n",
              "\n",
              "    .dataframe thead th {\n",
              "        text-align: right;\n",
              "    }\n",
              "</style>\n",
              "<table border=\"1\" class=\"dataframe\">\n",
              "  <thead>\n",
              "    <tr style=\"text-align: right;\">\n",
              "      <th></th>\n",
              "      <th>Route</th>\n",
              "      <th>Day</th>\n",
              "      <th>Direction</th>\n",
              "      <th>Min Delay</th>\n",
              "      <th>Year</th>\n",
              "      <th>Month</th>\n",
              "      <th>Date</th>\n",
              "      <th>Hour</th>\n",
              "    </tr>\n",
              "  </thead>\n",
              "  <tbody>\n",
              "    <tr>\n",
              "      <th>0</th>\n",
              "      <td>505</td>\n",
              "      <td>4</td>\n",
              "      <td>0</td>\n",
              "      <td>4.0</td>\n",
              "      <td>2014</td>\n",
              "      <td>1</td>\n",
              "      <td>2</td>\n",
              "      <td>6</td>\n",
              "    </tr>\n",
              "    <tr>\n",
              "      <th>1</th>\n",
              "      <td>504</td>\n",
              "      <td>4</td>\n",
              "      <td>0</td>\n",
              "      <td>20.0</td>\n",
              "      <td>2014</td>\n",
              "      <td>1</td>\n",
              "      <td>2</td>\n",
              "      <td>12</td>\n",
              "    </tr>\n",
              "    <tr>\n",
              "      <th>2</th>\n",
              "      <td>501</td>\n",
              "      <td>4</td>\n",
              "      <td>3</td>\n",
              "      <td>13.0</td>\n",
              "      <td>2014</td>\n",
              "      <td>1</td>\n",
              "      <td>2</td>\n",
              "      <td>14</td>\n",
              "    </tr>\n",
              "    <tr>\n",
              "      <th>3</th>\n",
              "      <td>504</td>\n",
              "      <td>4</td>\n",
              "      <td>3</td>\n",
              "      <td>7.0</td>\n",
              "      <td>2014</td>\n",
              "      <td>1</td>\n",
              "      <td>2</td>\n",
              "      <td>14</td>\n",
              "    </tr>\n",
              "    <tr>\n",
              "      <th>4</th>\n",
              "      <td>504</td>\n",
              "      <td>4</td>\n",
              "      <td>0</td>\n",
              "      <td>3.0</td>\n",
              "      <td>2014</td>\n",
              "      <td>1</td>\n",
              "      <td>2</td>\n",
              "      <td>16</td>\n",
              "    </tr>\n",
              "    <tr>\n",
              "      <th>...</th>\n",
              "      <td>...</td>\n",
              "      <td>...</td>\n",
              "      <td>...</td>\n",
              "      <td>...</td>\n",
              "      <td>...</td>\n",
              "      <td>...</td>\n",
              "      <td>...</td>\n",
              "      <td>...</td>\n",
              "    </tr>\n",
              "    <tr>\n",
              "      <th>74103</th>\n",
              "      <td>501</td>\n",
              "      <td>3</td>\n",
              "      <td>3</td>\n",
              "      <td>10.0</td>\n",
              "      <td>2020</td>\n",
              "      <td>7</td>\n",
              "      <td>26</td>\n",
              "      <td>12</td>\n",
              "    </tr>\n",
              "    <tr>\n",
              "      <th>74104</th>\n",
              "      <td>301</td>\n",
              "      <td>1</td>\n",
              "      <td>0</td>\n",
              "      <td>25.0</td>\n",
              "      <td>2020</td>\n",
              "      <td>7</td>\n",
              "      <td>27</td>\n",
              "      <td>2</td>\n",
              "    </tr>\n",
              "    <tr>\n",
              "      <th>74105</th>\n",
              "      <td>306</td>\n",
              "      <td>1</td>\n",
              "      <td>0</td>\n",
              "      <td>19.0</td>\n",
              "      <td>2020</td>\n",
              "      <td>7</td>\n",
              "      <td>27</td>\n",
              "      <td>2</td>\n",
              "    </tr>\n",
              "    <tr>\n",
              "      <th>74106</th>\n",
              "      <td>504</td>\n",
              "      <td>1</td>\n",
              "      <td>0</td>\n",
              "      <td>10.0</td>\n",
              "      <td>2020</td>\n",
              "      <td>8</td>\n",
              "      <td>3</td>\n",
              "      <td>0</td>\n",
              "    </tr>\n",
              "    <tr>\n",
              "      <th>74107</th>\n",
              "      <td>501</td>\n",
              "      <td>1</td>\n",
              "      <td>3</td>\n",
              "      <td>10.0</td>\n",
              "      <td>2020</td>\n",
              "      <td>8</td>\n",
              "      <td>3</td>\n",
              "      <td>23</td>\n",
              "    </tr>\n",
              "  </tbody>\n",
              "</table>\n",
              "<p>70642 rows × 8 columns</p>\n",
              "</div>"
            ],
            "text/plain": [
              "      Route  Day  Direction  Min Delay  Year  Month  Date  Hour\n",
              "0       505    4          0        4.0  2014      1     2     6\n",
              "1       504    4          0       20.0  2014      1     2    12\n",
              "2       501    4          3       13.0  2014      1     2    14\n",
              "3       504    4          3        7.0  2014      1     2    14\n",
              "4       504    4          0        3.0  2014      1     2    16\n",
              "...     ...  ...        ...        ...   ...    ...   ...   ...\n",
              "74103   501    3          3       10.0  2020      7    26    12\n",
              "74104   301    1          0       25.0  2020      7    27     2\n",
              "74105   306    1          0       19.0  2020      7    27     2\n",
              "74106   504    1          0       10.0  2020      8     3     0\n",
              "74107   501    1          3       10.0  2020      8     3    23\n",
              "\n",
              "[70642 rows x 8 columns]"
            ]
          },
          "metadata": {
            "tags": []
          },
          "execution_count": 22
        },
        {
          "output_type": "display_data",
          "data": {
            "image/png": "[encoded data removed]",
            "text/plain": [
              "<Figure size 432x288 with 2 Axes>"
            ]
          },
          "metadata": {
            "tags": [],
            "needs_background": "light"
          }
        }
      ]
    },
    {
      "cell_type": "code",
      "metadata": {
        "colab": {
          "base_uri": "https://localhost:8080/"
        },
        "id": "CYtihuz0KsHr",
        "outputId": "54752d33-929f-4cfe-9054-b617dce2810a"
      },
      "source": [
        "''' From the correlation plot we can see that there is small to none correlation between the features \n",
        "and the delay at a route. Moreover the data currently avilable is only for the times when accident happened\n",
        "so it can only be used to predict the expected delay when an incident occurs and the prediction is done\n",
        "after the fact. \n",
        "\n",
        "Just to see the results of a model trained to predict the time delay without incident information, \n",
        "a polynomial regression model is trained.\n",
        "'''\n",
        "\n",
        "from sklearn import linear_model\n",
        "from sklearn.model_selection import train_test_split\n",
        "from sklearn.preprocessing import PolynomialFeatures\n",
        "from sklearn.linear_model import LinearRegression\n",
        "import sklearn.metrics as sm\n",
        "\n",
        "df_x=df_selected[['Route','Hour','Month','Day','Direction']]\n",
        "df_y=df_selected[['Min Delay']]\n",
        "x_train, x_test, y_train, y_test = train_test_split(df_x,df_y,train_size = 0.8)\n",
        "\n",
        "poly = PolynomialFeatures(degree=4)\n",
        "x_train = poly.fit_transform(x_train)\n",
        "x_test = poly.fit_transform(x_test)\n",
        "\n",
        "# Instantiate\n",
        "reg = LinearRegression()\n",
        "\n",
        "# Fit\n",
        "reg.fit(x_train, y_train)\n",
        "# reg.fit(x_train,y_train)\n",
        "y_test_pred= reg.predict(x_test)\n",
        "\n",
        "#Result analysis\n",
        "print(\"Mean absolute error =\", round(sm.mean_absolute_error(y_test, y_test_pred), 2)) \n",
        "print(\"Mean squared error =\", round(sm.mean_squared_error(y_test, y_test_pred), 2)) \n",
        "print(\"Median absolute error =\", round(sm.median_absolute_error(y_test, y_test_pred), 2)) \n",
        "print(\"Explain variance score =\", round(sm.explained_variance_score(y_test, y_test_pred), 2)) \n",
        "print(\"R2 score =\", round(sm.r2_score(y_test, y_test_pred), 2))"
      ],
      "execution_count": null,
      "outputs": [
        {
          "output_type": "stream",
          "text": [
            "Mean absolute error = 9.17\n",
            "Mean squared error = 606.09\n",
            "Median absolute error = 5.89\n",
            "Explain variance score = 0.0\n",
            "R2 score = 0.0\n"
          ],
          "name": "stdout"
        }
      ]
    },
    {
      "cell_type": "code",
      "metadata": {
        "colab": {
          "base_uri": "https://localhost:8080/",
          "height": 121
        },
        "id": "pwFTgnL8dW7A",
        "outputId": "1bf55e9d-74d1-4c38-8426-f80c90f0132d"
      },
      "source": [
        "'''From the results of the above model, it can be observed that it is unrealstic and inaccurate to predict \n",
        "the delay time expected just from the route,date,direction and time. \n",
        "Moreover, as mentioned above, the model uses data that contains delays only, so it can not predict no \n",
        "delay, therefore it is not the best application of the data for prediction.\n",
        "\n",
        "\n",
        "The best use of the given data is to predict if there is going to be a delay or not (binary classification)\n",
        "on a specific route going to a specific direction at a specific time.\n",
        "To do this however we will need to add the missing information of no delay times\n",
        " (when the Streetcar actually arrived on time). This means adding each hour of everyday from 2014 until\n",
        " Aguest 202o of each route going to each direction. If an entry exists in the delay data already then its \n",
        " output is 1 which means delay, if a certain combination of the input features, however, is not on the\n",
        " delay data entries, then it is added to the training data with output of 0.\n",
        " \n",
        " By doing this we train the model when to expect delays and when not to. In the next section, the \n",
        " training data containing all the mentioned data will be prepared and used to train different clasification\n",
        " models. '''"
      ],
      "execution_count": null,
      "outputs": [
        {
          "output_type": "execute_result",
          "data": {
            "application/vnd.google.colaboratory.intrinsic+json": {
              "type": "string"
            },
            "text/plain": [
              "'From the results of the above model, it can be observed that it is unrealstic and inaccurate to predict \\nthe delay time expected just from the route,date,direction and time. \\nMoreover, as mentioned above, the model uses data that contains delays only, so it can not predict no \\ndelay, therefore it is not the best application of the data for prediction.\\n\\n\\nThe best use of the given data is to predict if there is going to be a delay or not (binary classification)\\non a specific route going to a specific direction at a specific time.\\nTo do this however we will need to add the missing information of no delay times\\n (when the Streetcar actually arrived on time). This means adding each hour of everyday from 2014 until\\n Aguest 202o of each route going to each direction. If an entry exists in the delay data already then its \\n output is 1 which means delay, if a certain combination of the input features, however, is not on the\\n delay data entries, then it is added to the training data with output of 0.\\n \\n By doing this we train the model when to expect delays and when not to. In the next section, the \\n training data containing all the mentioned data will be prepared and used to train different clasification\\n models. '"
            ]
          },
          "metadata": {
            "tags": []
          },
          "execution_count": 24
        }
      ]
    },
    {
      "cell_type": "code",
      "metadata": {
        "colab": {
          "base_uri": "https://localhost:8080/"
        },
        "id": "8d7wpHbqCU0L",
        "outputId": "8bc2453c-dfd5-4d7c-f387-cd3c70245f7f"
      },
      "source": [
        "# As mentioned all the timeslots, directions,routes should be considered.\n",
        "#However not all combinations are valid, example some routes are south /north bound and others\n",
        "#are east/west bound, therefore there should be two separate cobinatorial cases.\n",
        "#Interms of working hours, i am assuming all of them work 24/7\n",
        "#Moreover assigning day name is also important, On the 1st of january it was Wednesday, so it should \n",
        "#iterate through the days\n",
        "import pandas as pd\n",
        "south_north_routes=[510,511,512,310]\n",
        "south_north_direc=['s/b','n/b']\n",
        "east_west_routes=[501,503,504,505,506,508,509,301,304,306]\n",
        "east_west_direc={'e/b','w/b'}\n",
        "\n",
        "years=[2014,2015,2016,2017,2018,2019,2020]\n",
        "hours= [*range(1, 25, 1)]\n",
        "tempList=[]\n",
        "day_order= [ 'Wednesday','Thursday', 'Friday','Saturday', 'Sunday','Monday', 'Tuesday']\n",
        "def produce_data(av_routes,bound):\n",
        "    day_counter=0\n",
        "    for r in av_routes:\n",
        "        for b in bound:\n",
        "            day_counter=0\n",
        "            for y in years:\n",
        "                months= [*range(1, 13, 1)]\n",
        "                if (y==2020):\n",
        "                   months= [*range(1, 8, 1)] # Data found only until Auguest\n",
        "                for m in months:\n",
        "                    days= [*range(1, 32, 1)]\n",
        "                    if ((((m % 2) == 0 and m<8) and m!=2) or (m==9) or (m==11)):\n",
        "                    # if it is even month and before Auguest then it has 30 days\n",
        "                       days = [*range(1, 31, 1)]\n",
        "                    elif (m==2 and (y==2016 or y==2020)): # february case with leap year\n",
        "                       days = [*range(1, 30, 1)]\n",
        "                    elif (m==2): # february case without leap year\n",
        "                       days = [*range(1, 29, 1)]\n",
        "                    # The rest of the months will have the deafult 31 days\n",
        "                    for d in days:\n",
        "                        day_counter+=1\n",
        "                        for h in hours:\n",
        "                          day_temp=(day_counter-1)%7\n",
        "                          temp={\"Route\":r,\"Direction\": b,\"Day\": day_order[day_temp],\"Year\":y,\"Month\":m,\"Date\":d,\"Hour\":h}\n",
        "                          tempList.append(temp)\n",
        "\n",
        "\n",
        "produce_data(south_north_routes,south_north_direc) \n",
        "produce_data(east_west_routes,east_west_direc) \n",
        "df_all_cases = pd.DataFrame(data=tempList,columns=['Route','Direction','Day', 'Year', 'Month','Date','Hour']) #columns=['availabe_routes', 'years', 'months','days']\n",
        "# df_all_cases.reset_index(inplace=True)\n",
        "\n",
        "df_all_cases.info()\n",
        "# # df_all_cases[0:100]\n",
        "# df_all_cases.tail()\n"
      ],
      "execution_count": null,
      "outputs": [
        {
          "output_type": "stream",
          "text": [
            "<class 'pandas.core.frame.DataFrame'>\n",
            "RangeIndex: 1615488 entries, 0 to 1615487\n",
            "Data columns (total 7 columns):\n",
            " #   Column     Non-Null Count    Dtype \n",
            "---  ------     --------------    ----- \n",
            " 0   Route      1615488 non-null  int64 \n",
            " 1   Direction  1615488 non-null  object\n",
            " 2   Day        1615488 non-null  object\n",
            " 3   Year       1615488 non-null  int64 \n",
            " 4   Month      1615488 non-null  int64 \n",
            " 5   Date       1615488 non-null  int64 \n",
            " 6   Hour       1615488 non-null  int64 \n",
            "dtypes: int64(5), object(2)\n",
            "memory usage: 86.3+ MB\n"
          ],
          "name": "stdout"
        }
      ]
    },
    {
      "cell_type": "code",
      "metadata": {
        "colab": {
          "base_uri": "https://localhost:8080/"
        },
        "id": "3OCMYe3mG0X7",
        "outputId": "d577b4f3-7b3d-45b1-ccf3-38e6d215aa4b"
      },
      "source": [
        "print(len(df_all_cases))"
      ],
      "execution_count": null,
      "outputs": [
        {
          "output_type": "stream",
          "text": [
            "1615488\n"
          ],
          "name": "stdout"
        }
      ]
    },
    {
      "cell_type": "code",
      "metadata": {
        "colab": {
          "base_uri": "https://localhost:8080/",
          "height": 357
        },
        "id": "QSyqxUZ8h05M",
        "outputId": "da6059ef-42e0-426b-d2a6-a624f19dd840"
      },
      "source": [
        "df_all_cases.tail(10) # checking if the february cases and Auguest 2020 are handled properly"
      ],
      "execution_count": null,
      "outputs": [
        {
          "output_type": "execute_result",
          "data": {
            "text/html": [
              "<div>\n",
              "<style scoped>\n",
              "    .dataframe tbody tr th:only-of-type {\n",
              "        vertical-align: middle;\n",
              "    }\n",
              "\n",
              "    .dataframe tbody tr th {\n",
              "        vertical-align: top;\n",
              "    }\n",
              "\n",
              "    .dataframe thead th {\n",
              "        text-align: right;\n",
              "    }\n",
              "</style>\n",
              "<table border=\"1\" class=\"dataframe\">\n",
              "  <thead>\n",
              "    <tr style=\"text-align: right;\">\n",
              "      <th></th>\n",
              "      <th>Route</th>\n",
              "      <th>Direction</th>\n",
              "      <th>Day</th>\n",
              "      <th>Year</th>\n",
              "      <th>Month</th>\n",
              "      <th>Date</th>\n",
              "      <th>Hour</th>\n",
              "    </tr>\n",
              "  </thead>\n",
              "  <tbody>\n",
              "    <tr>\n",
              "      <th>1615478</th>\n",
              "      <td>306</td>\n",
              "      <td>e/b</td>\n",
              "      <td>Friday</td>\n",
              "      <td>2020</td>\n",
              "      <td>7</td>\n",
              "      <td>31</td>\n",
              "      <td>15</td>\n",
              "    </tr>\n",
              "    <tr>\n",
              "      <th>1615479</th>\n",
              "      <td>306</td>\n",
              "      <td>e/b</td>\n",
              "      <td>Friday</td>\n",
              "      <td>2020</td>\n",
              "      <td>7</td>\n",
              "      <td>31</td>\n",
              "      <td>16</td>\n",
              "    </tr>\n",
              "    <tr>\n",
              "      <th>1615480</th>\n",
              "      <td>306</td>\n",
              "      <td>e/b</td>\n",
              "      <td>Friday</td>\n",
              "      <td>2020</td>\n",
              "      <td>7</td>\n",
              "      <td>31</td>\n",
              "      <td>17</td>\n",
              "    </tr>\n",
              "    <tr>\n",
              "      <th>1615481</th>\n",
              "      <td>306</td>\n",
              "      <td>e/b</td>\n",
              "      <td>Friday</td>\n",
              "      <td>2020</td>\n",
              "      <td>7</td>\n",
              "      <td>31</td>\n",
              "      <td>18</td>\n",
              "    </tr>\n",
              "    <tr>\n",
              "      <th>1615482</th>\n",
              "      <td>306</td>\n",
              "      <td>e/b</td>\n",
              "      <td>Friday</td>\n",
              "      <td>2020</td>\n",
              "      <td>7</td>\n",
              "      <td>31</td>\n",
              "      <td>19</td>\n",
              "    </tr>\n",
              "    <tr>\n",
              "      <th>1615483</th>\n",
              "      <td>306</td>\n",
              "      <td>e/b</td>\n",
              "      <td>Friday</td>\n",
              "      <td>2020</td>\n",
              "      <td>7</td>\n",
              "      <td>31</td>\n",
              "      <td>20</td>\n",
              "    </tr>\n",
              "    <tr>\n",
              "      <th>1615484</th>\n",
              "      <td>306</td>\n",
              "      <td>e/b</td>\n",
              "      <td>Friday</td>\n",
              "      <td>2020</td>\n",
              "      <td>7</td>\n",
              "      <td>31</td>\n",
              "      <td>21</td>\n",
              "    </tr>\n",
              "    <tr>\n",
              "      <th>1615485</th>\n",
              "      <td>306</td>\n",
              "      <td>e/b</td>\n",
              "      <td>Friday</td>\n",
              "      <td>2020</td>\n",
              "      <td>7</td>\n",
              "      <td>31</td>\n",
              "      <td>22</td>\n",
              "    </tr>\n",
              "    <tr>\n",
              "      <th>1615486</th>\n",
              "      <td>306</td>\n",
              "      <td>e/b</td>\n",
              "      <td>Friday</td>\n",
              "      <td>2020</td>\n",
              "      <td>7</td>\n",
              "      <td>31</td>\n",
              "      <td>23</td>\n",
              "    </tr>\n",
              "    <tr>\n",
              "      <th>1615487</th>\n",
              "      <td>306</td>\n",
              "      <td>e/b</td>\n",
              "      <td>Friday</td>\n",
              "      <td>2020</td>\n",
              "      <td>7</td>\n",
              "      <td>31</td>\n",
              "      <td>24</td>\n",
              "    </tr>\n",
              "  </tbody>\n",
              "</table>\n",
              "</div>"
            ],
            "text/plain": [
              "         Route Direction     Day  Year  Month  Date  Hour\n",
              "1615478    306       e/b  Friday  2020      7    31    15\n",
              "1615479    306       e/b  Friday  2020      7    31    16\n",
              "1615480    306       e/b  Friday  2020      7    31    17\n",
              "1615481    306       e/b  Friday  2020      7    31    18\n",
              "1615482    306       e/b  Friday  2020      7    31    19\n",
              "1615483    306       e/b  Friday  2020      7    31    20\n",
              "1615484    306       e/b  Friday  2020      7    31    21\n",
              "1615485    306       e/b  Friday  2020      7    31    22\n",
              "1615486    306       e/b  Friday  2020      7    31    23\n",
              "1615487    306       e/b  Friday  2020      7    31    24"
            ]
          },
          "metadata": {
            "tags": []
          },
          "execution_count": 27
        }
      ]
    },
    {
      "cell_type": "code",
      "metadata": {
        "colab": {
          "base_uri": "https://localhost:8080/"
        },
        "id": "uQPIKCRO8IR1",
        "outputId": "6f3e93ef-18c8-4934-c221-83bbf1c8c912"
      },
      "source": [
        "# the direction and day should be changed to numeric value \n",
        "# From earlier encoding we have uniqueDirections that contains the encoding of the directions\n",
        "df_all_cases['Direction'],AlluniqueDirections = pd.factorize(df_all_cases['Direction'],sort=True)\n",
        "\n",
        "print(AlluniqueDirections)    # Direction encoding for  all cases\n",
        "print(uniqueDirections)          # Direction encoding for  delay cases\n",
        "\n",
        "df_all_cases['Day'],AlluniqueDays = pd.factorize(df_all_cases['Day'],sort=True)\n",
        "\n",
        "print(AlluniqueDays)    # Days encoding for  all cases\n",
        "print(uniqueDays)          # Direction encoding for  delay cases\n",
        "\n",
        "# The result shows that the encoding is the same "
      ],
      "execution_count": null,
      "outputs": [
        {
          "output_type": "stream",
          "text": [
            "Index(['e/b', 'n/b', 's/b', 'w/b'], dtype='object')\n",
            "Index(['e/b', 'n/b', 's/b', 'w/b'], dtype='object')\n",
            "Index(['Friday', 'Monday', 'Saturday', 'Sunday', 'Thursday', 'Tuesday',\n",
            "       'Wednesday'],\n",
            "      dtype='object')\n",
            "Index(['Friday', 'Monday', 'Saturday', 'Sunday', 'Thursday', 'Tuesday',\n",
            "       'Wednesday'],\n",
            "      dtype='object')\n"
          ],
          "name": "stdout"
        }
      ]
    },
    {
      "cell_type": "code",
      "metadata": {
        "colab": {
          "base_uri": "https://localhost:8080/",
          "height": 86
        },
        "id": "LSSpNbsKDaRI",
        "outputId": "8f105d44-cc3b-49af-a1f2-c50c224ae976"
      },
      "source": [
        "'''Now that all the possible hours between 2014 and 2020 are covered\n",
        "The total number of training data is  1,615,488\n",
        "The only thing left is to add the target feature, delay\n",
        "From the streecar data given , we have around  70,642  delay records\n",
        "For the 70,642 cases, the delay is 1 (which means there is delay)\n",
        "For the rest, delay is zero\n",
        " To add the delay vaiable, at first all rows will have no delay (0)\n",
        "Then if the a specific date and time is found in the delay dataframe, \n",
        "Its delay will be updated by 1'''"
      ],
      "execution_count": null,
      "outputs": [
        {
          "output_type": "execute_result",
          "data": {
            "application/vnd.google.colaboratory.intrinsic+json": {
              "type": "string"
            },
            "text/plain": [
              "'Now that all the possible hours between 2014 and 2020 are covered\\nThe total number of training data is  1,615,488\\nThe only thing left is to add the target feature, delay\\nFrom the streecar data given , we have around  70,642  delay records\\nFor the 70,642 cases, the delay is 1 (which means there is delay)\\nFor the rest, delay is zero\\n To add the delay vaiable, at first all rows will have no delay (0)\\nThen if the a specific date and time is found in the delay dataframe, \\nIts delay will be updated by 1'"
            ]
          },
          "metadata": {
            "tags": []
          },
          "execution_count": 29
        }
      ]
    },
    {
      "cell_type": "code",
      "metadata": {
        "colab": {
          "base_uri": "https://localhost:8080/",
          "height": 674
        },
        "id": "aNTGcFvnxavy",
        "outputId": "0b46fd0f-b44f-46d5-afca-f9758c89f501"
      },
      "source": [
        "df_delayed=df_selected[['Route','Direction','Day','Year','Month','Date','Hour']] # Delayed occations\n",
        "df_delayed.reset_index(drop=True,inplace=True)\n",
        "print(df_delayed.info())\n",
        "df_delayed\n",
        "#df1 = df[df.duplicated('code', keep=False)].sort_values('code')"
      ],
      "execution_count": null,
      "outputs": [
        {
          "output_type": "stream",
          "text": [
            "<class 'pandas.core.frame.DataFrame'>\n",
            "RangeIndex: 70642 entries, 0 to 70641\n",
            "Data columns (total 7 columns):\n",
            " #   Column     Non-Null Count  Dtype \n",
            "---  ------     --------------  ----- \n",
            " 0   Route      70642 non-null  object\n",
            " 1   Direction  70642 non-null  int64 \n",
            " 2   Day        70642 non-null  int64 \n",
            " 3   Year       70642 non-null  int64 \n",
            " 4   Month      70642 non-null  int64 \n",
            " 5   Date       70642 non-null  int64 \n",
            " 6   Hour       70642 non-null  int64 \n",
            "dtypes: int64(6), object(1)\n",
            "memory usage: 3.8+ MB\n",
            "None\n"
          ],
          "name": "stdout"
        },
        {
          "output_type": "execute_result",
          "data": {
            "text/html": [
              "<div>\n",
              "<style scoped>\n",
              "    .dataframe tbody tr th:only-of-type {\n",
              "        vertical-align: middle;\n",
              "    }\n",
              "\n",
              "    .dataframe tbody tr th {\n",
              "        vertical-align: top;\n",
              "    }\n",
              "\n",
              "    .dataframe thead th {\n",
              "        text-align: right;\n",
              "    }\n",
              "</style>\n",
              "<table border=\"1\" class=\"dataframe\">\n",
              "  <thead>\n",
              "    <tr style=\"text-align: right;\">\n",
              "      <th></th>\n",
              "      <th>Route</th>\n",
              "      <th>Direction</th>\n",
              "      <th>Day</th>\n",
              "      <th>Year</th>\n",
              "      <th>Month</th>\n",
              "      <th>Date</th>\n",
              "      <th>Hour</th>\n",
              "    </tr>\n",
              "  </thead>\n",
              "  <tbody>\n",
              "    <tr>\n",
              "      <th>0</th>\n",
              "      <td>505</td>\n",
              "      <td>0</td>\n",
              "      <td>4</td>\n",
              "      <td>2014</td>\n",
              "      <td>1</td>\n",
              "      <td>2</td>\n",
              "      <td>6</td>\n",
              "    </tr>\n",
              "    <tr>\n",
              "      <th>1</th>\n",
              "      <td>504</td>\n",
              "      <td>0</td>\n",
              "      <td>4</td>\n",
              "      <td>2014</td>\n",
              "      <td>1</td>\n",
              "      <td>2</td>\n",
              "      <td>12</td>\n",
              "    </tr>\n",
              "    <tr>\n",
              "      <th>2</th>\n",
              "      <td>501</td>\n",
              "      <td>3</td>\n",
              "      <td>4</td>\n",
              "      <td>2014</td>\n",
              "      <td>1</td>\n",
              "      <td>2</td>\n",
              "      <td>14</td>\n",
              "    </tr>\n",
              "    <tr>\n",
              "      <th>3</th>\n",
              "      <td>504</td>\n",
              "      <td>3</td>\n",
              "      <td>4</td>\n",
              "      <td>2014</td>\n",
              "      <td>1</td>\n",
              "      <td>2</td>\n",
              "      <td>14</td>\n",
              "    </tr>\n",
              "    <tr>\n",
              "      <th>4</th>\n",
              "      <td>504</td>\n",
              "      <td>0</td>\n",
              "      <td>4</td>\n",
              "      <td>2014</td>\n",
              "      <td>1</td>\n",
              "      <td>2</td>\n",
              "      <td>16</td>\n",
              "    </tr>\n",
              "    <tr>\n",
              "      <th>...</th>\n",
              "      <td>...</td>\n",
              "      <td>...</td>\n",
              "      <td>...</td>\n",
              "      <td>...</td>\n",
              "      <td>...</td>\n",
              "      <td>...</td>\n",
              "      <td>...</td>\n",
              "    </tr>\n",
              "    <tr>\n",
              "      <th>70637</th>\n",
              "      <td>501</td>\n",
              "      <td>3</td>\n",
              "      <td>3</td>\n",
              "      <td>2020</td>\n",
              "      <td>7</td>\n",
              "      <td>26</td>\n",
              "      <td>12</td>\n",
              "    </tr>\n",
              "    <tr>\n",
              "      <th>70638</th>\n",
              "      <td>301</td>\n",
              "      <td>0</td>\n",
              "      <td>1</td>\n",
              "      <td>2020</td>\n",
              "      <td>7</td>\n",
              "      <td>27</td>\n",
              "      <td>2</td>\n",
              "    </tr>\n",
              "    <tr>\n",
              "      <th>70639</th>\n",
              "      <td>306</td>\n",
              "      <td>0</td>\n",
              "      <td>1</td>\n",
              "      <td>2020</td>\n",
              "      <td>7</td>\n",
              "      <td>27</td>\n",
              "      <td>2</td>\n",
              "    </tr>\n",
              "    <tr>\n",
              "      <th>70640</th>\n",
              "      <td>504</td>\n",
              "      <td>0</td>\n",
              "      <td>1</td>\n",
              "      <td>2020</td>\n",
              "      <td>8</td>\n",
              "      <td>3</td>\n",
              "      <td>0</td>\n",
              "    </tr>\n",
              "    <tr>\n",
              "      <th>70641</th>\n",
              "      <td>501</td>\n",
              "      <td>3</td>\n",
              "      <td>1</td>\n",
              "      <td>2020</td>\n",
              "      <td>8</td>\n",
              "      <td>3</td>\n",
              "      <td>23</td>\n",
              "    </tr>\n",
              "  </tbody>\n",
              "</table>\n",
              "<p>70642 rows × 7 columns</p>\n",
              "</div>"
            ],
            "text/plain": [
              "      Route  Direction  Day  Year  Month  Date  Hour\n",
              "0       505          0    4  2014      1     2     6\n",
              "1       504          0    4  2014      1     2    12\n",
              "2       501          3    4  2014      1     2    14\n",
              "3       504          3    4  2014      1     2    14\n",
              "4       504          0    4  2014      1     2    16\n",
              "...     ...        ...  ...   ...    ...   ...   ...\n",
              "70637   501          3    3  2020      7    26    12\n",
              "70638   301          0    1  2020      7    27     2\n",
              "70639   306          0    1  2020      7    27     2\n",
              "70640   504          0    1  2020      8     3     0\n",
              "70641   501          3    1  2020      8     3    23\n",
              "\n",
              "[70642 rows x 7 columns]"
            ]
          },
          "metadata": {
            "tags": []
          },
          "execution_count": 30
        }
      ]
    },
    {
      "cell_type": "code",
      "metadata": {
        "colab": {
          "base_uri": "https://localhost:8080/",
          "height": 417
        },
        "id": "kX1LwgjxyscC",
        "outputId": "af0fb298-231a-49f6-e234-dd93fe2039eb"
      },
      "source": [
        "#df_delayed['Delay']=1\n",
        "# concatinate the two dataframes ...index 0-70641 will have the delay entries\n",
        "frames = [df_delayed,df_all_cases]\n",
        "resulted = pd.concat(frames)\n",
        "resulted.reset_index(drop=True,inplace=True)\n",
        "resulted[:70643]"
      ],
      "execution_count": null,
      "outputs": [
        {
          "output_type": "execute_result",
          "data": {
            "text/html": [
              "<div>\n",
              "<style scoped>\n",
              "    .dataframe tbody tr th:only-of-type {\n",
              "        vertical-align: middle;\n",
              "    }\n",
              "\n",
              "    .dataframe tbody tr th {\n",
              "        vertical-align: top;\n",
              "    }\n",
              "\n",
              "    .dataframe thead th {\n",
              "        text-align: right;\n",
              "    }\n",
              "</style>\n",
              "<table border=\"1\" class=\"dataframe\">\n",
              "  <thead>\n",
              "    <tr style=\"text-align: right;\">\n",
              "      <th></th>\n",
              "      <th>Route</th>\n",
              "      <th>Direction</th>\n",
              "      <th>Day</th>\n",
              "      <th>Year</th>\n",
              "      <th>Month</th>\n",
              "      <th>Date</th>\n",
              "      <th>Hour</th>\n",
              "    </tr>\n",
              "  </thead>\n",
              "  <tbody>\n",
              "    <tr>\n",
              "      <th>0</th>\n",
              "      <td>505</td>\n",
              "      <td>0</td>\n",
              "      <td>4</td>\n",
              "      <td>2014</td>\n",
              "      <td>1</td>\n",
              "      <td>2</td>\n",
              "      <td>6</td>\n",
              "    </tr>\n",
              "    <tr>\n",
              "      <th>1</th>\n",
              "      <td>504</td>\n",
              "      <td>0</td>\n",
              "      <td>4</td>\n",
              "      <td>2014</td>\n",
              "      <td>1</td>\n",
              "      <td>2</td>\n",
              "      <td>12</td>\n",
              "    </tr>\n",
              "    <tr>\n",
              "      <th>2</th>\n",
              "      <td>501</td>\n",
              "      <td>3</td>\n",
              "      <td>4</td>\n",
              "      <td>2014</td>\n",
              "      <td>1</td>\n",
              "      <td>2</td>\n",
              "      <td>14</td>\n",
              "    </tr>\n",
              "    <tr>\n",
              "      <th>3</th>\n",
              "      <td>504</td>\n",
              "      <td>3</td>\n",
              "      <td>4</td>\n",
              "      <td>2014</td>\n",
              "      <td>1</td>\n",
              "      <td>2</td>\n",
              "      <td>14</td>\n",
              "    </tr>\n",
              "    <tr>\n",
              "      <th>4</th>\n",
              "      <td>504</td>\n",
              "      <td>0</td>\n",
              "      <td>4</td>\n",
              "      <td>2014</td>\n",
              "      <td>1</td>\n",
              "      <td>2</td>\n",
              "      <td>16</td>\n",
              "    </tr>\n",
              "    <tr>\n",
              "      <th>...</th>\n",
              "      <td>...</td>\n",
              "      <td>...</td>\n",
              "      <td>...</td>\n",
              "      <td>...</td>\n",
              "      <td>...</td>\n",
              "      <td>...</td>\n",
              "      <td>...</td>\n",
              "    </tr>\n",
              "    <tr>\n",
              "      <th>70638</th>\n",
              "      <td>301</td>\n",
              "      <td>0</td>\n",
              "      <td>1</td>\n",
              "      <td>2020</td>\n",
              "      <td>7</td>\n",
              "      <td>27</td>\n",
              "      <td>2</td>\n",
              "    </tr>\n",
              "    <tr>\n",
              "      <th>70639</th>\n",
              "      <td>306</td>\n",
              "      <td>0</td>\n",
              "      <td>1</td>\n",
              "      <td>2020</td>\n",
              "      <td>7</td>\n",
              "      <td>27</td>\n",
              "      <td>2</td>\n",
              "    </tr>\n",
              "    <tr>\n",
              "      <th>70640</th>\n",
              "      <td>504</td>\n",
              "      <td>0</td>\n",
              "      <td>1</td>\n",
              "      <td>2020</td>\n",
              "      <td>8</td>\n",
              "      <td>3</td>\n",
              "      <td>0</td>\n",
              "    </tr>\n",
              "    <tr>\n",
              "      <th>70641</th>\n",
              "      <td>501</td>\n",
              "      <td>3</td>\n",
              "      <td>1</td>\n",
              "      <td>2020</td>\n",
              "      <td>8</td>\n",
              "      <td>3</td>\n",
              "      <td>23</td>\n",
              "    </tr>\n",
              "    <tr>\n",
              "      <th>70642</th>\n",
              "      <td>510</td>\n",
              "      <td>2</td>\n",
              "      <td>6</td>\n",
              "      <td>2014</td>\n",
              "      <td>1</td>\n",
              "      <td>1</td>\n",
              "      <td>1</td>\n",
              "    </tr>\n",
              "  </tbody>\n",
              "</table>\n",
              "<p>70643 rows × 7 columns</p>\n",
              "</div>"
            ],
            "text/plain": [
              "      Route  Direction  Day  Year  Month  Date  Hour\n",
              "0       505          0    4  2014      1     2     6\n",
              "1       504          0    4  2014      1     2    12\n",
              "2       501          3    4  2014      1     2    14\n",
              "3       504          3    4  2014      1     2    14\n",
              "4       504          0    4  2014      1     2    16\n",
              "...     ...        ...  ...   ...    ...   ...   ...\n",
              "70638   301          0    1  2020      7    27     2\n",
              "70639   306          0    1  2020      7    27     2\n",
              "70640   504          0    1  2020      8     3     0\n",
              "70641   501          3    1  2020      8     3    23\n",
              "70642   510          2    6  2014      1     1     1\n",
              "\n",
              "[70643 rows x 7 columns]"
            ]
          },
          "metadata": {
            "tags": []
          },
          "execution_count": 31
        }
      ]
    },
    {
      "cell_type": "code",
      "metadata": {
        "colab": {
          "base_uri": "https://localhost:8080/"
        },
        "id": "7yemlc2zzaIF",
        "outputId": "876c93e0-208f-4b7c-804b-2196466c3aae"
      },
      "source": [
        "# find duplicates\n",
        "resulted['Duplicate']=resulted.duplicated()\n",
        "resulted.shape"
      ],
      "execution_count": null,
      "outputs": [
        {
          "output_type": "execute_result",
          "data": {
            "text/plain": [
              "(1686130, 8)"
            ]
          },
          "metadata": {
            "tags": []
          },
          "execution_count": 32
        }
      ]
    },
    {
      "cell_type": "code",
      "metadata": {
        "colab": {
          "base_uri": "https://localhost:8080/"
        },
        "id": "wDERiROSfuyr",
        "outputId": "7000fb86-1a18-4e4c-a49d-da1d1d4084ac"
      },
      "source": [
        "# find duplicates\n",
        "counted=Counter(resulted['Duplicate'])\n",
        "print(counted)"
      ],
      "execution_count": null,
      "outputs": [
        {
          "output_type": "stream",
          "text": [
            "Counter({False: 1626284, True: 59846})\n"
          ],
          "name": "stdout"
        }
      ]
    },
    {
      "cell_type": "code",
      "metadata": {
        "colab": {
          "base_uri": "https://localhost:8080/",
          "height": 417
        },
        "id": "kE5PqVjs5QNK",
        "outputId": "e41457a5-9bee-4d47-f6fe-f57e3d596714"
      },
      "source": [
        "# Add delay\n",
        "resulted.loc[0 :70641,'Delay'] = 1\n",
        "resulted.loc[70642 :,'Delay'] = 0\n",
        "resulted"
      ],
      "execution_count": null,
      "outputs": [
        {
          "output_type": "execute_result",
          "data": {
            "text/html": [
              "<div>\n",
              "<style scoped>\n",
              "    .dataframe tbody tr th:only-of-type {\n",
              "        vertical-align: middle;\n",
              "    }\n",
              "\n",
              "    .dataframe tbody tr th {\n",
              "        vertical-align: top;\n",
              "    }\n",
              "\n",
              "    .dataframe thead th {\n",
              "        text-align: right;\n",
              "    }\n",
              "</style>\n",
              "<table border=\"1\" class=\"dataframe\">\n",
              "  <thead>\n",
              "    <tr style=\"text-align: right;\">\n",
              "      <th></th>\n",
              "      <th>Route</th>\n",
              "      <th>Direction</th>\n",
              "      <th>Day</th>\n",
              "      <th>Year</th>\n",
              "      <th>Month</th>\n",
              "      <th>Date</th>\n",
              "      <th>Hour</th>\n",
              "      <th>Duplicate</th>\n",
              "      <th>Delay</th>\n",
              "    </tr>\n",
              "  </thead>\n",
              "  <tbody>\n",
              "    <tr>\n",
              "      <th>0</th>\n",
              "      <td>505</td>\n",
              "      <td>0</td>\n",
              "      <td>4</td>\n",
              "      <td>2014</td>\n",
              "      <td>1</td>\n",
              "      <td>2</td>\n",
              "      <td>6</td>\n",
              "      <td>False</td>\n",
              "      <td>1.0</td>\n",
              "    </tr>\n",
              "    <tr>\n",
              "      <th>1</th>\n",
              "      <td>504</td>\n",
              "      <td>0</td>\n",
              "      <td>4</td>\n",
              "      <td>2014</td>\n",
              "      <td>1</td>\n",
              "      <td>2</td>\n",
              "      <td>12</td>\n",
              "      <td>False</td>\n",
              "      <td>1.0</td>\n",
              "    </tr>\n",
              "    <tr>\n",
              "      <th>2</th>\n",
              "      <td>501</td>\n",
              "      <td>3</td>\n",
              "      <td>4</td>\n",
              "      <td>2014</td>\n",
              "      <td>1</td>\n",
              "      <td>2</td>\n",
              "      <td>14</td>\n",
              "      <td>False</td>\n",
              "      <td>1.0</td>\n",
              "    </tr>\n",
              "    <tr>\n",
              "      <th>3</th>\n",
              "      <td>504</td>\n",
              "      <td>3</td>\n",
              "      <td>4</td>\n",
              "      <td>2014</td>\n",
              "      <td>1</td>\n",
              "      <td>2</td>\n",
              "      <td>14</td>\n",
              "      <td>False</td>\n",
              "      <td>1.0</td>\n",
              "    </tr>\n",
              "    <tr>\n",
              "      <th>4</th>\n",
              "      <td>504</td>\n",
              "      <td>0</td>\n",
              "      <td>4</td>\n",
              "      <td>2014</td>\n",
              "      <td>1</td>\n",
              "      <td>2</td>\n",
              "      <td>16</td>\n",
              "      <td>False</td>\n",
              "      <td>1.0</td>\n",
              "    </tr>\n",
              "    <tr>\n",
              "      <th>...</th>\n",
              "      <td>...</td>\n",
              "      <td>...</td>\n",
              "      <td>...</td>\n",
              "      <td>...</td>\n",
              "      <td>...</td>\n",
              "      <td>...</td>\n",
              "      <td>...</td>\n",
              "      <td>...</td>\n",
              "      <td>...</td>\n",
              "    </tr>\n",
              "    <tr>\n",
              "      <th>1686125</th>\n",
              "      <td>306</td>\n",
              "      <td>0</td>\n",
              "      <td>0</td>\n",
              "      <td>2020</td>\n",
              "      <td>7</td>\n",
              "      <td>31</td>\n",
              "      <td>20</td>\n",
              "      <td>False</td>\n",
              "      <td>0.0</td>\n",
              "    </tr>\n",
              "    <tr>\n",
              "      <th>1686126</th>\n",
              "      <td>306</td>\n",
              "      <td>0</td>\n",
              "      <td>0</td>\n",
              "      <td>2020</td>\n",
              "      <td>7</td>\n",
              "      <td>31</td>\n",
              "      <td>21</td>\n",
              "      <td>False</td>\n",
              "      <td>0.0</td>\n",
              "    </tr>\n",
              "    <tr>\n",
              "      <th>1686127</th>\n",
              "      <td>306</td>\n",
              "      <td>0</td>\n",
              "      <td>0</td>\n",
              "      <td>2020</td>\n",
              "      <td>7</td>\n",
              "      <td>31</td>\n",
              "      <td>22</td>\n",
              "      <td>False</td>\n",
              "      <td>0.0</td>\n",
              "    </tr>\n",
              "    <tr>\n",
              "      <th>1686128</th>\n",
              "      <td>306</td>\n",
              "      <td>0</td>\n",
              "      <td>0</td>\n",
              "      <td>2020</td>\n",
              "      <td>7</td>\n",
              "      <td>31</td>\n",
              "      <td>23</td>\n",
              "      <td>False</td>\n",
              "      <td>0.0</td>\n",
              "    </tr>\n",
              "    <tr>\n",
              "      <th>1686129</th>\n",
              "      <td>306</td>\n",
              "      <td>0</td>\n",
              "      <td>0</td>\n",
              "      <td>2020</td>\n",
              "      <td>7</td>\n",
              "      <td>31</td>\n",
              "      <td>24</td>\n",
              "      <td>False</td>\n",
              "      <td>0.0</td>\n",
              "    </tr>\n",
              "  </tbody>\n",
              "</table>\n",
              "<p>1686130 rows × 9 columns</p>\n",
              "</div>"
            ],
            "text/plain": [
              "        Route  Direction  Day  Year  Month  Date  Hour  Duplicate  Delay\n",
              "0         505          0    4  2014      1     2     6      False    1.0\n",
              "1         504          0    4  2014      1     2    12      False    1.0\n",
              "2         501          3    4  2014      1     2    14      False    1.0\n",
              "3         504          3    4  2014      1     2    14      False    1.0\n",
              "4         504          0    4  2014      1     2    16      False    1.0\n",
              "...       ...        ...  ...   ...    ...   ...   ...        ...    ...\n",
              "1686125   306          0    0  2020      7    31    20      False    0.0\n",
              "1686126   306          0    0  2020      7    31    21      False    0.0\n",
              "1686127   306          0    0  2020      7    31    22      False    0.0\n",
              "1686128   306          0    0  2020      7    31    23      False    0.0\n",
              "1686129   306          0    0  2020      7    31    24      False    0.0\n",
              "\n",
              "[1686130 rows x 9 columns]"
            ]
          },
          "metadata": {
            "tags": []
          },
          "execution_count": 34
        }
      ]
    },
    {
      "cell_type": "code",
      "metadata": {
        "colab": {
          "base_uri": "https://localhost:8080/",
          "height": 434
        },
        "id": "VokZ8afx7Kne",
        "outputId": "278b80b6-d5ae-40d6-942a-a6dae87cf1b4"
      },
      "source": [
        "#Remove Duplicates\n",
        "resulted.drop(resulted[resulted['Duplicate'] ==True].index, inplace = True)\n",
        "resulted.reset_index(drop=True,inplace=True)\n",
        "counted=Counter(resulted['Duplicate'])\n",
        "print(counted)\n",
        "#remove unnecessary column\n",
        "resulted.drop([\"Duplicate\"],axis=1,inplace=True)\n",
        "#sort by time\n",
        "resulted.sort_values(by=['Year','Month','Date','Hour'], inplace=True)\n",
        "resulted.reset_index(drop=True,inplace=True)\n",
        "resulted"
      ],
      "execution_count": null,
      "outputs": [
        {
          "output_type": "stream",
          "text": [
            "Counter({False: 1626284})\n"
          ],
          "name": "stdout"
        },
        {
          "output_type": "execute_result",
          "data": {
            "text/html": [
              "<div>\n",
              "<style scoped>\n",
              "    .dataframe tbody tr th:only-of-type {\n",
              "        vertical-align: middle;\n",
              "    }\n",
              "\n",
              "    .dataframe tbody tr th {\n",
              "        vertical-align: top;\n",
              "    }\n",
              "\n",
              "    .dataframe thead th {\n",
              "        text-align: right;\n",
              "    }\n",
              "</style>\n",
              "<table border=\"1\" class=\"dataframe\">\n",
              "  <thead>\n",
              "    <tr style=\"text-align: right;\">\n",
              "      <th></th>\n",
              "      <th>Route</th>\n",
              "      <th>Direction</th>\n",
              "      <th>Day</th>\n",
              "      <th>Year</th>\n",
              "      <th>Month</th>\n",
              "      <th>Date</th>\n",
              "      <th>Hour</th>\n",
              "      <th>Delay</th>\n",
              "    </tr>\n",
              "  </thead>\n",
              "  <tbody>\n",
              "    <tr>\n",
              "      <th>0</th>\n",
              "      <td>510</td>\n",
              "      <td>2</td>\n",
              "      <td>6</td>\n",
              "      <td>2014</td>\n",
              "      <td>1</td>\n",
              "      <td>1</td>\n",
              "      <td>1</td>\n",
              "      <td>0.0</td>\n",
              "    </tr>\n",
              "    <tr>\n",
              "      <th>1</th>\n",
              "      <td>510</td>\n",
              "      <td>1</td>\n",
              "      <td>6</td>\n",
              "      <td>2014</td>\n",
              "      <td>1</td>\n",
              "      <td>1</td>\n",
              "      <td>1</td>\n",
              "      <td>0.0</td>\n",
              "    </tr>\n",
              "    <tr>\n",
              "      <th>2</th>\n",
              "      <td>511</td>\n",
              "      <td>2</td>\n",
              "      <td>6</td>\n",
              "      <td>2014</td>\n",
              "      <td>1</td>\n",
              "      <td>1</td>\n",
              "      <td>1</td>\n",
              "      <td>0.0</td>\n",
              "    </tr>\n",
              "    <tr>\n",
              "      <th>3</th>\n",
              "      <td>511</td>\n",
              "      <td>1</td>\n",
              "      <td>6</td>\n",
              "      <td>2014</td>\n",
              "      <td>1</td>\n",
              "      <td>1</td>\n",
              "      <td>1</td>\n",
              "      <td>0.0</td>\n",
              "    </tr>\n",
              "    <tr>\n",
              "      <th>4</th>\n",
              "      <td>512</td>\n",
              "      <td>2</td>\n",
              "      <td>6</td>\n",
              "      <td>2014</td>\n",
              "      <td>1</td>\n",
              "      <td>1</td>\n",
              "      <td>1</td>\n",
              "      <td>0.0</td>\n",
              "    </tr>\n",
              "    <tr>\n",
              "      <th>...</th>\n",
              "      <td>...</td>\n",
              "      <td>...</td>\n",
              "      <td>...</td>\n",
              "      <td>...</td>\n",
              "      <td>...</td>\n",
              "      <td>...</td>\n",
              "      <td>...</td>\n",
              "      <td>...</td>\n",
              "    </tr>\n",
              "    <tr>\n",
              "      <th>1626279</th>\n",
              "      <td>304</td>\n",
              "      <td>0</td>\n",
              "      <td>0</td>\n",
              "      <td>2020</td>\n",
              "      <td>7</td>\n",
              "      <td>31</td>\n",
              "      <td>24</td>\n",
              "      <td>0.0</td>\n",
              "    </tr>\n",
              "    <tr>\n",
              "      <th>1626280</th>\n",
              "      <td>306</td>\n",
              "      <td>3</td>\n",
              "      <td>0</td>\n",
              "      <td>2020</td>\n",
              "      <td>7</td>\n",
              "      <td>31</td>\n",
              "      <td>24</td>\n",
              "      <td>0.0</td>\n",
              "    </tr>\n",
              "    <tr>\n",
              "      <th>1626281</th>\n",
              "      <td>306</td>\n",
              "      <td>0</td>\n",
              "      <td>0</td>\n",
              "      <td>2020</td>\n",
              "      <td>7</td>\n",
              "      <td>31</td>\n",
              "      <td>24</td>\n",
              "      <td>0.0</td>\n",
              "    </tr>\n",
              "    <tr>\n",
              "      <th>1626282</th>\n",
              "      <td>504</td>\n",
              "      <td>0</td>\n",
              "      <td>1</td>\n",
              "      <td>2020</td>\n",
              "      <td>8</td>\n",
              "      <td>3</td>\n",
              "      <td>0</td>\n",
              "      <td>1.0</td>\n",
              "    </tr>\n",
              "    <tr>\n",
              "      <th>1626283</th>\n",
              "      <td>501</td>\n",
              "      <td>3</td>\n",
              "      <td>1</td>\n",
              "      <td>2020</td>\n",
              "      <td>8</td>\n",
              "      <td>3</td>\n",
              "      <td>23</td>\n",
              "      <td>1.0</td>\n",
              "    </tr>\n",
              "  </tbody>\n",
              "</table>\n",
              "<p>1626284 rows × 8 columns</p>\n",
              "</div>"
            ],
            "text/plain": [
              "        Route  Direction  Day  Year  Month  Date  Hour  Delay\n",
              "0         510          2    6  2014      1     1     1    0.0\n",
              "1         510          1    6  2014      1     1     1    0.0\n",
              "2         511          2    6  2014      1     1     1    0.0\n",
              "3         511          1    6  2014      1     1     1    0.0\n",
              "4         512          2    6  2014      1     1     1    0.0\n",
              "...       ...        ...  ...   ...    ...   ...   ...    ...\n",
              "1626279   304          0    0  2020      7    31    24    0.0\n",
              "1626280   306          3    0  2020      7    31    24    0.0\n",
              "1626281   306          0    0  2020      7    31    24    0.0\n",
              "1626282   504          0    1  2020      8     3     0    1.0\n",
              "1626283   501          3    1  2020      8     3    23    1.0\n",
              "\n",
              "[1626284 rows x 8 columns]"
            ]
          },
          "metadata": {
            "tags": []
          },
          "execution_count": 35
        }
      ]
    },
    {
      "cell_type": "code",
      "metadata": {
        "colab": {
          "base_uri": "https://localhost:8080/",
          "height": 299
        },
        "id": "0JPlW-0RgEkC",
        "outputId": "b73f92f3-df7a-47b4-a671-11639c256434"
      },
      "source": [
        "print(resulted['Delay'].value_counts().plot(kind='bar'))"
      ],
      "execution_count": null,
      "outputs": [
        {
          "output_type": "stream",
          "text": [
            "AxesSubplot(0.125,0.125;0.775x0.755)\n"
          ],
          "name": "stdout"
        },
        {
          "output_type": "display_data",
          "data": {
            "image/png": "[encoded data removed]",
            "text/plain": [
              "<Figure size 432x288 with 1 Axes>"
            ]
          },
          "metadata": {
            "tags": [],
            "needs_background": "light"
          }
        }
      ]
    },
    {
      "cell_type": "code",
      "metadata": {
        "id": "w0VHlnucEkOU"
      },
      "source": [
        "# Now that all the data is merged, we have 1,626,284 entries \n",
        "# Note: there is huge class imbalance but lets see what would happen if we train in such situation\n",
        "# The next step is to prepare the training and testing data\n",
        "input_df=resulted[['Route','Direction','Day','Year','Month','Date','Hour']]\n",
        "output_df=resulted[['Delay']]\n",
        "train_x, test_x, train_y, test_y = train_test_split(input_df,output_df,train_size = 0.7)"
      ],
      "execution_count": null,
      "outputs": []
    },
    {
      "cell_type": "code",
      "metadata": {
        "id": "Wi0yB_fVHayq"
      },
      "source": [
        "from sklearn.linear_model import LogisticRegression\n",
        "from sklearn.metrics import precision_score,recall_score,f1_score\n",
        "logistic_model1 = LogisticRegression(random_state=0).fit(train_x, train_y)"
      ],
      "execution_count": null,
      "outputs": []
    },
    {
      "cell_type": "code",
      "metadata": {
        "colab": {
          "base_uri": "https://localhost:8080/",
          "height": 334
        },
        "id": "uQhSF-HkIbgK",
        "outputId": "207f7ed4-2fd6-4ce5-ede3-a9d3bb69f80c"
      },
      "source": [
        "# Test model on the test data\n",
        "from sklearn.metrics import confusion_matrix\n",
        "from sklearn.metrics import plot_confusion_matrix\n",
        "import seaborn as sns\n",
        "import numpy as np\n",
        "model1_prediction=logistic_model1.predict(test_x)\n",
        "cf_matrix=confusion_matrix( test_y,model1_prediction)\n",
        "\n",
        "labels = ['True Neg','False Pos','False Neg','True Pos']\n",
        "sns.heatmap(cf_matrix/np.sum(cf_matrix), annot=True, \n",
        "            fmt='.2%', cmap='Blues')\n",
        "print(\"Model accuracy:{0:.2f}% \".format(logistic_model1.score(test_x, test_y)*100))\n",
        "print(\"Model precision:{0:.2f}% \".format(precision_score(test_y,model1_prediction,average='binary')*100))\n",
        "print(\"Model Recall:{0:.2f}% \".format(recall_score(test_y,model1_prediction)*100))\n",
        "print(\"Model F1_score:{0:.2f}% \".format(f1_score(test_y,model1_prediction)*100))"
      ],
      "execution_count": null,
      "outputs": [
        {
          "output_type": "stream",
          "text": [
            "Model accuracy:96.25% \n",
            "Model precision:0.00% \n",
            "Model Recall:0.00% \n",
            "Model F1_score:0.00% \n"
          ],
          "name": "stdout"
        },
        {
          "output_type": "display_data",
          "data": {
            "image/png": "[encoded data removed]",
            "text/plain": [
              "<Figure size 432x288 with 2 Axes>"
            ]
          },
          "metadata": {
            "tags": [],
            "needs_background": "light"
          }
        }
      ]
    },
    {
      "cell_type": "code",
      "metadata": {
        "colab": {
          "base_uri": "https://localhost:8080/",
          "height": 313
        },
        "id": "-LtSxw1uz1C-",
        "outputId": "c9954a0b-3313-4fe2-b9b7-6881cdb0386d"
      },
      "source": [
        "# The accuracy seems to be extremly good but lets check the results of the prediction\n",
        "temp_df=pd.DataFrame(data=model1_prediction)\n",
        "print(temp_df.value_counts().plot(kind='bar'))"
      ],
      "execution_count": null,
      "outputs": [
        {
          "output_type": "stream",
          "text": [
            "AxesSubplot(0.125,0.125;0.775x0.755)\n"
          ],
          "name": "stdout"
        },
        {
          "output_type": "display_data",
          "data": {
            "image/png": "[encoded data removed]",
            "text/plain": [
              "<Figure size 432x288 with 1 Axes>"
            ]
          },
          "metadata": {
            "tags": [],
            "needs_background": "light"
          }
        }
      ]
    },
    {
      "cell_type": "code",
      "metadata": {
        "colab": {
          "base_uri": "https://localhost:8080/",
          "height": 86
        },
        "id": "J29gTJ3uJvwl",
        "outputId": "2875e862-b58b-4a3f-dc09-74b260857e3e"
      },
      "source": [
        "'''From the prediction results we can see that the model is predicting everything as 0 (no delay)\n",
        "Since there is huge class imbalance (1:23), we get high accuracy (but zero recall and f1_score) even by predicting all as no delay\n",
        "To tackle this issue we will use oversampling (Random oversampling involves randomly duplicating \n",
        "examples from the minority class and adding them to the training dataset.)\n",
        "After oversamling, the total training data will contain around the same data entries from both classes'''"
      ],
      "execution_count": null,
      "outputs": [
        {
          "output_type": "execute_result",
          "data": {
            "application/vnd.google.colaboratory.intrinsic+json": {
              "type": "string"
            },
            "text/plain": [
              "'From the prediction results we can see that the model is predicting everything as 0 (no delay)\\nSince there is huge class imbalance (1:23), we get high accuracy (but zero recall and f1_score) even by predicting all as no delay\\nTo tackle this issue we will use oversampling (Random oversampling involves randomly duplicating \\nexamples from the minority class and adding them to the training dataset.)\\nAfter oversamling, the total training data will contain around the same data entries from both classes'"
            ]
          },
          "metadata": {
            "tags": []
          },
          "execution_count": 41
        }
      ]
    },
    {
      "cell_type": "code",
      "metadata": {
        "colab": {
          "base_uri": "https://localhost:8080/"
        },
        "id": "0C6mKbru3CNx",
        "outputId": "f4f4e358-04b5-4c46-aeff-fcc2094baf2a"
      },
      "source": [
        "# define oversampling strategy\n",
        "!pip install imbalanced-learn\n",
        "from imblearn.over_sampling import RandomOverSampler\n",
        "oversample = RandomOverSampler(sampling_strategy='minority')"
      ],
      "execution_count": null,
      "outputs": [
        {
          "output_type": "stream",
          "text": [
            "Requirement already satisfied: imbalanced-learn in /usr/local/lib/python3.7/dist-packages (0.4.3)\n",
            "Requirement already satisfied: scikit-learn>=0.20 in /usr/local/lib/python3.7/dist-packages (from imbalanced-learn) (0.22.2.post1)\n",
            "Requirement already satisfied: scipy>=0.13.3 in /usr/local/lib/python3.7/dist-packages (from imbalanced-learn) (1.4.1)\n",
            "Requirement already satisfied: numpy>=1.8.2 in /usr/local/lib/python3.7/dist-packages (from imbalanced-learn) (1.19.5)\n",
            "Requirement already satisfied: joblib>=0.11 in /usr/local/lib/python3.7/dist-packages (from scikit-learn>=0.20->imbalanced-learn) (1.0.1)\n"
          ],
          "name": "stdout"
        }
      ]
    },
    {
      "cell_type": "code",
      "metadata": {
        "colab": {
          "base_uri": "https://localhost:8080/"
        },
        "id": "F7ye6Yi_EWA3",
        "outputId": "ae75564a-5c84-4b76-8425-69ad27b2f20e"
      },
      "source": [
        "# fit and apply the transform\n",
        "# We should sample after dividing the training and testing data because we don't want duplicates of\n",
        "# same entry on both test and training data, \n",
        "# earlier the data was divided to training and test data with 30% for testing.\n",
        "# here, both training and testing data are sampled separately\n",
        "train_x_oversampled, train_y_oversampled = oversample.fit_resample(train_x, train_y)\n",
        "test_x_oversampled, test_y_oversampled = oversample.fit_resample(test_x, test_y)\n",
        "# dx_over=pd.DataFrame(data=train_newx_over)\n",
        "# dx=pd.DataFrame(data=train_x)\n",
        "print(\"training data size before over sampling: \", len(train_x))\n",
        "print(\"training data size after over sampling: \",len( train_x_oversampled))\n",
        "print(\"//////////////////////////////////////////////////////////////////////////////////// \")\n",
        "print(\"test data size before over sampling: \", len(test_x))\n",
        "print(\"test data size after over sampling: \",len( test_x_oversampled))"
      ],
      "execution_count": null,
      "outputs": [
        {
          "output_type": "stream",
          "text": [
            "training data size before over sampling:  1138398\n",
            "training data size after over sampling:  2190140\n",
            "//////////////////////////////////////////////////////////////////////////////////// \n",
            "test data size before over sampling:  487886\n",
            "test data size after over sampling:  939190\n"
          ],
          "name": "stdout"
        }
      ]
    },
    {
      "cell_type": "code",
      "metadata": {
        "colab": {
          "base_uri": "https://localhost:8080/"
        },
        "id": "NY-1j7se720d",
        "outputId": "2bddcbdc-e618-4293-c2be-6d7b334ecd1a"
      },
      "source": [
        "#logistic regression model\n",
        "logistic_model2 = LogisticRegression(random_state=0).fit(train_x_oversampled, train_y_oversampled)\n",
        "model2_prediction=logistic_model2.predict(test_x_oversampled)\n",
        "print(\"Model accuracy:{0:.2f}% \".format(logistic_model2.score(test_x_oversampled, test_y_oversampled)*100))\n",
        "print(\"Model precision:{0:.2f}% \".format(precision_score(test_y_oversampled,model2_prediction)*100))\n",
        "print(\"Model Recall:{0:.2f}% \".format(recall_score(test_y_oversampled,model2_prediction)*100))\n",
        "print(\"Model F1_score:{0:.2f}% \".format(f1_score(test_y_oversampled,model2_prediction)*100))"
      ],
      "execution_count": null,
      "outputs": [
        {
          "output_type": "stream",
          "text": [
            "Model accuracy:63.57% \n",
            "Model precision:58.14% \n",
            "Model Recall:96.93% \n",
            "Model F1_score:72.68% \n"
          ],
          "name": "stdout"
        }
      ]
    },
    {
      "cell_type": "code",
      "metadata": {
        "colab": {
          "base_uri": "https://localhost:8080/",
          "height": 313
        },
        "id": "uxFVyPozle6m",
        "outputId": "97bdcefa-70e9-4763-dbba-4bff431f7677"
      },
      "source": [
        "temp_df=pd.DataFrame(data=model2_prediction)\n",
        "print(temp_df.value_counts().plot(kind='bar'))"
      ],
      "execution_count": null,
      "outputs": [
        {
          "output_type": "stream",
          "text": [
            "AxesSubplot(0.125,0.125;0.775x0.755)\n"
          ],
          "name": "stdout"
        },
        {
          "output_type": "display_data",
          "data": {
            "image/png": "[encoded data removed]",
            "text/plain": [
              "<Figure size 432x288 with 1 Axes>"
            ]
          },
          "metadata": {
            "tags": [],
            "needs_background": "light"
          }
        }
      ]
    },
    {
      "cell_type": "code",
      "metadata": {
        "colab": {
          "base_uri": "https://localhost:8080/",
          "height": 282
        },
        "id": "EY5GyZZI8_FM",
        "outputId": "20f3a146-ad7d-427e-e362-7288e398ab1b"
      },
      "source": [
        "# Lets see the confusion matrix of the predicions\n",
        "model2_predicted=logistic_model2.predict(test_x_oversampled)\n",
        "cf_matrix=confusion_matrix( test_y_oversampled,model2_predicted)\n",
        "labels = ['True Neg','False Pos','False Neg','True Pos']\n",
        "sns.heatmap(cf_matrix/np.sum(cf_matrix), annot=True, \n",
        "            fmt='.2%', cmap='Blues')"
      ],
      "execution_count": null,
      "outputs": [
        {
          "output_type": "execute_result",
          "data": {
            "text/plain": [
              "<matplotlib.axes._subplots.AxesSubplot at 0x7f8e9e99d810>"
            ]
          },
          "metadata": {
            "tags": []
          },
          "execution_count": 46
        },
        {
          "output_type": "display_data",
          "data": {
            "image/png": "[encoded data removed]",
            "text/plain": [
              "<Figure size 432x288 with 2 Axes>"
            ]
          },
          "metadata": {
            "tags": [],
            "needs_background": "light"
          }
        }
      ]
    },
    {
      "cell_type": "code",
      "metadata": {
        "colab": {
          "base_uri": "https://localhost:8080/"
        },
        "id": "pPekL_RlC_75",
        "outputId": "0eeac5dc-f352-4dc0-b3a1-056864ca6138"
      },
      "source": [
        "# From above graph using oversampling , an accuracy of 63.54% is found\n",
        "# True postive = 48.56 % True Negative = 14.91%  False Negative= 1.44% and False postive = 35.09% \n",
        "# our model seems to be biased towards predicting 1 instead of zero, 83% of the predictions are 1\n",
        "# lets try undersampling\n",
        "# define undersample strategy\n",
        "from imblearn.under_sampling import RandomUnderSampler\n",
        "undersample = RandomUnderSampler(sampling_strategy='majority')\n",
        "train_x_undersampled, train_y_undersampled = undersample.fit_resample(train_x, train_y)\n",
        "test_x_undersampled, test_y_undersampled = undersample.fit_resample(test_x, test_y)\n",
        "# dx_over=pd.DataFrame(data=train_newx_over)\n",
        "# dx=pd.DataFrame(data=train_x)\n",
        "print(\"training data size before undersampling: \", len(train_x))\n",
        "print(\"training data size after undersampling: \",len( train_x_undersampled))\n",
        "print(\"//////////////////////////////////////////////////////////////////////////////////// \")\n",
        "print(\"test data size before undersampling: \", len(test_x))\n",
        "print(\"test data size after undersampling: \",len( test_x_undersampled))"
      ],
      "execution_count": null,
      "outputs": [
        {
          "output_type": "stream",
          "text": [
            "training data size before undersampling:  1138398\n",
            "training data size after undersampling:  86656\n",
            "//////////////////////////////////////////////////////////////////////////////////// \n",
            "test data size before undersampling:  487886\n",
            "test data size after undersampling:  36582\n"
          ],
          "name": "stdout"
        }
      ]
    },
    {
      "cell_type": "code",
      "metadata": {
        "colab": {
          "base_uri": "https://localhost:8080/"
        },
        "id": "-VhPiwVvRu5w",
        "outputId": "39988c4d-b035-467b-a113-c60c093656e2"
      },
      "source": [
        "#logistic regression model for undersampled data\n",
        "logistic_model3 = LogisticRegression(random_state=0).fit(train_x_undersampled, train_y_undersampled)\n",
        "model3_prediction=logistic_model3.predict(test_x_undersampled)\n",
        "print(\"Model accuracy:{0:.2f}% \".format(logistic_model3.score(test_x_undersampled, test_y_undersampled)*100))\n",
        "print(\"Model precision:{0:.2f}% \".format(precision_score(test_y_undersampled,model3_prediction)*100))\n",
        "print(\"Model Recall:{0:.2f}% \".format(recall_score(test_y_undersampled,model3_prediction)*100))\n",
        "print(\"Model F1_score:{0:.2f}% \".format(f1_score(test_y_undersampled,model3_prediction)*100))"
      ],
      "execution_count": null,
      "outputs": [
        {
          "output_type": "stream",
          "text": [
            "Model accuracy:63.57% \n",
            "Model precision:58.15% \n",
            "Model Recall:96.86% \n",
            "Model F1_score:72.67% \n"
          ],
          "name": "stdout"
        }
      ]
    },
    {
      "cell_type": "code",
      "metadata": {
        "colab": {
          "base_uri": "https://localhost:8080/"
        },
        "id": "FHrZ9BLpTFtR",
        "outputId": "fc1bcc1e-8fe9-482d-865d-d534d7f0f87e"
      },
      "source": [
        "# The accuracy of both oversampled and undersampled data is around 63%\n",
        "# lets try a combination of both \n",
        "# define oversampling strategy\n",
        "over = RandomOverSampler(sampling_strategy=0.1) # this will change the ratio to 1:1o\n",
        "# fit and apply the transform\n",
        "train_x_sampleA, train_y_sampleA = undersample.fit_resample(train_x, train_y)\n",
        "test_x_sampleA, test_y_sampleA = undersample.fit_resample(test_x, test_y)\n",
        "# define undersampling strategy\n",
        "under = RandomUnderSampler(sampling_strategy=0.5)  # this will change the ratio to 1:2\n",
        "# fit and apply the transform\n",
        "train_x_sampled, train_y_sampled = undersample.fit_resample(train_x_sampleA, train_y_sampleA)\n",
        "test_x_sampled, test_y_sampled = undersample.fit_resample(test_x_sampleA, test_y_sampleA)\n",
        "\n",
        "print(\"training data size before sampling: \", len(train_x))\n",
        "print(\"training data size after sampling: \",len( train_x_sampled))\n",
        "print(\"//////////////////////////////////////////////////////////////////////////////////// \")\n",
        "print(\"test data size before sampling: \", len(test_x))\n",
        "print(\"test data size after sampling: \",len( test_x_sampled))"
      ],
      "execution_count": null,
      "outputs": [
        {
          "output_type": "stream",
          "text": [
            "training data size before sampling:  1138398\n",
            "training data size after sampling:  86656\n",
            "//////////////////////////////////////////////////////////////////////////////////// \n",
            "test data size before sampling:  487886\n",
            "test data size after sampling:  36582\n"
          ],
          "name": "stdout"
        }
      ]
    },
    {
      "cell_type": "code",
      "metadata": {
        "colab": {
          "base_uri": "https://localhost:8080/"
        },
        "id": "MAXC9ORFXaMC",
        "outputId": "bab64b07-6522-4364-f68f-037a5531f142"
      },
      "source": [
        "#logistic regression model for undersampled data\n",
        "logistic_model4 = LogisticRegression(random_state=0).fit(train_x_sampled, train_y_sampled)\n",
        "model4_prediction=logistic_model4.predict(test_x_sampled)\n",
        "print(\"Model accuracy:{0:.2f}% \".format(logistic_model4.score(test_x_sampled, test_y_sampled)*100))\n",
        "print(\"Model precision:{0:.2f}% \".format(precision_score(test_y_sampled,model4_prediction)*100))\n",
        "print(\"Model Recall:{0:.2f}% \".format(recall_score(test_y_sampled,model4_prediction)*100))\n",
        "print(\"Model F1_score:{0:.2f}% \".format(f1_score(test_y_sampled,model4_prediction)*100))"
      ],
      "execution_count": null,
      "outputs": [
        {
          "output_type": "stream",
          "text": [
            "Model accuracy:63.56% \n",
            "Model precision:58.15% \n",
            "Model Recall:96.69% \n",
            "Model F1_score:72.63% \n"
          ],
          "name": "stdout"
        }
      ]
    },
    {
      "cell_type": "code",
      "metadata": {
        "colab": {
          "base_uri": "https://localhost:8080/",
          "height": 52
        },
        "id": "lm7Z2FFo6RCk",
        "outputId": "553fb749-2cfb-42d5-dacb-ad1f50542eab"
      },
      "source": [
        "'''  using three sampling methods, the result of using logistic regression for classifications gives around\n",
        "63% accuracy in each of the tree models, for the rest of the models tested, the last sampling method\n",
        "(combination of over sampling and undersampling in model 4) is used for training other models.\n",
        "'''"
      ],
      "execution_count": null,
      "outputs": [
        {
          "output_type": "execute_result",
          "data": {
            "application/vnd.google.colaboratory.intrinsic+json": {
              "type": "string"
            },
            "text/plain": [
              "'  using three sampling methods, the result of using logistic regression for classifications gives around\\n63% accuracy in each of the tree models, for the rest of the models tested, the last sampling method\\n(combination of over sampling and undersampling in model 4) is used for training other models.\\n'"
            ]
          },
          "metadata": {
            "tags": []
          },
          "execution_count": 51
        }
      ]
    },
    {
      "cell_type": "code",
      "metadata": {
        "id": "_eUydBEKlLcX"
      },
      "source": [
        "# from sklearn.svm import SVC\n",
        "# svm_model5 =  SVC(gamma='auto')\n",
        "# svm_model5.fit(train_x_sampled, train_y_sampled)\n",
        "# print(\"Model accuracy:{0:.2f}% \".format(svm_model5.score(test_x_sampled, test_y_sampled)*100))\n",
        "\n",
        "# SVM was removed because it took significantly more time (>10 mins) for training compared to other models"
      ],
      "execution_count": null,
      "outputs": []
    },
    {
      "cell_type": "code",
      "metadata": {
        "colab": {
          "base_uri": "https://localhost:8080/"
        },
        "id": "NMg66dJL7tQk",
        "outputId": "2f42bf5f-9d5a-4b65-c691-24d5a5d26f9a"
      },
      "source": [
        "from sklearn.neighbors import KNeighborsClassifier\n",
        "KNN_model5 = KNeighborsClassifier(n_neighbors=3)\n",
        "KNN_model5.fit(train_x_sampled, train_y_sampled)\n",
        "model5_prediction=KNN_model5.predict(test_x_sampled)\n",
        "print(\"Model accuracy:{0:.2f}% \".format(KNN_model5.score(test_x_sampled, test_y_sampled)*100))\n",
        "print(\"Model precision:{0:.2f}% \".format(precision_score(test_y_sampled,model5_prediction)*100))\n",
        "print(\"Model Recall:{0:.2f}% \".format(recall_score(test_y_sampled,model5_prediction)*100))\n",
        "print(\"Model F1_score:{0:.2f}% \".format(f1_score(test_y_sampled,model5_prediction)*100))"
      ],
      "execution_count": null,
      "outputs": [
        {
          "output_type": "stream",
          "text": [
            "Model accuracy:70.44% \n",
            "Model precision:69.26% \n",
            "Model Recall:73.52% \n",
            "Model F1_score:71.33% \n"
          ],
          "name": "stdout"
        }
      ]
    },
    {
      "cell_type": "code",
      "metadata": {
        "colab": {
          "base_uri": "https://localhost:8080/"
        },
        "id": "J6sL4TRMl9oc",
        "outputId": "f4e6ca8a-c230-4aeb-f1bd-765aaf0939cd"
      },
      "source": [
        "from sklearn.tree import DecisionTreeClassifier \n",
        "decisionTree_model6= DecisionTreeClassifier()\n",
        "decisionTree_model6.fit(train_x_sampled, train_y_sampled)\n",
        "\n",
        "model6_prediction=decisionTree_model6.predict(test_x_sampled)\n",
        "print(\"Model accuracy:{0:.2f}% \".format(decisionTree_model6.score(test_x_sampled, test_y_sampled)*100))\n",
        "print(\"Model precision:{0:.2f}% \".format(precision_score(test_y_sampled,model6_prediction)*100))\n",
        "print(\"Model Recall:{0:.2f}% \".format(recall_score(test_y_sampled,model6_prediction)*100))\n",
        "print(\"Model F1_score:{0:.2f}% \".format(f1_score(test_y_sampled,model6_prediction)*100))"
      ],
      "execution_count": null,
      "outputs": [
        {
          "output_type": "stream",
          "text": [
            "Model accuracy:74.38% \n",
            "Model precision:74.21% \n",
            "Model Recall:74.73% \n",
            "Model F1_score:74.47% \n"
          ],
          "name": "stdout"
        }
      ]
    },
    {
      "cell_type": "code",
      "metadata": {
        "colab": {
          "base_uri": "https://localhost:8080/"
        },
        "id": "_IYmpgXcm57_",
        "outputId": "675c85a6-5350-4d74-ed92-2d0a0873f062"
      },
      "source": [
        "from sklearn.ensemble import RandomForestClassifier\n",
        "randomForest_model7= RandomForestClassifier()\n",
        "randomForest_model7.fit(train_x_sampled, train_y_sampled)\n",
        "model7_prediction=randomForest_model7.predict(test_x_sampled)\n",
        "print(\"Model accuracy:{0:.2f}% \".format(randomForest_model7.score(test_x_sampled, test_y_sampled)*100))\n",
        "print(\"Model precision:{0:.2f}% \".format(precision_score(test_y_sampled,model7_prediction)*100))\n",
        "print(\"Model Recall:{0:.2f}% \".format(recall_score(test_y_sampled,model7_prediction)*100))\n",
        "print(\"Model F1_score:{0:.2f}% \".format(f1_score(test_y_sampled,model7_prediction)*100))\n",
        "\n",
        "#Save results for comparison with the fine tuned model\n",
        "\n",
        "rf_baseline_performace = {'accuracy':(randomForest_model7.score(test_x_sampled, test_y_sampled)*100),\n",
        "                           'precision':(precision_score(test_y_sampled,model7_prediction)*100),\n",
        "                          'recall':(recall_score(test_y_sampled,model7_prediction)*100),\n",
        "                           'f1_score':(f1_score(test_y_sampled,model7_prediction)*100)}"
      ],
      "execution_count": null,
      "outputs": [
        {
          "output_type": "stream",
          "text": [
            "Model accuracy:79.66% \n",
            "Model precision:77.82% \n",
            "Model Recall:82.96% \n",
            "Model F1_score:80.31% \n"
          ],
          "name": "stdout"
        }
      ]
    },
    {
      "cell_type": "code",
      "metadata": {
        "colab": {
          "base_uri": "https://localhost:8080/",
          "height": 313
        },
        "id": "7z_I3zoml43U",
        "outputId": "f1c2f24b-cb5b-4fa0-ed52-87fad4b63ac7"
      },
      "source": [
        "temp_df=pd.DataFrame(data=model7_prediction)\n",
        "print(temp_df.value_counts().plot(kind='bar'))"
      ],
      "execution_count": null,
      "outputs": [
        {
          "output_type": "stream",
          "text": [
            "AxesSubplot(0.125,0.125;0.775x0.755)\n"
          ],
          "name": "stdout"
        },
        {
          "output_type": "display_data",
          "data": {
            "image/png": "[encoded data removed]",
            "text/plain": [
              "<Figure size 432x288 with 1 Axes>"
            ]
          },
          "metadata": {
            "tags": [],
            "needs_background": "light"
          }
        }
      ]
    },
    {
      "cell_type": "code",
      "metadata": {
        "colab": {
          "base_uri": "https://localhost:8080/"
        },
        "id": "UXzGC3bnndNS",
        "outputId": "b8bc0e70-8023-4f45-d7d2-9ebf4edec45e"
      },
      "source": [
        "import tensorflow as tf \n",
        "\n",
        "neuralNetwork_model8 = tf.keras.Sequential([\n",
        "    tf.keras.layers.Flatten(input_shape=(test_x_sampled.shape[1],)),\n",
        "    tf.keras.layers.Dense(32, activation='relu'),\n",
        "    tf.keras.layers.Dense(16, activation='relu'),\n",
        "    tf.keras.layers.Dense(8, activation='relu'),   \n",
        "    tf.keras.layers.Dense(2,activation='softmax')\n",
        "])\n",
        "\n",
        "neuralNetwork_model8.compile(optimizer='Adam',loss=tf.keras.losses.SparseCategoricalCrossentropy(from_logits=True),\n",
        "              metrics=['accuracy'])\n",
        "# loss=tf.keras.losses.SparseCategoricalCrossentropy(from_logits=True)\n",
        "train_x_sampled=np.array(train_x_sampled, dtype=np.float)\n",
        "train_y_sampled=np.array(train_y_sampled, dtype=np.float)\n",
        "\n",
        "# x_train_nn, x_test_nn, y_train_nn, y_test_nn = train_test_split(train_x_sampled,train_y_sampled,train_size = 0.8)\n",
        "\n",
        "#history=neuralNetwork_model8.fit(train_x_sampled, train_y_sampled,epochs=20,verbose=2,validation_split=0.3,validation_batch_size=100)\n",
        "history=neuralNetwork_model8.fit(train_x_sampled,train_y_sampled,steps_per_epoch=100, epochs = 100,verbose=2)"
      ],
      "execution_count": null,
      "outputs": [
        {
          "output_type": "stream",
          "text": [
            "Epoch 1/100\n",
            "100/100 - 1s - loss: 3.7543 - accuracy: 0.5663\n",
            "Epoch 2/100\n",
            "100/100 - 0s - loss: 0.7900 - accuracy: 0.5910\n",
            "Epoch 3/100\n",
            "100/100 - 0s - loss: 0.7104 - accuracy: 0.5905\n",
            "Epoch 4/100\n",
            "100/100 - 0s - loss: 0.7398 - accuracy: 0.5894\n",
            "Epoch 5/100\n",
            "100/100 - 0s - loss: 0.6924 - accuracy: 0.5856\n",
            "Epoch 6/100\n",
            "100/100 - 0s - loss: 0.7533 - accuracy: 0.5858\n",
            "Epoch 7/100\n",
            "100/100 - 0s - loss: 0.6642 - accuracy: 0.5918\n",
            "Epoch 8/100\n",
            "100/100 - 0s - loss: 0.6537 - accuracy: 0.5930\n",
            "Epoch 9/100\n",
            "100/100 - 0s - loss: 0.7208 - accuracy: 0.5804\n",
            "Epoch 10/100\n",
            "100/100 - 0s - loss: 0.6924 - accuracy: 0.5817\n",
            "Epoch 11/100\n",
            "100/100 - 0s - loss: 0.6686 - accuracy: 0.5854\n",
            "Epoch 12/100\n",
            "100/100 - 0s - loss: 0.7209 - accuracy: 0.5790\n",
            "Epoch 13/100\n",
            "100/100 - 0s - loss: 0.7210 - accuracy: 0.5859\n",
            "Epoch 14/100\n",
            "100/100 - 0s - loss: 0.6925 - accuracy: 0.5978\n",
            "Epoch 15/100\n",
            "100/100 - 0s - loss: 0.6664 - accuracy: 0.5904\n",
            "Epoch 16/100\n",
            "100/100 - 0s - loss: 0.6771 - accuracy: 0.5823\n",
            "Epoch 17/100\n",
            "100/100 - 0s - loss: 0.6810 - accuracy: 0.5807\n",
            "Epoch 18/100\n",
            "100/100 - 0s - loss: 0.6718 - accuracy: 0.5837\n",
            "Epoch 19/100\n",
            "100/100 - 0s - loss: 0.6662 - accuracy: 0.5918\n",
            "Epoch 20/100\n",
            "100/100 - 0s - loss: 0.6565 - accuracy: 0.5920\n",
            "Epoch 21/100\n",
            "100/100 - 0s - loss: 0.7368 - accuracy: 0.5829\n",
            "Epoch 22/100\n",
            "100/100 - 0s - loss: 0.7343 - accuracy: 0.5879\n",
            "Epoch 23/100\n",
            "100/100 - 0s - loss: 0.7588 - accuracy: 0.5845\n",
            "Epoch 24/100\n",
            "100/100 - 0s - loss: 0.6767 - accuracy: 0.5883\n",
            "Epoch 25/100\n",
            "100/100 - 0s - loss: 0.6843 - accuracy: 0.5919\n",
            "Epoch 26/100\n",
            "100/100 - 0s - loss: 0.6594 - accuracy: 0.5893\n",
            "Epoch 27/100\n",
            "100/100 - 0s - loss: 0.7480 - accuracy: 0.5860\n",
            "Epoch 28/100\n",
            "100/100 - 0s - loss: 0.6606 - accuracy: 0.5899\n",
            "Epoch 29/100\n",
            "100/100 - 0s - loss: 0.6553 - accuracy: 0.5916\n",
            "Epoch 30/100\n",
            "100/100 - 0s - loss: 0.6918 - accuracy: 0.5942\n",
            "Epoch 31/100\n",
            "100/100 - 0s - loss: 0.6503 - accuracy: 0.5925\n",
            "Epoch 32/100\n",
            "100/100 - 0s - loss: 0.7214 - accuracy: 0.5889\n",
            "Epoch 33/100\n",
            "100/100 - 0s - loss: 0.6827 - accuracy: 0.5928\n",
            "Epoch 34/100\n",
            "100/100 - 0s - loss: 0.7032 - accuracy: 0.5910\n",
            "Epoch 35/100\n",
            "100/100 - 0s - loss: 0.6781 - accuracy: 0.5837\n",
            "Epoch 36/100\n",
            "100/100 - 0s - loss: 0.7008 - accuracy: 0.5942\n",
            "Epoch 37/100\n",
            "100/100 - 0s - loss: 0.6706 - accuracy: 0.6012\n",
            "Epoch 38/100\n",
            "100/100 - 0s - loss: 0.6745 - accuracy: 0.5957\n",
            "Epoch 39/100\n",
            "100/100 - 0s - loss: 0.6949 - accuracy: 0.5936\n",
            "Epoch 40/100\n",
            "100/100 - 0s - loss: 0.6672 - accuracy: 0.5928\n",
            "Epoch 41/100\n",
            "100/100 - 0s - loss: 0.6455 - accuracy: 0.6036\n",
            "Epoch 42/100\n",
            "100/100 - 0s - loss: 0.6388 - accuracy: 0.6118\n",
            "Epoch 43/100\n",
            "100/100 - 0s - loss: 0.6548 - accuracy: 0.6061\n",
            "Epoch 44/100\n",
            "100/100 - 0s - loss: 0.6607 - accuracy: 0.6072\n",
            "Epoch 45/100\n",
            "100/100 - 0s - loss: 0.6680 - accuracy: 0.6058\n",
            "Epoch 46/100\n",
            "100/100 - 0s - loss: 0.6712 - accuracy: 0.5989\n",
            "Epoch 47/100\n",
            "100/100 - 0s - loss: 0.6340 - accuracy: 0.6155\n",
            "Epoch 48/100\n",
            "100/100 - 0s - loss: 0.6186 - accuracy: 0.6221\n",
            "Epoch 49/100\n",
            "100/100 - 0s - loss: 0.7026 - accuracy: 0.5971\n",
            "Epoch 50/100\n",
            "100/100 - 0s - loss: 0.6473 - accuracy: 0.6102\n",
            "Epoch 51/100\n",
            "100/100 - 0s - loss: 0.6602 - accuracy: 0.6011\n",
            "Epoch 52/100\n",
            "100/100 - 0s - loss: 0.6288 - accuracy: 0.6175\n",
            "Epoch 53/100\n",
            "100/100 - 0s - loss: 0.6522 - accuracy: 0.6061\n",
            "Epoch 54/100\n",
            "100/100 - 0s - loss: 0.6517 - accuracy: 0.6077\n",
            "Epoch 55/100\n",
            "100/100 - 0s - loss: 0.6307 - accuracy: 0.6229\n",
            "Epoch 56/100\n",
            "100/100 - 0s - loss: 0.6243 - accuracy: 0.6195\n",
            "Epoch 57/100\n",
            "100/100 - 0s - loss: 0.6687 - accuracy: 0.6032\n",
            "Epoch 58/100\n",
            "100/100 - 0s - loss: 0.6504 - accuracy: 0.6139\n",
            "Epoch 59/100\n",
            "100/100 - 0s - loss: 0.6619 - accuracy: 0.6096\n",
            "Epoch 60/100\n",
            "100/100 - 0s - loss: 0.6166 - accuracy: 0.6267\n",
            "Epoch 61/100\n",
            "100/100 - 0s - loss: 0.6288 - accuracy: 0.6244\n",
            "Epoch 62/100\n",
            "100/100 - 0s - loss: 0.6381 - accuracy: 0.6201\n",
            "Epoch 63/100\n",
            "100/100 - 0s - loss: 0.6758 - accuracy: 0.6086\n",
            "Epoch 64/100\n",
            "100/100 - 0s - loss: 0.6370 - accuracy: 0.6217\n",
            "Epoch 65/100\n",
            "100/100 - 0s - loss: 0.6697 - accuracy: 0.6082\n",
            "Epoch 66/100\n",
            "100/100 - 0s - loss: 0.6510 - accuracy: 0.6122\n",
            "Epoch 67/100\n",
            "100/100 - 0s - loss: 0.6403 - accuracy: 0.6197\n",
            "Epoch 68/100\n",
            "100/100 - 0s - loss: 0.6996 - accuracy: 0.6002\n",
            "Epoch 69/100\n",
            "100/100 - 0s - loss: 0.6375 - accuracy: 0.6188\n",
            "Epoch 70/100\n",
            "100/100 - 0s - loss: 0.6086 - accuracy: 0.6376\n",
            "Epoch 71/100\n",
            "100/100 - 0s - loss: 0.6449 - accuracy: 0.6186\n",
            "Epoch 72/100\n",
            "100/100 - 0s - loss: 0.7043 - accuracy: 0.5947\n",
            "Epoch 73/100\n",
            "100/100 - 0s - loss: 0.6641 - accuracy: 0.6137\n",
            "Epoch 74/100\n",
            "100/100 - 0s - loss: 0.6321 - accuracy: 0.6197\n",
            "Epoch 75/100\n",
            "100/100 - 0s - loss: 0.6068 - accuracy: 0.6357\n",
            "Epoch 76/100\n",
            "100/100 - 0s - loss: 0.6396 - accuracy: 0.6217\n",
            "Epoch 77/100\n",
            "100/100 - 0s - loss: 0.6411 - accuracy: 0.6173\n",
            "Epoch 78/100\n",
            "100/100 - 0s - loss: 0.6559 - accuracy: 0.6113\n",
            "Epoch 79/100\n",
            "100/100 - 0s - loss: 0.6492 - accuracy: 0.6096\n",
            "Epoch 80/100\n",
            "100/100 - 0s - loss: 0.6725 - accuracy: 0.6153\n",
            "Epoch 81/100\n",
            "100/100 - 0s - loss: 0.6302 - accuracy: 0.6309\n",
            "Epoch 82/100\n",
            "100/100 - 0s - loss: 0.6457 - accuracy: 0.6125\n",
            "Epoch 83/100\n",
            "100/100 - 0s - loss: 0.6373 - accuracy: 0.6139\n",
            "Epoch 84/100\n",
            "100/100 - 0s - loss: 0.6355 - accuracy: 0.6206\n",
            "Epoch 85/100\n",
            "100/100 - 0s - loss: 0.6347 - accuracy: 0.6199\n",
            "Epoch 86/100\n",
            "100/100 - 0s - loss: 0.6177 - accuracy: 0.6342\n",
            "Epoch 87/100\n",
            "100/100 - 0s - loss: 0.6251 - accuracy: 0.6255\n",
            "Epoch 88/100\n",
            "100/100 - 0s - loss: 0.6635 - accuracy: 0.6102\n",
            "Epoch 89/100\n",
            "100/100 - 0s - loss: 0.6543 - accuracy: 0.6112\n",
            "Epoch 90/100\n",
            "100/100 - 0s - loss: 0.6358 - accuracy: 0.6192\n",
            "Epoch 91/100\n",
            "100/100 - 0s - loss: 0.6549 - accuracy: 0.6190\n",
            "Epoch 92/100\n",
            "100/100 - 0s - loss: 0.6358 - accuracy: 0.6166\n",
            "Epoch 93/100\n",
            "100/100 - 0s - loss: 0.6068 - accuracy: 0.6353\n",
            "Epoch 94/100\n",
            "100/100 - 0s - loss: 0.6171 - accuracy: 0.6285\n",
            "Epoch 95/100\n",
            "100/100 - 0s - loss: 0.6266 - accuracy: 0.6248\n",
            "Epoch 96/100\n",
            "100/100 - 0s - loss: 0.6461 - accuracy: 0.6157\n",
            "Epoch 97/100\n",
            "100/100 - 0s - loss: 0.6592 - accuracy: 0.6032\n",
            "Epoch 98/100\n",
            "100/100 - 0s - loss: 0.6711 - accuracy: 0.6071\n",
            "Epoch 99/100\n",
            "100/100 - 0s - loss: 0.6648 - accuracy: 0.6036\n",
            "Epoch 100/100\n",
            "100/100 - 0s - loss: 0.6227 - accuracy: 0.6225\n"
          ],
          "name": "stdout"
        }
      ]
    },
    {
      "cell_type": "code",
      "metadata": {
        "colab": {
          "base_uri": "https://localhost:8080/",
          "height": 481
        },
        "id": "VZaa-DWkFmHp",
        "outputId": "9065133e-a54b-4747-f5b3-ebff0d0f7db5"
      },
      "source": [
        "# plot loss during training\n",
        "from matplotlib import pyplot\n",
        "# plot loss during training\n",
        "plt.figure(figsize=(10,9))\n",
        "pyplot.subplot(211)\n",
        "pyplot.title('Loss')\n",
        "pyplot.plot(history.history['loss'], label='train')\n",
        "# pyplot.plot(history.history['val_loss'], label='validation')\n",
        "pyplot.legend()\n",
        "# plot accuracy during training\n",
        "plt.figure(figsize=(10,6))\n",
        "pyplot.subplot(212)\n",
        "pyplot.title('Accuracy')\n",
        "pyplot.plot(history.history['accuracy'], label='train')\n",
        "# pyplot.plot(history.history['val_accuracy'], label='validation')\n",
        "pyplot.legend()\n",
        "pyplot.show()"
      ],
      "execution_count": null,
      "outputs": [
        {
          "output_type": "display_data",
          "data": {
            "image/png": "[encoded data removed]",
            "text/plain": [
              "<Figure size 720x648 with 1 Axes>"
            ]
          },
          "metadata": {
            "tags": [],
            "needs_background": "light"
          }
        },
        {
          "output_type": "display_data",
          "data": {
            "image/png": "[encoded data removed]",
            "text/plain": [
              "<Figure size 720x432 with 1 Axes>"
            ]
          },
          "metadata": {
            "tags": [],
            "needs_background": "light"
          }
        }
      ]
    },
    {
      "cell_type": "code",
      "metadata": {
        "colab": {
          "base_uri": "https://localhost:8080/"
        },
        "id": "T22zTJB2sfUX",
        "outputId": "01190cb5-f9f4-4c6d-a73b-b6b556831de8"
      },
      "source": [
        "test_x_sampled=np.array(test_x_sampled, dtype=np.float)\n",
        "test_y_sampled=np.array(test_y_sampled, dtype=np.float)\n",
        "test_loss, test_acc = neuralNetwork_model8.evaluate(test_x_sampled,  test_y_sampled, verbose=2)\n",
        "# loss='binary_crossentropy',\n",
        "print('\\nTest accuracy:', test_acc)\n",
        "print(\"Model accuracy:{0:.2f}% \".format((test_acc)*100))"
      ],
      "execution_count": null,
      "outputs": [
        {
          "output_type": "stream",
          "text": [
            "1144/1144 - 2s - loss: 0.5912 - accuracy: 0.6520\n",
            "\n",
            "Test accuracy: 0.6520419716835022\n",
            "Model accuracy:65.20% \n"
          ],
          "name": "stdout"
        }
      ]
    },
    {
      "cell_type": "code",
      "metadata": {
        "colab": {
          "base_uri": "https://localhost:8080/"
        },
        "id": "Hg6t-qyB3494",
        "outputId": "0096f02b-e18f-406e-f8e8-811a15696e1d"
      },
      "source": [
        "from xgboost import XGBClassifier\n",
        "xgboost_model9= XGBClassifier()\n",
        "xgboost_model9.fit(train_x_sampled, train_y_sampled)\n",
        "model9_prediction=xgboost_model9.predict(test_x_sampled)\n",
        "print(\"Model accuracy:{0:.2f}% \".format(xgboost_model9.score(test_x_sampled, test_y_sampled)*100))\n",
        "print(\"Model precision:{0:.2f}% \".format(precision_score(test_y_sampled,model9_prediction)*100))\n",
        "print(\"Model Recall:{0:.2f}% \".format(recall_score(test_y_sampled,model9_prediction)*100))\n",
        "print(\"Model F1_score:{0:.2f}% \".format(f1_score(test_y_sampled,model9_prediction)*100))\n",
        "\n",
        "#Save results for comparison with the fine tuned model\n",
        "\n",
        "xgb_baseline_performace = {'accuracy':(xgboost_model9.score(test_x_sampled, test_y_sampled)*100),\n",
        "                           'precision':(precision_score(test_y_sampled,model9_prediction)*100),\n",
        "                          'recall':(recall_score(test_y_sampled,model9_prediction)*100),\n",
        "                           'f1_score':(f1_score(test_y_sampled,model9_prediction)*100)}"
      ],
      "execution_count": null,
      "outputs": [
        {
          "output_type": "stream",
          "text": [
            "Model accuracy:79.30% \n",
            "Model precision:76.44% \n",
            "Model Recall:84.70% \n",
            "Model F1_score:80.36% \n"
          ],
          "name": "stdout"
        }
      ]
    },
    {
      "cell_type": "code",
      "metadata": {
        "id": "DHwpKOolmFO_"
      },
      "source": [
        "# temp_df=pd.DataFrame(data=model9_prediction)\n",
        "# print(temp_df.value_counts().plot(kind='bar'))"
      ],
      "execution_count": null,
      "outputs": []
    },
    {
      "cell_type": "code",
      "metadata": {
        "colab": {
          "base_uri": "https://localhost:8080/"
        },
        "id": "VGUCO0NH4dlF",
        "outputId": "bf261755-2fde-421c-d729-6345927ccc3c"
      },
      "source": [
        "from sklearn.ensemble import GradientBoostingClassifier\n",
        "grad_model10= GradientBoostingClassifier()\n",
        "grad_model10.fit(train_x_sampled, train_y_sampled)\n",
        "model10_prediction=grad_model10.predict(test_x_sampled)\n",
        "print(\"Model accuracy:{0:.2f}% \".format(grad_model10.score(test_x_sampled, test_y_sampled)*100))\n",
        "print(\"Model precision:{0:.2f}% \".format(precision_score(test_y_sampled,model10_prediction)*100))\n",
        "print(\"Model Recall:{0:.2f}% \".format(recall_score(test_y_sampled,model10_prediction)*100))\n",
        "print(\"Model F1_score:{0:.2f}% \".format(f1_score(test_y_sampled,model10_prediction)*100))\n",
        "\n",
        "#Save results for comparison with the fine tuned model\n",
        "\n",
        "gb_baseline_performace = {'accuracy':(grad_model10.score(test_x_sampled, test_y_sampled)*100),\n",
        "                           'precision':(precision_score(test_y_sampled,model10_prediction)*100),\n",
        "                          'recall':(recall_score(test_y_sampled,model10_prediction)*100),\n",
        "                           'f1_score':(f1_score(test_y_sampled,model10_prediction)*100)}\n"
      ],
      "execution_count": null,
      "outputs": [
        {
          "output_type": "stream",
          "text": [
            "Model accuracy:79.60% \n",
            "Model precision:76.65% \n",
            "Model Recall:85.12% \n",
            "Model F1_score:80.66% \n"
          ],
          "name": "stdout"
        }
      ]
    },
    {
      "cell_type": "code",
      "metadata": {
        "colab": {
          "base_uri": "https://localhost:8080/"
        },
        "id": "NrJhQvHo5UxP",
        "outputId": "0644a6bc-14b2-4514-c969-46f05d43878a"
      },
      "source": [
        "from sklearn.ensemble import AdaBoostClassifier\n",
        "adaboost_model11= AdaBoostClassifier()\n",
        "adaboost_model11.fit(train_x_sampled, train_y_sampled)\n",
        "\n",
        "model11_prediction=adaboost_model11.predict(test_x_sampled)\n",
        "print(\"Model accuracy:{0:.2f}% \".format(adaboost_model11.score(test_x_sampled, test_y_sampled)*100))\n",
        "print(\"Model precision:{0:.2f}% \".format(precision_score(test_y_sampled,model11_prediction)*100))\n",
        "print(\"Model Recall:{0:.2f}% \".format(recall_score(test_y_sampled,model11_prediction)*100))\n",
        "print(\"Model F1_score:{0:.2f}% \".format(f1_score(test_y_sampled,model11_prediction)*100))"
      ],
      "execution_count": null,
      "outputs": [
        {
          "output_type": "stream",
          "text": [
            "Model accuracy:75.61% \n",
            "Model precision:72.25% \n",
            "Model Recall:83.16% \n",
            "Model F1_score:77.33% \n"
          ],
          "name": "stdout"
        }
      ]
    },
    {
      "cell_type": "markdown",
      "metadata": {
        "id": "ZJP-E-UT9bbJ"
      },
      "source": [
        "After trying 8 classification types with total of 11 models the following result were obtained:\n",
        "NB: For sampling, a combination of both over and under sampling was used.\n",
        "\n",
        "The result is summarized in the table below.\n",
        "\n",
        "\n",
        "![accuracy.png](data:image/png;base64,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)\n",
        "\n",
        "\n",
        "As shown in the table, the models were evaluated on four metrics; accuracy,precision, recall and F1 score. \n",
        "The blue color shows the higest score in specific metric. eg:logistic regression showed the highest recall rate, therefore its row is colored blue.\n",
        "Similary green and yellow represent the second and third highest values respectively.\n",
        "\n",
        "As can be seen from the table, except neural networks and logistic regression, all models scored fairly above 70% in all metrices. Especially the boosting classifiers showed well balanced result over all metrics.\n",
        "\n",
        "Based on the overall performance XGboost, Gradient boosting and Random Forest are the best models. At different instances , their result was close to each other and always around 80% in all metrics.\n",
        "Logistic regression although having extremely high precission, its accuracy is very low in comparison to others. \n",
        "\n",
        "\n"
      ]
    },
    {
      "cell_type": "code",
      "metadata": {
        "colab": {
          "base_uri": "https://localhost:8080/",
          "height": 138
        },
        "id": "qU6dRVCes14K",
        "outputId": "49d4da2c-02fa-4705-dcc3-ac40104de4c9"
      },
      "source": [
        "'''\n",
        "Now that the most effective models have been selected.\n",
        "It is time to fine tune the system.\n",
        "The tree best models are RandomForest, gradient boost and xgboost. However, since the 3 models \n",
        "have similar recall and precision output it would be wise to consider logistic regression as additional\n",
        "if ensembled model is to be created.\n",
        "\n",
        "Before Ensebling is tested, however, each model will be fine tunned to find the best results.\n",
        "\n",
        "1. Fine-tune the hyperparameters using cross-validation.\n",
        "• Treat your data transformation choices as hyperparameters, especially when\n",
        "you are not sure about them (eg. should I replace missing values with zero or\n",
        "with the median value? Or just drop the rows?).\n",
        "• Unless there are very few hyperparameter values to explore, prefer random\n",
        "search over grid search. If training is very long, you may prefer a Bayesian\n",
        "optimization approach (eg. using Gaussian process priors1).\n",
        "2. Try ensemble methods. Combining your best models will often perform better\n",
        "than running them individually.\n",
        "3. Once you are confident about your final model, measure its performance on the\n",
        "test set to estimate the generalization error.\n",
        "'''"
      ],
      "execution_count": null,
      "outputs": [
        {
          "output_type": "execute_result",
          "data": {
            "application/vnd.google.colaboratory.intrinsic+json": {
              "type": "string"
            },
            "text/plain": [
              "'\\nNow that the most effective models have been selected.\\nIt is time to fine tune the system.\\nThe tree best models are RandomForest, gradient boost and xgboost. However, since the 3 models \\nhave similar recall and precision output it would be wise to consider logistic regression as additional\\nif ensembled model is to be created.\\n\\nBefore Ensebling is tested, however, each model will be fine tunned to find the best results.\\n\\n1. Fine-tune the hyperparameters using cross-validation.\\n• Treat your data transformation choices as hyperparameters, especially when\\nyou are not sure about them (eg. should I replace missing values with zero or\\nwith the median value? Or just drop the rows?).\\n• Unless there are very few hyperparameter values to explore, prefer random\\nsearch over grid search. If training is very long, you may prefer a Bayesian\\noptimization approach (eg. using Gaussian process priors1).\\n2. Try ensemble methods. Combining your best models will often perform better\\nthan running them individually.\\n3. Once you are confident about your final model, measure its performance on the\\ntest set to estimate the generalization error.\\n'"
            ]
          },
          "metadata": {
            "tags": []
          },
          "execution_count": 64
        }
      ]
    },
    {
      "cell_type": "code",
      "metadata": {
        "colab": {
          "base_uri": "https://localhost:8080/",
          "height": 103
        },
        "id": "4dTzoQtUPMiO",
        "outputId": "bf786ec7-98df-413e-d461-d661681a5300"
      },
      "source": [
        "'''The main concept of fine tunning is that different combinations of hyperparameters are tested.\n",
        "However while the system accuracy improves, the model is very likely to overfit since it is being trained \n",
        "to improve the accuracy of training and testing data.\n",
        "The solution to this issue is to use cross-validation, where the data is divided into training, validation \n",
        "and testing.\n",
        "Randomforest classifier has many parameter that can be tuned those include:\n",
        "number of estimators,number of features, minimum sample split and many others.\n",
        "Although it is impossible to test all the combinations, it possible to create an array of different setting \n",
        "combinations and randomly testing hyperparameters.\n",
        "In the next section different ranges of possible settings are set for different parameters.'''"
      ],
      "execution_count": null,
      "outputs": [
        {
          "output_type": "execute_result",
          "data": {
            "application/vnd.google.colaboratory.intrinsic+json": {
              "type": "string"
            },
            "text/plain": [
              "'The main concept of fine tunning is that different combinations of hyperparameters are tested.\\nHowever while the system accuracy improves, the model is very likely to overfit since it is being trained \\nto improve the accuracy of training and testing data.\\nThe solution to this issue is to use cross-validation, where the data is divided into training, validation \\nand testing.\\nRandomforest classifier has many parameter that can be tuned those include:\\nnumber of estimators,number of features, minimum sample split and many others.\\nAlthough it is impossible to test all the combinations, it possible to create an array of different setting \\ncombinations and randomly testing hyperparameters.\\nIn the next section different ranges of possible settings are set for different parameters.'"
            ]
          },
          "metadata": {
            "tags": []
          },
          "execution_count": 65
        }
      ]
    },
    {
      "cell_type": "code",
      "metadata": {
        "colab": {
          "base_uri": "https://localhost:8080/"
        },
        "id": "Dyac4vzQ06af",
        "outputId": "dbd26f01-e45b-4bc5-9d8a-52d9afcfc865"
      },
      "source": [
        "from sklearn.model_selection import RandomizedSearchCV      #cross_val_score(RandomForestClassifier(),input_df,output_df,cv=3)\n",
        "from sklearn.model_selection import cross_val_score\n",
        "# Number of trees in random forest\n",
        "n_estimators = [int(x) for x in np.linspace(start = 100, stop = 2000, num = 15)]\n",
        "# Number of features to consider at every split\n",
        "max_features = ['auto', 'sqrt']\n",
        "# Maximum number of levels in tree\n",
        "max_depth = [int(x) for x in np.linspace(10, 110, num = 11)]\n",
        "max_depth.append(None)\n",
        "# Minimum number of samples required to split a node\n",
        "min_samples_split = [2, 5, 10]\n",
        "# Minimum number of samples required at each leaf node\n",
        "min_samples_leaf = [1, 2, 4]\n",
        "# Method of selecting samples for training each tree\n",
        "bootstrap = [True, False]\n",
        "# Create the random grid\n",
        "random_grid = {'n_estimators': n_estimators,\n",
        "               'max_features': max_features,\n",
        "               'max_depth': max_depth,\n",
        "               'min_samples_split': min_samples_split,\n",
        "               'min_samples_leaf': min_samples_leaf,\n",
        "               'bootstrap': bootstrap}\n",
        "print(random_grid)"
      ],
      "execution_count": null,
      "outputs": [
        {
          "output_type": "stream",
          "text": [
            "{'n_estimators': [100, 235, 371, 507, 642, 778, 914, 1050, 1185, 1321, 1457, 1592, 1728, 1864, 2000], 'max_features': ['auto', 'sqrt'], 'max_depth': [10, 20, 30, 40, 50, 60, 70, 80, 90, 100, 110, None], 'min_samples_split': [2, 5, 10], 'min_samples_leaf': [1, 2, 4], 'bootstrap': [True, False]}\n"
          ],
          "name": "stdout"
        }
      ]
    },
    {
      "cell_type": "code",
      "metadata": {
        "colab": {
          "base_uri": "https://localhost:8080/"
        },
        "id": "q1o3Qnmf1twQ",
        "outputId": "067cd196-87db-4e59-9284-1ec7542e587f"
      },
      "source": [
        "# Use the random grid to search for best hyperparameters\n",
        "# First create the base model to tune\n",
        "rf = RandomForestClassifier(random_state=42)\n",
        "# Random search of parameters, using 4 fold cross validation, \n",
        "# search across 5 different combinations, and use all available cores\n",
        "rf_random = RandomizedSearchCV(estimator = rf, param_distributions = random_grid, n_iter = 5, \n",
        "                               cv = 2, verbose=2, random_state=42, n_jobs = -1)\n",
        "# Fit the random search model\n",
        "rf_random.fit(train_x_sampled,train_y_sampled,)"
      ],
      "execution_count": null,
      "outputs": [
        {
          "output_type": "stream",
          "text": [
            "Fitting 2 folds for each of 5 candidates, totalling 10 fits\n"
          ],
          "name": "stdout"
        },
        {
          "output_type": "stream",
          "text": [
            "[Parallel(n_jobs=-1)]: Using backend LokyBackend with 2 concurrent workers.\n",
            "[Parallel(n_jobs=-1)]: Done  10 out of  10 | elapsed:  5.1min finished\n"
          ],
          "name": "stderr"
        },
        {
          "output_type": "execute_result",
          "data": {
            "text/plain": [
              "RandomizedSearchCV(cv=2, error_score=nan,\n",
              "                   estimator=RandomForestClassifier(bootstrap=True,\n",
              "                                                    ccp_alpha=0.0,\n",
              "                                                    class_weight=None,\n",
              "                                                    criterion='gini',\n",
              "                                                    max_depth=None,\n",
              "                                                    max_features='auto',\n",
              "                                                    max_leaf_nodes=None,\n",
              "                                                    max_samples=None,\n",
              "                                                    min_impurity_decrease=0.0,\n",
              "                                                    min_impurity_split=None,\n",
              "                                                    min_samples_leaf=1,\n",
              "                                                    min_samples_split=2,\n",
              "                                                    min_weight_fraction_leaf=0.0,\n",
              "                                                    n_estimators=100,\n",
              "                                                    n_jobs...\n",
              "                   param_distributions={'bootstrap': [True, False],\n",
              "                                        'max_depth': [10, 20, 30, 40, 50, 60,\n",
              "                                                      70, 80, 90, 100, 110,\n",
              "                                                      None],\n",
              "                                        'max_features': ['auto', 'sqrt'],\n",
              "                                        'min_samples_leaf': [1, 2, 4],\n",
              "                                        'min_samples_split': [2, 5, 10],\n",
              "                                        'n_estimators': [100, 235, 371, 507,\n",
              "                                                         642, 778, 914, 1050,\n",
              "                                                         1185, 1321, 1457, 1592,\n",
              "                                                         1728, 1864, 2000]},\n",
              "                   pre_dispatch='2*n_jobs', random_state=42, refit=True,\n",
              "                   return_train_score=False, scoring=None, verbose=2)"
            ]
          },
          "metadata": {
            "tags": []
          },
          "execution_count": 67
        }
      ]
    },
    {
      "cell_type": "code",
      "metadata": {
        "id": "0XqhbR5-SU3L"
      },
      "source": [
        "rf_random.best_params_\n",
        "tunned_rf = RandomForestClassifier(max_features=rf_random.best_params_['max_features'],\n",
        " min_samples_split= rf_random.best_params_['min_samples_split'],\n",
        " n_estimators=rf_random.best_params_['n_estimators'],\n",
        " max_depth=rf_random.best_params_['max_depth'],\n",
        " min_samples_leaf=rf_random.best_params_['min_samples_leaf']\n",
        " )\n",
        "cross_val_score(tunned_rf,train_x_sampled,train_y_sampled,cv=3)\n",
        "tunned_rf.fit(train_x_sampled,train_y_sampled)\n",
        "tunned_rf_prediction=tunned_rf.predict(test_x_sampled)"
      ],
      "execution_count": null,
      "outputs": []
    },
    {
      "cell_type": "code",
      "metadata": {
        "colab": {
          "base_uri": "https://localhost:8080/"
        },
        "id": "CaumKfef7pyB",
        "outputId": "39043299-25c3-4937-af40-fdf09d037c58"
      },
      "source": [
        "#Compare with the original randomForest\n",
        "from sklearn.metrics import accuracy_score\n",
        "print(\"Model accuracy:{0:.2f}% \".format(accuracy_score(test_y_sampled,tunned_rf_prediction)*100))\n",
        "print(\"Model precision:{0:.2f}% \".format(precision_score(test_y_sampled,tunned_rf_prediction)*100))\n",
        "print(\"Model Recall:{0:.2f}% \".format(recall_score(test_y_sampled,tunned_rf_prediction)*100))\n",
        "print(\"Model F1_score:{0:.2f}% \".format(f1_score(test_y_sampled,tunned_rf_prediction)*100))\n",
        "print(\"////////////////////////////////////////////////\")\n",
        "print(rf_baseline_performace)"
      ],
      "execution_count": null,
      "outputs": [
        {
          "output_type": "stream",
          "text": [
            "Model accuracy:80.71% \n",
            "Model precision:77.74% \n",
            "Model Recall:86.07% \n",
            "Model F1_score:81.69% \n",
            "////////////////////////////////////////////////\n",
            "{'accuracy': 79.65939533103712, 'precision': 77.82051282051282, 'recall': 82.96429938220983, 'f1_score': 80.31012674975523}\n"
          ],
          "name": "stdout"
        }
      ]
    },
    {
      "cell_type": "code",
      "metadata": {
        "id": "UX7BPsFVV_Tr"
      },
      "source": [
        "# The randomforest fine tuning requires extensive computing power, for this reason only few combinations\n",
        "# were tested, since the accuracy of the model is already good. It will be useful when used in stacked classifier"
      ],
      "execution_count": null,
      "outputs": []
    },
    {
      "cell_type": "code",
      "metadata": {
        "colab": {
          "base_uri": "https://localhost:8080/",
          "height": 120
        },
        "id": "mww_yubcdTYQ",
        "outputId": "82c06202-267f-4197-d5da-cc10d7ef4763"
      },
      "source": [
        "''' Prepare features for XGboost hypertuning\n",
        " There are many parameters that can be tuned for the XGboost model \n",
        "Since it is impossible to test all combinations of hyperparameters, i will focus on the main parameters\n",
        "such as number of boosting tress, max_depth,min_child_weight,subsample,colsample_bytree and learning rate\n",
        "One way to tune those hyperparameters is to use grid search over different combination of parameters\n",
        "but this will require extensive computing power and time that is beyond this project.\n",
        "One solution is to select random combinations but still that one is not the most efficient. As a solution it\n",
        "is better to select random combinations of only few parameters while the rest of the paramenters are\n",
        "tuned one by one. \n",
        "'''\n"
      ],
      "execution_count": null,
      "outputs": [
        {
          "output_type": "execute_result",
          "data": {
            "application/vnd.google.colaboratory.intrinsic+json": {
              "type": "string"
            },
            "text/plain": [
              "' Prepare features for XGboost hypertuning\\n There are many parameters that can be tuned for the XGboost model \\nSince it is impossible to test all combinations of hyperparameters, i will focus on the main parameters\\nsuch as number of boosting tress, max_depth,min_child_weight,subsample,colsample_bytree and learning rate\\nOne way to tune those hyperparameters is to use grid search over different combination of parameters\\nbut this will require extensive computing power and time that is beyond this project.\\nOne solution is to select random combinations but still that one is not the most efficient. As a solution it\\nis better to select random combinations of only few parameters while the rest of the paramenters are\\ntuned one by one. \\nThe first step is, therfore,to build the baseline for comparion, the default'"
            ]
          },
          "metadata": {
            "tags": []
          },
          "execution_count": 71
        }
      ]
    },
    {
      "cell_type": "code",
      "metadata": {
        "colab": {
          "base_uri": "https://localhost:8080/"
        },
        "id": "JFajlA6kXiCv",
        "outputId": "11b6cb02-73f5-4b46-b5a6-188a4d6ee603"
      },
      "source": [
        "from sklearn.model_selection import GridSearchCV \n",
        "#Lets take the default parameter setting and find optimal depth\n",
        "#For this purpose, we can do a grid search and test out values from 1 to 8 in steps of 100.\n",
        "# gridsearch_params = [\n",
        "#     (max_depth, min_child_weight)\n",
        "#     for max_depth in range(1,8)\n",
        "#     for min_child_weight in range(1,8)\n",
        "# ]\n",
        "param_xgb_depth= {'max_depth':range(1,8,1)}\n",
        "param_xgb={}\n",
        "xgb_gsearch1 = GridSearchCV(estimator = XGBClassifier(\n",
        "                                                               random_state=10), \n",
        "param_grid = param_xgb_depth, scoring='accuracy',n_jobs=-1,iid=False, cv=5)\n",
        "xgb_gsearch1.fit(train_x_sampled,train_y_sampled)\n",
        "xgb_gsearch1.cv_results_, xgb_gsearch1.best_params_, xgb_gsearch1.best_score_"
      ],
      "execution_count": null,
      "outputs": [
        {
          "output_type": "execute_result",
          "data": {
            "text/plain": [
              "({'mean_fit_time': array([1.95300078, 2.66086864, 3.59968843, 4.70716295, 6.10396042,\n",
              "         7.53793464, 8.65255089]),\n",
              "  'mean_score_time': array([0.03100157, 0.05412951, 0.06931334, 0.09088993, 0.1168416 ,\n",
              "         0.13549085, 0.16229997]),\n",
              "  'mean_test_score': array([0.71233379, 0.77950754, 0.79444012, 0.80064858, 0.80396051,\n",
              "         0.80611844, 0.80670698]),\n",
              "  'param_max_depth': masked_array(data=[1, 2, 3, 4, 5, 6, 7],\n",
              "               mask=[False, False, False, False, False, False, False],\n",
              "         fill_value='?',\n",
              "              dtype=object),\n",
              "  'params': [{'max_depth': 1},\n",
              "   {'max_depth': 2},\n",
              "   {'max_depth': 3},\n",
              "   {'max_depth': 4},\n",
              "   {'max_depth': 5},\n",
              "   {'max_depth': 6},\n",
              "   {'max_depth': 7}],\n",
              "  'rank_test_score': array([7, 6, 5, 4, 3, 2, 1], dtype=int32),\n",
              "  'split0_test_score': array([0.71584353, 0.77423263, 0.79108008, 0.79748442, 0.80198477,\n",
              "         0.80631202, 0.80636972]),\n",
              "  'split1_test_score': array([0.71900063, 0.78143212, 0.79476083, 0.80324274, 0.80595465,\n",
              "         0.80739715, 0.80970515]),\n",
              "  'split2_test_score': array([0.71398073, 0.77981651, 0.79660724, 0.80220414, 0.80289654,\n",
              "         0.80537765, 0.80439675]),\n",
              "  'split3_test_score': array([0.72177024, 0.77929721, 0.79585713, 0.80012694, 0.80416595,\n",
              "         0.80497375, 0.80653165]),\n",
              "  'split4_test_score': array([0.6910738 , 0.78275922, 0.79389533, 0.80018464, 0.80480065,\n",
              "         0.80653165, 0.80653165]),\n",
              "  'std_fit_time': array([0.12528346, 0.02377584, 0.0248828 , 0.0234475 , 0.09772724,\n",
              "         0.05873819, 0.7997777 ]),\n",
              "  'std_score_time': array([0.00033715, 0.0042546 , 0.00103503, 0.00194906, 0.0024426 ,\n",
              "         0.00349792, 0.02308832]),\n",
              "  'std_test_score': array([0.01095912, 0.0029066 , 0.00191801, 0.00198236, 0.00139715,\n",
              "         0.00086051, 0.00170302])},\n",
              " {'max_depth': 7},\n",
              " 0.8067069832125007)"
            ]
          },
          "metadata": {
            "tags": []
          },
          "execution_count": 75
        }
      ]
    },
    {
      "cell_type": "code",
      "metadata": {
        "colab": {
          "base_uri": "https://localhost:8080/"
        },
        "id": "AQOcJIVwZfDL",
        "outputId": "70a40365-8fc9-4ba4-a17f-44a2cf6df118"
      },
      "source": [
        "#From above we have the optimal max_depth values\n",
        "param_xgb['max_depth']=xgb_gsearch1.best_params_['max_depth']\n",
        "#Similar to above code we will find optimal min_child_weight\n",
        "param_xgb_min_child_weight= {'min_child_weight':range(1,8,1)}\n",
        "\n",
        "xgb_gsearch2 = GridSearchCV(estimator = XGBClassifier(\n",
        "                                                              max_depth=param_xgb['max_depth'],\n",
        "                                                               random_state=10), \n",
        "param_grid = param_xgb_min_child_weight, scoring='accuracy',n_jobs=-1,iid=False, cv=5)\n",
        "xgb_gsearch2.fit(train_x_sampled,train_y_sampled)\n",
        "xgb_gsearch2.cv_results_, xgb_gsearch2.best_params_, xgb_gsearch2.best_score_"
      ],
      "execution_count": null,
      "outputs": [
        {
          "output_type": "execute_result",
          "data": {
            "text/plain": [
              "({'mean_fit_time': array([9.1821177 , 9.22937908, 9.38184299, 9.31283965, 9.27240319,\n",
              "         9.4419662 , 8.70600905]),\n",
              "  'mean_score_time': array([0.18510699, 0.17590437, 0.17193742, 0.17301073, 0.17528162,\n",
              "         0.18724985, 0.1719974 ]),\n",
              "  'mean_test_score': array([0.80670698, 0.80621075, 0.80664928, 0.80619923, 0.80677621,\n",
              "         0.80663775, 0.80742245]),\n",
              "  'param_min_child_weight': masked_array(data=[1, 2, 3, 4, 5, 6, 7],\n",
              "               mask=[False, False, False, False, False, False, False],\n",
              "         fill_value='?',\n",
              "              dtype=object),\n",
              "  'params': [{'min_child_weight': 1},\n",
              "   {'min_child_weight': 2},\n",
              "   {'min_child_weight': 3},\n",
              "   {'min_child_weight': 4},\n",
              "   {'min_child_weight': 5},\n",
              "   {'min_child_weight': 6},\n",
              "   {'min_child_weight': 7}],\n",
              "  'rank_test_score': array([3, 6, 4, 7, 2, 5, 1], dtype=int32),\n",
              "  'split0_test_score': array([0.80636972, 0.80723517, 0.80694669, 0.80590815, 0.80723517,\n",
              "         0.80590815, 0.80740826]),\n",
              "  'split1_test_score': array([0.80970515, 0.80803185, 0.80791645, 0.80843575, 0.80912815,\n",
              "         0.80872425, 0.80964745]),\n",
              "  'split2_test_score': array([0.80439675, 0.80445445, 0.80583925, 0.80422365, 0.80503145,\n",
              "         0.80549305, 0.80601235]),\n",
              "  'split3_test_score': array([0.80653165, 0.80439675, 0.80485835, 0.80503145, 0.80514685,\n",
              "         0.80583925, 0.80537765]),\n",
              "  'split4_test_score': array([0.80653165, 0.80693555, 0.80768565, 0.80739715, 0.80733945,\n",
              "         0.80722405, 0.80866655]),\n",
              "  'std_fit_time': array([0.12139398, 0.04998212, 0.07554703, 0.06073667, 0.0518316 ,\n",
              "         0.06664149, 1.46274629]),\n",
              "  'std_score_time': array([0.01473686, 0.0081917 , 0.00706374, 0.00592331, 0.00838337,\n",
              "         0.01388723, 0.02303047]),\n",
              "  'std_test_score': array([0.00170302, 0.00150109, 0.00115168, 0.00153548, 0.00153353,\n",
              "         0.00119812, 0.00159174])},\n",
              " {'min_child_weight': 7},\n",
              " 0.8074224521578423)"
            ]
          },
          "metadata": {
            "tags": []
          },
          "execution_count": 76
        }
      ]
    },
    {
      "cell_type": "code",
      "metadata": {
        "colab": {
          "base_uri": "https://localhost:8080/"
        },
        "id": "8swMuQvVahx3",
        "outputId": "8fdbee04-661d-4466-8a64-66a35d104372"
      },
      "source": [
        "#From above we have the optimal min_child_weight values\n",
        "param_xgb['min_child_weight']=xgb_gsearch2.best_params_['min_child_weight']\n",
        "#Similar to above code we will find optimal min_child_weight\n",
        "param_xgb_4 = {'subsample':[0.3,0.5,0.75,0.8,0.85,0.9],'colsample':[0.3,0.5,0.6,0.8,0.9,1]}\n",
        "# param_xgb_3= {'subsample':[0.3,0.5.6,0.7,0.8,1],'colsample':[0.3,0.5,0.6,0.8,0.9,1]}\n",
        "\n",
        "xgb_gsearch3 = GridSearchCV(estimator = XGBClassifier(\n",
        "                                                              max_depth=param_xgb['max_depth'],\n",
        "                                                              min_child_weight=param_xgb['min_child_weight'],\n",
        "                                                               random_state=10), \n",
        "param_grid = param_xgb_4, scoring='accuracy',n_jobs=-1,iid=False, cv=5)\n",
        "xgb_gsearch3.fit(train_x_sampled,train_y_sampled)\n",
        "xgb_gsearch3.cv_results_, xgb_gsearch3.best_params_, xgb_gsearch3.best_score_"
      ],
      "execution_count": null,
      "outputs": [
        {
          "output_type": "execute_result",
          "data": {
            "text/plain": [
              "({'mean_fit_time': array([ 9.96785836, 10.7316009 , 10.29510107, 10.11996059, 10.01413727,\n",
              "          9.83688154,  9.75957193, 10.79034209, 10.22822642, 10.07811742,\n",
              "          9.95710316,  9.75771394,  9.7217422 , 10.64548507, 10.24227724,\n",
              "         10.08457308,  9.92358518,  9.72301459,  9.66323123, 10.68862448,\n",
              "         10.20335207, 10.09342542,  9.90061922,  9.73253398,  9.70948491,\n",
              "         10.59807854, 10.20839968, 10.07997794,  9.92505336,  9.77662606,\n",
              "          9.63633356, 10.70625873, 10.20400591, 10.0454473 ,  9.94315095,\n",
              "          9.3268404 ]),\n",
              "  'mean_score_time': array([0.19142346, 0.17068663, 0.16956244, 0.17489758, 0.16939502,\n",
              "         0.16719093, 0.17466993, 0.17147956, 0.16995616, 0.16954308,\n",
              "         0.16986923, 0.17993903, 0.17316995, 0.17119193, 0.16967616,\n",
              "         0.17306819, 0.16484299, 0.16741486, 0.17326031, 0.17279272,\n",
              "         0.16942387, 0.16776261, 0.17018619, 0.16798344, 0.1773108 ,\n",
              "         0.16998315, 0.16959195, 0.16878538, 0.17205386, 0.16523633,\n",
              "         0.17372365, 0.17537942, 0.17426405, 0.1693089 , 0.16676245,\n",
              "         0.15715055]),\n",
              "  'mean_test_score': array([0.80443365, 0.8061646 , 0.80712242, 0.80721474, 0.80679931,\n",
              "         0.8076994 , 0.80443365, 0.8061646 , 0.80712242, 0.80721474,\n",
              "         0.80679931, 0.8076994 , 0.80443365, 0.8061646 , 0.80712242,\n",
              "         0.80721474, 0.80679931, 0.8076994 , 0.80443365, 0.8061646 ,\n",
              "         0.80712242, 0.80721474, 0.80679931, 0.8076994 , 0.80443365,\n",
              "         0.8061646 , 0.80712242, 0.80721474, 0.80679931, 0.8076994 ,\n",
              "         0.80443365, 0.8061646 , 0.80712242, 0.80721474, 0.80679931,\n",
              "         0.8076994 ]),\n",
              "  'param_colsample': masked_array(data=[0.3, 0.3, 0.3, 0.3, 0.3, 0.3, 0.5, 0.5, 0.5, 0.5, 0.5,\n",
              "                     0.5, 0.6, 0.6, 0.6, 0.6, 0.6, 0.6, 0.8, 0.8, 0.8, 0.8,\n",
              "                     0.8, 0.8, 0.9, 0.9, 0.9, 0.9, 0.9, 0.9, 1, 1, 1, 1, 1,\n",
              "                     1],\n",
              "               mask=[False, False, False, False, False, False, False, False,\n",
              "                     False, False, False, False, False, False, False, False,\n",
              "                     False, False, False, False, False, False, False, False,\n",
              "                     False, False, False, False, False, False, False, False,\n",
              "                     False, False, False, False],\n",
              "         fill_value='?',\n",
              "              dtype=object),\n",
              "  'param_subsample': masked_array(data=[0.3, 0.5, 0.75, 0.8, 0.85, 0.9, 0.3, 0.5, 0.75, 0.8,\n",
              "                     0.85, 0.9, 0.3, 0.5, 0.75, 0.8, 0.85, 0.9, 0.3, 0.5,\n",
              "                     0.75, 0.8, 0.85, 0.9, 0.3, 0.5, 0.75, 0.8, 0.85, 0.9,\n",
              "                     0.3, 0.5, 0.75, 0.8, 0.85, 0.9],\n",
              "               mask=[False, False, False, False, False, False, False, False,\n",
              "                     False, False, False, False, False, False, False, False,\n",
              "                     False, False, False, False, False, False, False, False,\n",
              "                     False, False, False, False, False, False, False, False,\n",
              "                     False, False, False, False],\n",
              "         fill_value='?',\n",
              "              dtype=object),\n",
              "  'params': [{'colsample': 0.3, 'subsample': 0.3},\n",
              "   {'colsample': 0.3, 'subsample': 0.5},\n",
              "   {'colsample': 0.3, 'subsample': 0.75},\n",
              "   {'colsample': 0.3, 'subsample': 0.8},\n",
              "   {'colsample': 0.3, 'subsample': 0.85},\n",
              "   {'colsample': 0.3, 'subsample': 0.9},\n",
              "   {'colsample': 0.5, 'subsample': 0.3},\n",
              "   {'colsample': 0.5, 'subsample': 0.5},\n",
              "   {'colsample': 0.5, 'subsample': 0.75},\n",
              "   {'colsample': 0.5, 'subsample': 0.8},\n",
              "   {'colsample': 0.5, 'subsample': 0.85},\n",
              "   {'colsample': 0.5, 'subsample': 0.9},\n",
              "   {'colsample': 0.6, 'subsample': 0.3},\n",
              "   {'colsample': 0.6, 'subsample': 0.5},\n",
              "   {'colsample': 0.6, 'subsample': 0.75},\n",
              "   {'colsample': 0.6, 'subsample': 0.8},\n",
              "   {'colsample': 0.6, 'subsample': 0.85},\n",
              "   {'colsample': 0.6, 'subsample': 0.9},\n",
              "   {'colsample': 0.8, 'subsample': 0.3},\n",
              "   {'colsample': 0.8, 'subsample': 0.5},\n",
              "   {'colsample': 0.8, 'subsample': 0.75},\n",
              "   {'colsample': 0.8, 'subsample': 0.8},\n",
              "   {'colsample': 0.8, 'subsample': 0.85},\n",
              "   {'colsample': 0.8, 'subsample': 0.9},\n",
              "   {'colsample': 0.9, 'subsample': 0.3},\n",
              "   {'colsample': 0.9, 'subsample': 0.5},\n",
              "   {'colsample': 0.9, 'subsample': 0.75},\n",
              "   {'colsample': 0.9, 'subsample': 0.8},\n",
              "   {'colsample': 0.9, 'subsample': 0.85},\n",
              "   {'colsample': 0.9, 'subsample': 0.9},\n",
              "   {'colsample': 1, 'subsample': 0.3},\n",
              "   {'colsample': 1, 'subsample': 0.5},\n",
              "   {'colsample': 1, 'subsample': 0.75},\n",
              "   {'colsample': 1, 'subsample': 0.8},\n",
              "   {'colsample': 1, 'subsample': 0.85},\n",
              "   {'colsample': 1, 'subsample': 0.9}],\n",
              "  'rank_test_score': array([31, 25, 13,  7, 19,  1, 31, 25, 13,  7, 19,  1, 31, 25, 13,  7, 19,\n",
              "          1, 31, 25, 13,  7, 19,  1, 31, 25, 13,  7, 19,  1, 31, 25, 13,  7,\n",
              "         19,  1], dtype=int32),\n",
              "  'split0_test_score': array([0.80238865, 0.80688899, 0.8067159 , 0.80660051, 0.80567736,\n",
              "         0.80838911, 0.80238865, 0.80688899, 0.8067159 , 0.80660051,\n",
              "         0.80567736, 0.80838911, 0.80238865, 0.80688899, 0.8067159 ,\n",
              "         0.80660051, 0.80567736, 0.80838911, 0.80238865, 0.80688899,\n",
              "         0.8067159 , 0.80660051, 0.80567736, 0.80838911, 0.80238865,\n",
              "         0.80688899, 0.8067159 , 0.80660051, 0.80567736, 0.80838911,\n",
              "         0.80238865, 0.80688899, 0.8067159 , 0.80660051, 0.80567736,\n",
              "         0.80838911]),\n",
              "  'split1_test_score': array([0.80555075, 0.80814725, 0.80964745, 0.80912815, 0.80930125,\n",
              "         0.80935895, 0.80555075, 0.80814725, 0.80964745, 0.80912815,\n",
              "         0.80930125, 0.80935895, 0.80555075, 0.80814725, 0.80964745,\n",
              "         0.80912815, 0.80930125, 0.80935895, 0.80555075, 0.80814725,\n",
              "         0.80964745, 0.80912815, 0.80930125, 0.80935895, 0.80555075,\n",
              "         0.80814725, 0.80964745, 0.80912815, 0.80930125, 0.80935895,\n",
              "         0.80555075, 0.80814725, 0.80964745, 0.80912815, 0.80930125,\n",
              "         0.80935895]),\n",
              "  'split2_test_score': array([0.80439675, 0.80456985, 0.80618545, 0.80699325, 0.80687785,\n",
              "         0.80687785, 0.80439675, 0.80456985, 0.80618545, 0.80699325,\n",
              "         0.80687785, 0.80687785, 0.80439675, 0.80456985, 0.80618545,\n",
              "         0.80699325, 0.80687785, 0.80687785, 0.80439675, 0.80456985,\n",
              "         0.80618545, 0.80699325, 0.80687785, 0.80687785, 0.80439675,\n",
              "         0.80456985, 0.80618545, 0.80699325, 0.80687785, 0.80687785,\n",
              "         0.80439675, 0.80456985, 0.80618545, 0.80699325, 0.80687785,\n",
              "         0.80687785]),\n",
              "  'split3_test_score': array([0.80531995, 0.80555075, 0.80607005, 0.80612775, 0.80618545,\n",
              "         0.80630085, 0.80531995, 0.80555075, 0.80607005, 0.80612775,\n",
              "         0.80618545, 0.80630085, 0.80531995, 0.80555075, 0.80607005,\n",
              "         0.80612775, 0.80618545, 0.80630085, 0.80531995, 0.80555075,\n",
              "         0.80607005, 0.80612775, 0.80618545, 0.80630085, 0.80531995,\n",
              "         0.80555075, 0.80607005, 0.80612775, 0.80618545, 0.80630085,\n",
              "         0.80531995, 0.80555075, 0.80607005, 0.80612775, 0.80618545,\n",
              "         0.80630085]),\n",
              "  'split4_test_score': array([0.80451215, 0.80566615, 0.80699325, 0.80722405, 0.80595465,\n",
              "         0.80757025, 0.80451215, 0.80566615, 0.80699325, 0.80722405,\n",
              "         0.80595465, 0.80757025, 0.80451215, 0.80566615, 0.80699325,\n",
              "         0.80722405, 0.80595465, 0.80757025, 0.80451215, 0.80566615,\n",
              "         0.80699325, 0.80722405, 0.80595465, 0.80757025, 0.80451215,\n",
              "         0.80566615, 0.80699325, 0.80722405, 0.80595465, 0.80757025,\n",
              "         0.80451215, 0.80566615, 0.80699325, 0.80722405, 0.80595465,\n",
              "         0.80757025]),\n",
              "  'std_fit_time': array([0.17816293, 0.08399257, 0.03878555, 0.06443542, 0.02841056,\n",
              "         0.10782928, 0.05528254, 0.03355838, 0.08895377, 0.04501121,\n",
              "         0.07035492, 0.0470811 , 0.03351049, 0.06596228, 0.03989502,\n",
              "         0.06756672, 0.06168065, 0.06792599, 0.0543928 , 0.06903282,\n",
              "         0.074036  , 0.1042221 , 0.0553953 , 0.09624499, 0.0481538 ,\n",
              "         0.07099813, 0.05361902, 0.03702528, 0.04347611, 0.07535991,\n",
              "         0.05712245, 0.04454713, 0.0505679 , 0.06013664, 0.09139054,\n",
              "         0.71581896]),\n",
              "  'std_score_time': array([0.01439572, 0.00593726, 0.00499929, 0.00998463, 0.00792139,\n",
              "         0.00701383, 0.00291795, 0.00516708, 0.01519326, 0.00353049,\n",
              "         0.00907933, 0.0120284 , 0.00793697, 0.00558748, 0.00423722,\n",
              "         0.01368451, 0.00310735, 0.00551272, 0.00816234, 0.00544281,\n",
              "         0.00877167, 0.00470326, 0.00473432, 0.00283933, 0.00554567,\n",
              "         0.0049683 , 0.00604966, 0.00735288, 0.01452979, 0.00663248,\n",
              "         0.00676014, 0.00281948, 0.01194001, 0.00195394, 0.00275294,\n",
              "         0.01892964]),\n",
              "  'std_test_score': array([0.00111562, 0.00123484, 0.00130714, 0.00102656, 0.00131263,\n",
              "         0.00108419, 0.00111562, 0.00123484, 0.00130714, 0.00102656,\n",
              "         0.00131263, 0.00108419, 0.00111562, 0.00123484, 0.00130714,\n",
              "         0.00102656, 0.00131263, 0.00108419, 0.00111562, 0.00123484,\n",
              "         0.00130714, 0.00102656, 0.00131263, 0.00108419, 0.00111562,\n",
              "         0.00123484, 0.00130714, 0.00102656, 0.00131263, 0.00108419,\n",
              "         0.00111562, 0.00123484, 0.00130714, 0.00102656, 0.00131263,\n",
              "         0.00108419])},\n",
              " {'colsample': 0.3, 'subsample': 0.9},\n",
              " 0.8076994011989284)"
            ]
          },
          "metadata": {
            "tags": []
          },
          "execution_count": 81
        }
      ]
    },
    {
      "cell_type": "code",
      "metadata": {
        "colab": {
          "base_uri": "https://localhost:8080/"
        },
        "id": "jXmqAzE9bFJh",
        "outputId": "8a8e84b8-536e-4775-d385-51b8bb954c2a"
      },
      "source": [
        "#From above we have the optimal subsample and colsample values\n",
        "# param_xgb['subsample']=xgb_gsearch3.best_params_['subsample']\n",
        "# param_xgb['colsample']=xgb_gsearch3.best_params_['colsample']\n",
        "param_xgb['subsample']=0.3\n",
        "param_xgb['colsample']=0.9\n",
        "#Similar to above code we will find optimal min_child_weight\n",
        "param_xgb_3= {'eta':[.5, .4,.3,.25, .20, .15, .10, .05,0.005]}\n",
        "\n",
        "xgb_gsearch4 = GridSearchCV(estimator = XGBClassifier(\n",
        "                                                              max_depth=param_xgb['max_depth'],\n",
        "                                                              min_child_weight=param_xgb['min_child_weight'],\n",
        "                                                              subsample=param_xgb['subsample'],\n",
        "                                                             colsample=param_xgb['colsample'],\n",
        "                                                              random_state=10), \n",
        "param_grid = param_xgb_3, scoring='accuracy',n_jobs=-1,iid=False, cv=5)\n",
        "xgb_gsearch4.fit(train_x_sampled,train_y_sampled)\n",
        "xgb_gsearch4.cv_results_, xgb_gsearch4.best_params_, xgb_gsearch4.best_score_"
      ],
      "execution_count": null,
      "outputs": [
        {
          "output_type": "execute_result",
          "data": {
            "text/plain": [
              "({'mean_fit_time': array([9.90950398, 9.85269909, 9.87812185, 9.81313348, 9.87389059,\n",
              "         9.81589851, 9.79375901, 9.8627459 , 9.05718918]),\n",
              "  'mean_score_time': array([0.17649722, 0.17983375, 0.17715526, 0.18227758, 0.18147535,\n",
              "         0.17980914, 0.17767496, 0.17962899, 0.16965919]),\n",
              "  'mean_test_score': array([0.80443365, 0.80443365, 0.80443365, 0.80443365, 0.80443365,\n",
              "         0.80443365, 0.80443365, 0.80443365, 0.80443365]),\n",
              "  'param_eta': masked_array(data=[0.5, 0.4, 0.3, 0.25, 0.2, 0.15, 0.1, 0.05, 0.005],\n",
              "               mask=[False, False, False, False, False, False, False, False,\n",
              "                     False],\n",
              "         fill_value='?',\n",
              "              dtype=object),\n",
              "  'params': [{'eta': 0.5},\n",
              "   {'eta': 0.4},\n",
              "   {'eta': 0.3},\n",
              "   {'eta': 0.25},\n",
              "   {'eta': 0.2},\n",
              "   {'eta': 0.15},\n",
              "   {'eta': 0.1},\n",
              "   {'eta': 0.05},\n",
              "   {'eta': 0.005}],\n",
              "  'rank_test_score': array([1, 1, 1, 1, 1, 1, 1, 1, 1], dtype=int32),\n",
              "  'split0_test_score': array([0.80238865, 0.80238865, 0.80238865, 0.80238865, 0.80238865,\n",
              "         0.80238865, 0.80238865, 0.80238865, 0.80238865]),\n",
              "  'split1_test_score': array([0.80555075, 0.80555075, 0.80555075, 0.80555075, 0.80555075,\n",
              "         0.80555075, 0.80555075, 0.80555075, 0.80555075]),\n",
              "  'split2_test_score': array([0.80439675, 0.80439675, 0.80439675, 0.80439675, 0.80439675,\n",
              "         0.80439675, 0.80439675, 0.80439675, 0.80439675]),\n",
              "  'split3_test_score': array([0.80531995, 0.80531995, 0.80531995, 0.80531995, 0.80531995,\n",
              "         0.80531995, 0.80531995, 0.80531995, 0.80531995]),\n",
              "  'split4_test_score': array([0.80451215, 0.80451215, 0.80451215, 0.80451215, 0.80451215,\n",
              "         0.80451215, 0.80451215, 0.80451215, 0.80451215]),\n",
              "  'std_fit_time': array([0.18093667, 0.01514382, 0.09936568, 0.01789642, 0.03984582,\n",
              "         0.06054348, 0.08929894, 0.03775933, 1.42095323]),\n",
              "  'std_score_time': array([0.00672252, 0.00636993, 0.01079596, 0.0084815 , 0.01171818,\n",
              "         0.00439766, 0.00965635, 0.00695368, 0.02452573]),\n",
              "  'std_test_score': array([0.00111562, 0.00111562, 0.00111562, 0.00111562, 0.00111562,\n",
              "         0.00111562, 0.00111562, 0.00111562, 0.00111562])},\n",
              " {'eta': 0.5},\n",
              " 0.8044336461987737)"
            ]
          },
          "metadata": {
            "tags": []
          },
          "execution_count": 89
        }
      ]
    },
    {
      "cell_type": "code",
      "metadata": {
        "colab": {
          "base_uri": "https://localhost:8080/"
        },
        "id": "UUxuCiTcd2js",
        "outputId": "bcc80707-91f7-4179-a317-191bf0541334"
      },
      "source": [
        "#From above we have the optimal learning rate\n",
        "param_xgb['eta']=xgb_gsearch4.best_params_['eta']\n",
        "param_xgb"
      ],
      "execution_count": null,
      "outputs": [
        {
          "output_type": "execute_result",
          "data": {
            "text/plain": [
              "{'colsample': 0.9,\n",
              " 'eta': 0.5,\n",
              " 'max_depth': 7,\n",
              " 'min_child_weight': 7,\n",
              " 'subsample': 0.3}"
            ]
          },
          "metadata": {
            "tags": []
          },
          "execution_count": 90
        }
      ]
    },
    {
      "cell_type": "code",
      "metadata": {
        "colab": {
          "base_uri": "https://localhost:8080/"
        },
        "id": "-Rugd4SNk3zH",
        "outputId": "e0a342cf-642a-47db-dcb2-923a4cc8d61f"
      },
      "source": [
        "# Since all the significant parameters have been tuned, it is now time to train the model with the new parameters\n",
        "tunned_xgb=XGBClassifier(\n",
        "                        colsample=param_xgb['colsample'],\n",
        "                         eta=param_xgb['eta'],\n",
        "                         max_depth=param_xgb['max_depth'],\n",
        "                         num_boost_round=1000,\n",
        "                         min_child_weight=param_xgb['min_child_weight'],\n",
        "                        subsample=param_xgb['subsample']\n",
        "                         )\n",
        "                         #tree_method=param_xgb['tree_method'])\n",
        "\n",
        "cross_val_score(tunned_xgb, train_x_sampled, train_y_sampled, \n",
        "                                              cv=3, scoring='f1_macro')\n",
        "tunned_xgb.fit(train_x_sampled, train_y_sampled)\n",
        "xgb_tuned_model_prediction=tunned_xgb.predict(test_x_sampled)\n",
        "print(\"Model accuracy:{0:.2f}% \".format(accuracy_score(test_y_sampled,xgb_tuned_model_prediction)*100))\n",
        "print(\"Model precision:{0:.2f}% \".format(precision_score(test_y_sampled,xgb_tuned_model_prediction)*100))\n",
        "print(\"Model Recall:{0:.2f}% \".format(recall_score(test_y_sampled,xgb_tuned_model_prediction)*100))\n",
        "print(\"Model F1_score:{0:.2f}% \".format(f1_score(test_y_sampled,xgb_tuned_model_prediction)*100))\n",
        "\n",
        "print(\"///////////////////////////////////////////////////\")\n",
        "print(xgb_baseline_performace)\n"
      ],
      "execution_count": null,
      "outputs": [
        {
          "output_type": "stream",
          "text": [
            "Model accuracy:80.32% \n",
            "Model precision:77.08% \n",
            "Model Recall:86.29% \n",
            "Model F1_score:81.43% \n",
            "///////////////////////////////////////////////////\n",
            "{'accuracy': 79.29582854955989, 'precision': 76.43692338053185, 'recall': 84.702859329725, 'f1_score': 80.3578838174274}\n"
          ],
          "name": "stdout"
        }
      ]
    },
    {
      "cell_type": "code",
      "metadata": {
        "colab": {
          "base_uri": "https://localhost:8080/"
        },
        "id": "GOj56-T4JN1N",
        "outputId": "61beb028-7000-4053-b860-5614647de591"
      },
      "source": [
        "#The last algorithm to be fine tunned is Gradient boosting\n",
        "# The first parameter to be fine-tunned is n_estimators\n",
        "from sklearn.model_selection import GridSearchCV \n",
        "from sklearn.ensemble import GradientBoostingClassifier\n",
        "#Lets take the default learning rate of 0.1 here and check the optimum number of trees for that. \n",
        "#For this purpose, we can do a grid search and test out values from 100 to 700 in steps of 100.\n",
        "param_gradboost_estimators= {'n_estimators':range(100,700,100)}\n",
        "param_gradboost={}\n",
        "gsearch1 = GridSearchCV(estimator = GradientBoostingClassifier(learning_rate=0.1,\n",
        "                                                               min_samples_split=500,\n",
        "                                                               min_samples_leaf=50,\n",
        "                                                               max_depth=8,max_features='sqrt',\n",
        "                                                               subsample=0.8,\n",
        "                                                               random_state=10), \n",
        "param_grid = param_gradboost_estimators, scoring='accuracy',n_jobs=-1,iid=False, cv=5)\n",
        "gsearch1.fit(train_x_sampled,train_y_sampled)\n",
        "gsearch1.cv_results_, gsearch1.best_params_, gsearch1.best_score_\n"
      ],
      "execution_count": null,
      "outputs": [
        {
          "output_type": "execute_result",
          "data": {
            "text/plain": [
              "({'mean_fit_time': array([ 8.43074045, 16.978297  , 25.47449117, 33.96976714, 42.42619138,\n",
              "         48.88413258]),\n",
              "  'mean_score_time': array([0.10961437, 0.21946869, 0.32833157, 0.43506474, 0.54892082,\n",
              "         0.62379904]),\n",
              "  'mean_test_score': array([0.80528758, 0.80483754, 0.80511448, 0.80374123, 0.80273728,\n",
              "         0.80186022]),\n",
              "  'param_n_estimators': masked_array(data=[100, 200, 300, 400, 500, 600],\n",
              "               mask=[False, False, False, False, False, False],\n",
              "         fill_value='?',\n",
              "              dtype=object),\n",
              "  'params': [{'n_estimators': 100},\n",
              "   {'n_estimators': 200},\n",
              "   {'n_estimators': 300},\n",
              "   {'n_estimators': 400},\n",
              "   {'n_estimators': 500},\n",
              "   {'n_estimators': 600}],\n",
              "  'rank_test_score': array([1, 3, 2, 4, 5, 6], dtype=int32),\n",
              "  'split0_test_score': array([0.80486961, 0.80331179, 0.8049273 , 0.80365797, 0.8014078 ,\n",
              "         0.80238865]),\n",
              "  'split1_test_score': array([0.80791645, 0.80808955, 0.80728175, 0.80716635, 0.80670475,\n",
              "         0.80578155]),\n",
              "  'split2_test_score': array([0.80428135, 0.80405055, 0.80318504, 0.80145404, 0.80156944,\n",
              "         0.80030004]),\n",
              "  'split3_test_score': array([0.80387745, 0.80422365, 0.80451215, 0.80243494, 0.80145404,\n",
              "         0.79908834]),\n",
              "  'split4_test_score': array([0.80549305, 0.80451215, 0.80566615, 0.80399285, 0.80255034,\n",
              "         0.80174254]),\n",
              "  'std_fit_time': array([0.06015848, 0.07610852, 0.14373755, 0.19939794, 0.14838053,\n",
              "         4.05671712]),\n",
              "  'std_score_time': array([0.0023196 , 0.00706913, 0.00360733, 0.00730055, 0.01372101,\n",
              "         0.04927275]),\n",
              "  'std_test_score': array([0.0014233 , 0.00167365, 0.0013507 , 0.00193594, 0.0020275 ,\n",
              "         0.00227101])},\n",
              " {'n_estimators': 100},\n",
              " 0.8052875786786066)"
            ]
          },
          "metadata": {
            "tags": []
          },
          "execution_count": 95
        }
      ]
    },
    {
      "cell_type": "code",
      "metadata": {
        "colab": {
          "base_uri": "https://localhost:8080/"
        },
        "id": "5bh8RoZ0c3vc",
        "outputId": "98d38063-f56b-4736-c6bc-b2d37b2eec87"
      },
      "source": [
        "# From above we have found the optimal number of tress\n",
        "param_gradboost['n_estimators']=gsearch1.best_params_['n_estimators']\n",
        "print(param_gradboost['n_estimators'])\n",
        "# The next parameter to be tuned is max_depth \n",
        "param_test2 = {'max_depth':range(5,12,2)}\n",
        "gsearch2 = GridSearchCV(estimator = GradientBoostingClassifier(learning_rate=0.1, \n",
        "                                                               n_estimators=param_gradboost['n_estimators'], \n",
        "                                                               max_features='sqrt', \n",
        "                                                               subsample=0.8,\n",
        "                                                                random_state=10), \n",
        "param_grid = param_test2, scoring='accuracy',n_jobs=-1,iid=False, cv=5)\n",
        "gsearch2.fit(train_x_sampled,train_y_sampled)\n",
        "gsearch2.cv_results_, gsearch2.best_params_, gsearch2.best_score_"
      ],
      "execution_count": null,
      "outputs": [
        {
          "output_type": "stream",
          "text": [
            "100\n"
          ],
          "name": "stdout"
        },
        {
          "output_type": "execute_result",
          "data": {
            "text/plain": [
              "({'mean_fit_time': array([ 6.06847439,  8.55505672, 14.60855598, 29.43433428]),\n",
              "  'mean_score_time': array([0.07236938, 0.10043693, 0.14582267, 0.20569592]),\n",
              "  'mean_test_score': array([0.80197566, 0.80580688, 0.8061877 , 0.8010409 ]),\n",
              "  'param_max_depth': masked_array(data=[5, 7, 9, 11],\n",
              "               mask=[False, False, False, False],\n",
              "         fill_value='?',\n",
              "              dtype=object),\n",
              "  'params': [{'max_depth': 5},\n",
              "   {'max_depth': 7},\n",
              "   {'max_depth': 9},\n",
              "   {'max_depth': 11}],\n",
              "  'rank_test_score': array([3, 2, 1, 4], dtype=int32),\n",
              "  'split0_test_score': array([0.79915763, 0.80521579, 0.80521579, 0.80106162]),\n",
              "  'split1_test_score': array([0.80503145, 0.80820495, 0.80820495, 0.80105014]),\n",
              "  'split2_test_score': array([0.80162714, 0.80439675, 0.80508915, 0.79879984]),\n",
              "  'split3_test_score': array([0.80151174, 0.80531995, 0.80410825, 0.80047314]),\n",
              "  'split4_test_score': array([0.80255034, 0.80589695, 0.80832035, 0.80381974]),\n",
              "  'std_fit_time': array([0.04855254, 0.0261356 , 0.16604279, 3.03994099]),\n",
              "  'std_score_time': array([0.00248107, 0.00287462, 0.0026029 , 0.02645001]),\n",
              "  'std_test_score': array([0.00189452, 0.00129103, 0.00173742, 0.00161661])},\n",
              " {'max_depth': 9},\n",
              " 0.8061876958538361)"
            ]
          },
          "metadata": {
            "tags": []
          },
          "execution_count": 96
        }
      ]
    },
    {
      "cell_type": "code",
      "metadata": {
        "colab": {
          "base_uri": "https://localhost:8080/"
        },
        "id": "ChgJijmbqUcl",
        "outputId": "492f0964-89ab-427b-e7b0-5c091bd1710d"
      },
      "source": [
        "# From above we have found the optimal number of tress\n",
        "param_gradboost['max_depth']=gsearch2.best_params_['max_depth']\n",
        "print(param_gradboost['max_depth'])\n",
        "# The next parameters to be tuned are max_depth and min_samples_split\n",
        "param_test2b = {'min_samples_split':range(300,1100,200)}\n",
        "gsearch2b = GridSearchCV(estimator = GradientBoostingClassifier(learning_rate=0.1, \n",
        "                                                               n_estimators=param_gradboost['n_estimators'], \n",
        "                                                              max_depth=param_gradboost['max_depth'],\n",
        "                                                               max_features='sqrt', \n",
        "                                                               subsample=0.8,\n",
        "                                                                random_state=10), \n",
        "param_grid = param_test2b, scoring='accuracy',n_jobs=-1,iid=False, cv=5)\n",
        "gsearch2b.fit(train_x_sampled,train_y_sampled)\n",
        "gsearch2b.cv_results_, gsearch2b.best_params_, gsearch2b.best_score_"
      ],
      "execution_count": null,
      "outputs": [
        {
          "output_type": "stream",
          "text": [
            "9\n"
          ],
          "name": "stdout"
        },
        {
          "output_type": "execute_result",
          "data": {
            "text/plain": [
              "({'mean_fit_time': array([9.92697849, 9.22304897, 8.82450233, 8.68513818]),\n",
              "  'mean_score_time': array([0.12717824, 0.12187352, 0.1162663 , 0.11043339]),\n",
              "  'mean_test_score': array([0.80660312, 0.80610692, 0.80592227, 0.80539144]),\n",
              "  'param_min_samples_split': masked_array(data=[300, 500, 700, 900],\n",
              "               mask=[False, False, False, False],\n",
              "         fill_value='?',\n",
              "              dtype=object),\n",
              "  'params': [{'min_samples_split': 300},\n",
              "   {'min_samples_split': 500},\n",
              "   {'min_samples_split': 700},\n",
              "   {'min_samples_split': 900}],\n",
              "  'rank_test_score': array([1, 2, 3, 4], dtype=int32),\n",
              "  'split0_test_score': array([0.80625433, 0.80527348, 0.80579275, 0.8049273 ]),\n",
              "  'split1_test_score': array([0.80958975, 0.80878195, 0.80762795, 0.80670475]),\n",
              "  'split2_test_score': array([0.80549305, 0.80641625, 0.80566615, 0.80537765]),\n",
              "  'split3_test_score': array([0.80497375, 0.80537765, 0.80555075, 0.80445445]),\n",
              "  'split4_test_score': array([0.80670475, 0.80468525, 0.80497375, 0.80549305]),\n",
              "  'std_fit_time': array([0.0857843 , 0.02925352, 0.06092928, 0.06502912]),\n",
              "  'std_score_time': array([0.00215224, 0.00226556, 0.00161941, 0.00918033]),\n",
              "  'std_test_score': array([0.00160867, 0.00144907, 0.00089771, 0.00075215])},\n",
              " {'min_samples_split': 300},\n",
              " 0.8066031244091253)"
            ]
          },
          "metadata": {
            "tags": []
          },
          "execution_count": 97
        }
      ]
    },
    {
      "cell_type": "code",
      "metadata": {
        "colab": {
          "base_uri": "https://localhost:8080/"
        },
        "id": "4nFbf1cYhtwH",
        "outputId": "fa0afeea-8725-449d-fa36-b29347508cc2"
      },
      "source": [
        "# From above we have found the optimal max_depth and min_samples_split\n",
        "param_gradboost['min_samples_split']=gsearch2b.best_params_['min_samples_split']\n",
        "print(\"min_samples_split: \",param_gradboost['min_samples_split'])\n",
        "# The next parameter to be tuned is min_samples_leaf \n",
        "param_test3 = {'min_samples_leaf':range(30,61,10)}\n",
        "gsearch3 = GridSearchCV(estimator = GradientBoostingClassifier(learning_rate=0.1, \n",
        "                                                               n_estimators=param_gradboost['n_estimators'],\n",
        "                                                               max_depth=param_gradboost['max_depth'],\n",
        "                                                               min_samples_split=param_gradboost['min_samples_split'],\n",
        "                                                               max_features='sqrt', subsample=0.8, random_state=10), \n",
        "param_grid = param_test3, scoring='accuracy',n_jobs=-1,iid=False, cv=5)\n",
        "gsearch3.fit(train_x_sampled,train_y_sampled)\n",
        "gsearch3.cv_results_, gsearch3.best_params_, gsearch3.best_score_"
      ],
      "execution_count": null,
      "outputs": [
        {
          "output_type": "stream",
          "text": [
            "min_samples_split:  300\n"
          ],
          "name": "stdout"
        },
        {
          "output_type": "execute_result",
          "data": {
            "text/plain": [
              "({'mean_fit_time': array([9.75453472, 9.7938827 , 9.65977001, 9.66025109]),\n",
              "  'mean_score_time': array([0.13194504, 0.13403616, 0.12789321, 0.12148533]),\n",
              "  'mean_test_score': array([0.80495293, 0.80588765, 0.8058992 , 0.80561069]),\n",
              "  'param_min_samples_leaf': masked_array(data=[30, 40, 50, 60],\n",
              "               mask=[False, False, False, False],\n",
              "         fill_value='?',\n",
              "              dtype=object),\n",
              "  'params': [{'min_samples_leaf': 30},\n",
              "   {'min_samples_leaf': 40},\n",
              "   {'min_samples_leaf': 50},\n",
              "   {'min_samples_leaf': 60}],\n",
              "  'rank_test_score': array([4, 2, 1, 3], dtype=int32),\n",
              "  'split0_test_score': array([0.80417724, 0.80550427, 0.80469652, 0.80550427]),\n",
              "  'split1_test_score': array([0.80745485, 0.81039755, 0.80901275, 0.80820495]),\n",
              "  'split2_test_score': array([0.80381974, 0.80341584, 0.80433905, 0.80514685]),\n",
              "  'split3_test_score': array([0.80445445, 0.80572385, 0.80526225, 0.80503145]),\n",
              "  'split4_test_score': array([0.80485835, 0.80439675, 0.80618545, 0.80416595]),\n",
              "  'std_fit_time': array([0.04903183, 0.08755546, 0.04628076, 0.0615675 ]),\n",
              "  'std_score_time': array([0.00731564, 0.00661504, 0.00549796, 0.01210017]),\n",
              "  'std_test_score': array([0.00129637, 0.0024019 , 0.00167704, 0.00136963])},\n",
              " {'min_samples_leaf': 50},\n",
              " 0.8058992014711774)"
            ]
          },
          "metadata": {
            "tags": []
          },
          "execution_count": 98
        }
      ]
    },
    {
      "cell_type": "code",
      "metadata": {
        "colab": {
          "base_uri": "https://localhost:8080/"
        },
        "id": "XPG7Y5cphvQs",
        "outputId": "f29078f9-84de-4dce-a177-64c150600411"
      },
      "source": [
        "# From above we have found the optimal min_samples_leaf\n",
        "param_gradboost['min_samples_leaf']=gsearch3.best_params_['min_samples_leaf']\n",
        "print(\"min_samples_leaf: \",(param_gradboost['min_samples_leaf']))\n",
        "# The next parameter to be tuned is max_features \n",
        "param_test4 = {'max_features':range(2,8,1)} #since there are only 7 features\n",
        "gsearch4 = GridSearchCV(estimator = GradientBoostingClassifier(learning_rate=0.1, \n",
        "                                                              n_estimators=param_gradboost['n_estimators'],\n",
        "                                                              max_depth=param_gradboost['max_depth'],\n",
        "                                                              min_samples_split=param_gradboost['min_samples_split'],\n",
        "                                                              min_samples_leaf=param_gradboost['min_samples_leaf'],\n",
        "                                                              subsample=0.8, random_state=10),\n",
        "param_grid = param_test4, scoring='accuracy',n_jobs=-1,iid=False, cv=5)\n",
        "gsearch4.fit(train_x_sampled,train_y_sampled)\n",
        "gsearch4.cv_results_, gsearch4.best_params_, gsearch4.best_score_"
      ],
      "execution_count": null,
      "outputs": [
        {
          "output_type": "stream",
          "text": [
            "min_samples_leaf:  50\n"
          ],
          "name": "stdout"
        },
        {
          "output_type": "execute_result",
          "data": {
            "text/plain": [
              "({'mean_fit_time': array([ 9.70646067, 11.56592345, 13.47901349, 15.35045586, 17.15114789,\n",
              "         18.59766216]),\n",
              "  'mean_score_time': array([0.12983098, 0.12486944, 0.12612386, 0.12537079, 0.12248187,\n",
              "         0.117764  ]),\n",
              "  'mean_test_score': array([0.8058992 , 0.80626849, 0.80640693, 0.80648774, 0.80644157,\n",
              "         0.80607229]),\n",
              "  'param_max_features': masked_array(data=[2, 3, 4, 5, 6, 7],\n",
              "               mask=[False, False, False, False, False, False],\n",
              "         fill_value='?',\n",
              "              dtype=object),\n",
              "  'params': [{'max_features': 2},\n",
              "   {'max_features': 3},\n",
              "   {'max_features': 4},\n",
              "   {'max_features': 5},\n",
              "   {'max_features': 6},\n",
              "   {'max_features': 7}],\n",
              "  'rank_test_score': array([6, 4, 3, 1, 2, 5], dtype=int32),\n",
              "  'split0_test_score': array([0.80469652, 0.80383106, 0.80746596, 0.80515809, 0.80590815,\n",
              "         0.80567736]),\n",
              "  'split1_test_score': array([0.80901275, 0.81108995, 0.80832035, 0.80855115, 0.80843575,\n",
              "         0.80791645]),\n",
              "  'split2_test_score': array([0.80433905, 0.80601235, 0.80624315, 0.80664705, 0.80583925,\n",
              "         0.80537765]),\n",
              "  'split3_test_score': array([0.80526225, 0.80416595, 0.80583925, 0.80508915, 0.80589695,\n",
              "         0.80503145]),\n",
              "  'split4_test_score': array([0.80618545, 0.80624315, 0.80416595, 0.80699325, 0.80612775,\n",
              "         0.80635855]),\n",
              "  'std_fit_time': array([0.13075225, 0.05724972, 0.1107409 , 0.10434359, 0.08997935,\n",
              "         1.00129484]),\n",
              "  'std_score_time': array([0.00707866, 0.00271277, 0.00472872, 0.00674435, 0.00186308,\n",
              "         0.00927606]),\n",
              "  'std_test_score': array([0.00167704, 0.00259517, 0.00142505, 0.00128551, 0.00100192,\n",
              "         0.00102027])},\n",
              " {'max_features': 5},\n",
              " 0.8064877369097099)"
            ]
          },
          "metadata": {
            "tags": []
          },
          "execution_count": 99
        }
      ]
    },
    {
      "cell_type": "code",
      "metadata": {
        "colab": {
          "base_uri": "https://localhost:8080/"
        },
        "id": "s_1SPC_AiZ6u",
        "outputId": "06c1ccd2-638b-4640-cf2b-610051ef7aa5"
      },
      "source": [
        "# From above we have found the optimal max_features\n",
        "param_gradboost['max_features']=gsearch4.best_params_['max_features']\n",
        "print(\"max_features:  \",(param_gradboost['max_features']))\n",
        "# The next and final parameter to be tuned is subsample \n",
        "param_test5 = {'subsample':[0.7,0.75,0.8,0.85,0.9]}\n",
        "gsearch5 = GridSearchCV(estimator = GradientBoostingClassifier(learning_rate=0.1, \n",
        "                                                              n_estimators=param_gradboost['n_estimators'],\n",
        "                                                              max_depth=param_gradboost['max_depth'],\n",
        "                                                              min_samples_split=param_gradboost['min_samples_split'],\n",
        "                                                              min_samples_leaf=param_gradboost['min_samples_leaf'],\n",
        "                                                              max_features=param_gradboost['max_features'],\n",
        "                                                              subsample=0.8, random_state=10),\n",
        "param_grid = param_test5, scoring='accuracy',n_jobs=-1,iid=False, cv=5)\n",
        "gsearch5.fit(train_x_sampled,train_y_sampled)\n",
        "gsearch5.cv_results_, gsearch5.best_params_, gsearch5.best_score_"
      ],
      "execution_count": null,
      "outputs": [
        {
          "output_type": "stream",
          "text": [
            "min_samples_leaf:   50\n"
          ],
          "name": "stdout"
        },
        {
          "output_type": "execute_result",
          "data": {
            "text/plain": [
              "({'mean_fit_time': array([14.02476101, 14.62811866, 15.41756697, 15.99477034, 15.55163245]),\n",
              "  'mean_score_time': array([0.12466788, 0.12537651, 0.12389817, 0.12476659, 0.11946626]),\n",
              "  'mean_test_score': array([0.80533374, 0.80600305, 0.80648774, 0.80645312, 0.8070301 ]),\n",
              "  'param_subsample': masked_array(data=[0.7, 0.75, 0.8, 0.85, 0.9],\n",
              "               mask=[False, False, False, False, False],\n",
              "         fill_value='?',\n",
              "              dtype=object),\n",
              "  'params': [{'subsample': 0.7},\n",
              "   {'subsample': 0.75},\n",
              "   {'subsample': 0.8},\n",
              "   {'subsample': 0.85},\n",
              "   {'subsample': 0.9}],\n",
              "  'rank_test_score': array([5, 4, 2, 3, 1], dtype=int32),\n",
              "  'split0_test_score': array([0.80440803, 0.80561966, 0.80515809, 0.80521579, 0.80648511]),\n",
              "  'split1_test_score': array([0.80826265, 0.80918585, 0.80855115, 0.80808955, 0.80993595]),\n",
              "  'split2_test_score': array([0.80583925, 0.80497375, 0.80664705, 0.80630085, 0.80537765]),\n",
              "  'split3_test_score': array([0.80324274, 0.80283884, 0.80508915, 0.80566615, 0.80670475]),\n",
              "  'split4_test_score': array([0.80491605, 0.80739715, 0.80699325, 0.80699325, 0.80664705]),\n",
              "  'std_fit_time': array([0.14501975, 0.07171221, 0.25374255, 0.08535996, 1.98730007]),\n",
              "  'std_score_time': array([0.00422063, 0.0022951 , 0.00254752, 0.00461665, 0.00808943]),\n",
              "  'std_test_score': array([0.00168747, 0.00215835, 0.00128551, 0.00101421, 0.00153129])},\n",
              " {'subsample': 0.9},\n",
              " 0.8070301023009148)"
            ]
          },
          "metadata": {
            "tags": []
          },
          "execution_count": 100
        }
      ]
    },
    {
      "cell_type": "code",
      "metadata": {
        "colab": {
          "base_uri": "https://localhost:8080/"
        },
        "id": "sNgKhh2w0aFm",
        "outputId": "2bfa783b-c0c4-4e1a-9ced-075a4f6ca56f"
      },
      "source": [
        "param_gradboost['subsample']=gsearch5.best_params_['subsample']\n",
        "# Finally tunned gradientboost model\n",
        "from sklearn.metrics import accuracy_score\n",
        "tunned_gradientboost=GradientBoostingClassifier(learning_rate=0.1, \n",
        "                                                              n_estimators=param_gradboost['n_estimators'],\n",
        "                                                              max_depth=param_gradboost['max_depth'],\n",
        "                                                              min_samples_split=param_gradboost['min_samples_split'],\n",
        "                                                              min_samples_leaf=param_gradboost['min_samples_leaf'],\n",
        "                                                              max_features=param_gradboost['max_features'],\n",
        "                                                              subsample=param_gradboost['subsample'],\n",
        "                                                               random_state=10)\n",
        "tunned_gradientboost.fit(train_x_sampled,train_y_sampled)\n",
        "gradientboost_tuned_prediction=tunned_gradientboost.predict(test_x_sampled)\n",
        "print(\"Model accuracy:{0:.2f}% \".format(accuracy_score(test_y_sampled,gradientboost_tuned_prediction)*100))\n",
        "print(\"Model precision:{0:.2f}% \".format(precision_score(test_y_sampled,gradientboost_tuned_prediction)*100))\n",
        "print(\"Model Recall:{0:.2f}% \".format(recall_score(test_y_sampled,gradientboost_tuned_prediction)*100))\n",
        "print(\"Model F1_score:{0:.2f}% \".format(f1_score(test_y_sampled,gradientboost_tuned_prediction)*100))\n",
        "\n",
        "print(\"////////////////////////////////\")\n",
        "print(gb_baseline_performace)"
      ],
      "execution_count": null,
      "outputs": [
        {
          "output_type": "stream",
          "text": [
            "Model accuracy:80.87% \n",
            "Model precision:77.60% \n",
            "Model Recall:86.80% \n",
            "Model F1_score:81.94% \n",
            "////////////////////////////////\n",
            "{'accuracy': 79.59652288010497, 'precision': 76.65304514794938, 'recall': 85.11836422284183, 'f1_score': 80.66421428941504}\n"
          ],
          "name": "stdout"
        }
      ]
    },
    {
      "cell_type": "code",
      "metadata": {
        "id": "-EC87bwNUUWn"
      },
      "source": [
        "'''After fine tunning each of the selected parameters, the improvement in accuracy is still acute, \n",
        "to further the improvements therefore, the results of the 3 models (random forest,xgboost and gradient boost)\n",
        "with the addition of k-nearest classifier are combined to create a stacked classifier.\n",
        "This classifier will take the probabilistic result of each model and compute the final prediction'''\n",
        "\n",
        "from mlxtend.classifier import StackingClassifier\n",
        "# The four models for the stacking classifier had already been created earlier, therfore no need to retrain\n",
        "# the models\n",
        "rr = RandomForestClassifier()\n",
        "stacked_model = StackingClassifier(classifiers=[tunned_rf, tunned_gradientboost, tunned_xgb], \n",
        "                          use_probas=False,\n",
        "                          meta_classifier=rr)"
      ],
      "execution_count": null,
      "outputs": []
    },
    {
      "cell_type": "code",
      "metadata": {
        "colab": {
          "base_uri": "https://localhost:8080/"
        },
        "id": "IzVtLPa9YGJB",
        "outputId": "985e933e-1016-4ab9-c059-8f4b6ad99ebf"
      },
      "source": [
        "# compare results\n",
        "print('3-fold cross validation:\\n')\n",
        "\n",
        "for clf, label in zip([ tunned_rf, tunned_gradientboost, tunned_xgb,stacked_model], \n",
        "                      [\n",
        "                       'Random Forest', \n",
        "                       'Gradient boost',\n",
        "                       'XG boost',\n",
        "                       'StackingClassifier']):\n",
        "  \n",
        "    scores = cross_val_score(clf, train_x_sampled, train_y_sampled, \n",
        "                                              cv=3, scoring='accuracy')\n",
        "    print(\"accuracy: %0.2f (+/- %0.2f) [%s]\" \n",
        "          % (scores.mean(), scores.std(), label))"
      ],
      "execution_count": null,
      "outputs": [
        {
          "output_type": "stream",
          "text": [
            "3-fold cross validation:\n",
            "\n",
            "F1 Scores: 0.80 (+/- 0.00) [Random Forest]\n",
            "F1 Scores: 0.81 (+/- 0.00) [Gradient boost]\n",
            "F1 Scores: 0.80 (+/- 0.00) [XG boost]\n",
            "F1 Scores: 0.80 (+/- 0.00) [StackingClassifier]\n"
          ],
          "name": "stdout"
        }
      ]
    },
    {
      "cell_type": "code",
      "metadata": {
        "colab": {
          "base_uri": "https://localhost:8080/"
        },
        "id": "_LG7EmhATml7",
        "outputId": "4dbf80c9-16ea-4f6a-fe1e-76ea01de9044"
      },
      "source": [
        "stacked_model.fit(train_x_sampled,train_y_sampled)\n",
        "stacked_prediction=stacked_model.predict(test_x_sampled)\n",
        "print(\"Model accuracy:{0:.2f}% \".format(accuracy_score(test_y_sampled,stacked_prediction)*100))\n",
        "print(\"Model precision:{0:.2f}% \".format(precision_score(test_y_sampled,stacked_prediction)*100))\n",
        "print(\"Model Recall:{0:.2f}% \".format(recall_score(test_y_sampled,stacked_prediction)*100))\n",
        "print(\"Model F1_score:{0:.2f}% \".format(f1_score(test_y_sampled,stacked_prediction)*100))"
      ],
      "execution_count": null,
      "outputs": [
        {
          "output_type": "stream",
          "text": [
            "Model accuracy:80.80% \n",
            "Model precision:77.83% \n",
            "Model Recall:86.16% \n",
            "Model F1_score:81.78% \n"
          ],
          "name": "stdout"
        }
      ]
    },
    {
      "cell_type": "code",
      "metadata": {
        "colab": {
          "base_uri": "https://localhost:8080/"
        },
        "id": "J9yoibjIUQUY",
        "outputId": "92b1282e-d6e0-440d-be1c-20537cf40297"
      },
      "source": [
        "from sklearn.ensemble import  VotingClassifier\n",
        "eclf1 = VotingClassifier(estimators=[('rf', tunned_rf), ('gb', tunned_gradientboost), ('xgb', tunned_xgb)], voting='hard')\n",
        "eclf1 = eclf1.fit(train_x_sampled,train_y_sampled)\n",
        "voting_prediction=eclf1.predict(test_x_sampled)\n",
        "print(\"Model accuracy:{0:.2f}% \".format(accuracy_score(test_y_sampled,voting_prediction)*100))\n",
        "print(\"Model precision:{0:.2f}% \".format(precision_score(test_y_sampled,voting_prediction)*100))\n",
        "print(\"Model Recall:{0:.2f}% \".format(recall_score(test_y_sampled,voting_prediction)*100))\n",
        "print(\"Model F1_score:{0:.2f}% \".format(f1_score(test_y_sampled,voting_prediction)*100))"
      ],
      "execution_count": null,
      "outputs": [
        {
          "output_type": "stream",
          "text": [
            "Model accuracy:80.74% \n",
            "Model precision:77.59% \n",
            "Model Recall:86.45% \n",
            "Model F1_score:81.78% \n"
          ],
          "name": "stdout"
        }
      ]
    },
    {
      "cell_type": "code",
      "metadata": {
        "colab": {
          "base_uri": "https://localhost:8080/",
          "height": 35
        },
        "id": "bWLc_t8iU6Uc",
        "outputId": "012a5adf-f4f3-406b-eb29-d4aad47077e9"
      },
      "source": [
        "# Comparing all the results, the final selected prediction model is: Gradient boosting:\n",
        "'''Model accuracy:80.87% \n",
        "Model precision:77.60% \n",
        "Model Recall:86.80% \n",
        "Model F1_score:81.94% '''"
      ],
      "execution_count": null,
      "outputs": [
        {
          "output_type": "execute_result",
          "data": {
            "application/vnd.google.colaboratory.intrinsic+json": {
              "type": "string"
            },
            "text/plain": [
              "'Model accuracy:80.87% \\nModel precision:77.60% \\nModel Recall:86.80% \\nModel F1_score:81.94% '"
            ]
          },
          "metadata": {
            "tags": []
          },
          "execution_count": 1
        }
      ]
    }
  ]
}